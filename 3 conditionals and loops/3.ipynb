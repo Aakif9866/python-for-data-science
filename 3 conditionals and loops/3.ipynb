{
 "cells": [
  {
   "cell_type": "markdown",
   "metadata": {},
   "source": [
    "# loops and conditionals "
   ]
  },
  {
   "cell_type": "code",
   "execution_count": 3,
   "metadata": {},
   "outputs": [
    {
     "name": "stdout",
     "output_type": "stream",
     "text": [
      "this is not aakif\n"
     ]
    }
   ],
   "source": [
    "name= \"aaki\"\n",
    "if name==\"aakif\":\n",
    "    print(\"this is aakif\")\n",
    "else:\n",
    "    print(\"this is not aakif\")"
   ]
  },
  {
   "cell_type": "code",
   "execution_count": 5,
   "metadata": {},
   "outputs": [
    {
     "name": "stdout",
     "output_type": "stream",
     "text": [
      "probability is greater than 0.5\n"
     ]
    }
   ],
   "source": [
    "#check if probability is less than 0.5\n",
    "prob = 0.5\n",
    "if prob >=0.5:\n",
    "    print(\"probability is greater than 0.5\")\n",
    "elif prob > 1 or prob <0:\n",
    "    print(\"this isnt possible\")\n",
    "else:\n",
    "    print(\" prob less  than 0.5\")"
   ]
  },
  {
   "cell_type": "code",
   "execution_count": 2,
   "metadata": {},
   "outputs": [
    {
     "name": "stdout",
     "output_type": "stream",
     "text": [
      "pallavi is present\n"
     ]
    }
   ],
   "source": [
    "names = [\"shardul\",\"tripathi\",\"sitaram\",\"pallavi\"]\n",
    "if \"pallavi\" in names:\n",
    "    print(\"pallavi is present\")"
   ]
  },
  {
   "cell_type": "markdown",
   "metadata": {},
   "source": [
    "## Now we'll be doing loops "
   ]
  },
  {
   "cell_type": "code",
   "execution_count": 7,
   "metadata": {},
   "outputs": [
    {
     "name": "stdout",
     "output_type": "stream",
     "text": [
      "shardul\n",
      "hey there shardul ! \n",
      "\n",
      "tripathi\n",
      "hello tripathi jee+\n",
      "\n",
      "sitaram\n",
      "Happy to have you here\n",
      "\n",
      "pallavi\n",
      "Happy to have you here\n",
      "\n"
     ]
    }
   ],
   "source": [
    "for name in names:\n",
    "    print(name)\n",
    "    if(name == \"shardul\"):\n",
    "        print(\"hey there shardul ! \\n\")\n",
    "        # break # break the loop\n",
    "    elif name == \"tripathi\":\n",
    "        print(\"hello tripathi jee+\\n\")\n",
    "        continue # continue the  loop to next \n",
    "    else:\n",
    "        print(\"Happy to have you here\\n\")\n",
    "        # here you can use pass to just continue the loop \n",
    "        # pass literally does nothing to the code\n",
    "\n",
    "\n",
    "    "
   ]
  },
  {
   "cell_type": "code",
   "execution_count": 10,
   "metadata": {},
   "outputs": [
    {
     "name": "stdout",
     "output_type": "stream",
     "text": [
      "i ->  1\n",
      "i ->  2\n",
      "i ->  3\n",
      "i ->  4\n",
      "i ->  5\n",
      "i ->  6\n",
      "i ->  7\n",
      "i ->  8\n",
      "i ->  9\n"
     ]
    }
   ],
   "source": [
    "# to loop through numbers \n",
    "for i  in range(1,10): # start to end-1 ie 1 to 9\n",
    "    print(\"i -> \", i)"
   ]
  },
  {
   "cell_type": "code",
   "execution_count": 12,
   "metadata": {},
   "outputs": [
    {
     "name": "stdout",
     "output_type": "stream",
     "text": [
      "solving  1  th/st problem \n",
      "solving  2  th/st problem \n",
      "solving  3  th/st problem \n",
      "solving  4  th/st problem \n",
      "solving  5  th/st problem \n",
      "solving  6  th/st problem \n",
      "solving  7  th/st problem \n",
      "solving  8  th/st problem \n",
      "solving  9  th/st problem \n",
      "solving  10  th/st problem \n"
     ]
    }
   ],
   "source": [
    "# while loop \n",
    "\n",
    "# use while loop to solve 10 leetcode problems\n",
    "i = 0\n",
    "\n",
    "while (i<10):\n",
    "    print(\"solving \",i+1,\" th/st problem \")\n",
    "    i+=1"
   ]
  },
  {
   "cell_type": "code",
   "execution_count": 14,
   "metadata": {},
   "outputs": [
    {
     "name": "stdout",
     "output_type": "stream",
     "text": [
      "0\n",
      "1\n",
      "2\n",
      "3\n",
      "4\n",
      "5\n",
      "6\n",
      "7\n",
      "8\n",
      "9\n"
     ]
    }
   ],
   "source": [
    "# another way to create is an infinite while loop \n",
    "\n",
    "i = 10 # decrease it to 0\n",
    "cnt  = 0\n",
    "\n",
    "while True:\n",
    "    print(cnt)\n",
    "    cnt+=1 # increase the counter \n",
    "    i -=1  # decrease loop\n",
    "    if(i==0):break\n",
    "\n"
   ]
  },
  {
   "cell_type": "code",
   "execution_count": 23,
   "metadata": {},
   "outputs": [
    {
     "name": "stdout",
     "output_type": "stream",
     "text": [
      "name\n",
      "suit_size\n",
      "allergies\n",
      "Elon Musk\n",
      "Medium\n",
      "peanuts\n",
      "name\n",
      "Elon Musk \n",
      "\n",
      "suit_size\n",
      "Medium \n",
      "\n",
      "allergies\n",
      "peanuts \n",
      "\n"
     ]
    }
   ],
   "source": [
    "astronaut = {\n",
    "    \"name\":\"Elon Musk\", \n",
    "    \"suit_size\": \"Medium\", \n",
    "    \"allergies\":\"peanuts\"\n",
    "}\n",
    "\n",
    "astronaut.keys() \n",
    "astronaut.values()\n",
    "\n",
    "# now you can iterate throught these\n",
    "\n",
    "# Loop through keys in a dictionary\n",
    "for key in astronaut.keys(): \n",
    "    print(key)\n",
    "\n",
    "\n",
    "\n",
    "# Loop through values in a dictionary\n",
    "for value in astronaut.values():\n",
    "    print(value)\n",
    "\n",
    "# Loop through keys and values at the same time \n",
    "for key, value in astronaut.items():\n",
    "    print(key)\n",
    "    print(value, '\\n')\n",
    "\n",
    "\n"
   ]
  },
  {
   "cell_type": "code",
   "execution_count": 30,
   "metadata": {},
   "outputs": [
    {
     "name": "stdout",
     "output_type": "stream",
     "text": [
      "['Shardul', 'Tripathi', 'Sitaram', 'Pallavi']\n",
      "['Shardul', 'Tripathi', 'Sitaram', 'Pallavi']\n",
      "['shardul', 'tripathi', 'sitaram', 'pallavi']\n"
     ]
    }
   ],
   "source": [
    "list_name = []\n",
    "for name in names:\n",
    "    list_name.append(name.title()) \n",
    "print(list_name)\n",
    "\n",
    "\n",
    "# List comprehension -> do it directly \n",
    "new_list = [name.title() for name in names]\n",
    "print(new_list)\n",
    "\n",
    "print(names)"
   ]
  },
  {
   "cell_type": "code",
   "execution_count": null,
   "metadata": {},
   "outputs": [],
   "source": []
  }
 ],
 "metadata": {
  "kernelspec": {
   "display_name": "Python 3",
   "language": "python",
   "name": "python3"
  },
  "language_info": {
   "codemirror_mode": {
    "name": "ipython",
    "version": 3
   },
   "file_extension": ".py",
   "mimetype": "text/x-python",
   "name": "python",
   "nbconvert_exporter": "python",
   "pygments_lexer": "ipython3",
   "version": "3.10.7"
  }
 },
 "nbformat": 4,
 "nbformat_minor": 2
}
