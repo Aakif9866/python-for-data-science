{
 "cells": [
  {
   "cell_type": "markdown",
   "metadata": {},
   "source": [
    "##  inheritance and abstractions"
   ]
  },
  {
   "cell_type": "code",
   "execution_count": 3,
   "metadata": {},
   "outputs": [],
   "source": [
    "# the process of child-class receiving the properties of parent-class is known as inheritance\n",
    "\n",
    "#Syntax\n",
    "# class BaseClass:\n",
    "#     #body of base class\n",
    "# class DerivedClass(BaseClass):\n",
    "#     #body of derived class"
   ]
  },
  {
   "cell_type": "code",
   "execution_count": 1,
   "metadata": {},
   "outputs": [
    {
     "name": "stdout",
     "output_type": "stream",
     "text": [
      "This is father property\n",
      "Son has a job\n"
     ]
    }
   ],
   "source": [
    "class Father:\n",
    "    def father_property(self):\n",
    "        print(\"This is father property\")\n",
    "\n",
    "class Son(Father):\n",
    "    def job(self):\n",
    "        print(\"Son has a job\")\n",
    "\n",
    "child_obj = Son()\n",
    "child_obj.father_property()\n",
    "child_obj.job()"
   ]
  },
  {
   "cell_type": "code",
   "execution_count": 2,
   "metadata": {},
   "outputs": [],
   "source": [
    "# parent class will not have access to the property of child class but child class will have access to both"
   ]
  },
  {
   "cell_type": "code",
   "execution_count": 3,
   "metadata": {},
   "outputs": [
    {
     "name": "stdout",
     "output_type": "stream",
     "text": [
      "inside the child class\n",
      "Inside Parent class\n"
     ]
    }
   ],
   "source": [
    "class Fruit:\n",
    "    def fruit_info(self):\n",
    "        print(\"Inside Parent class\")\n",
    "class Apple(Fruit):\n",
    "    def apple_info(self):\n",
    "        print(\"inside the child class\")\n",
    "obj = Apple()\n",
    "obj.apple_info()\n",
    "obj.fruit_info()"
   ]
  },
  {
   "cell_type": "code",
   "execution_count": 4,
   "metadata": {},
   "outputs": [
    {
     "name": "stdout",
     "output_type": "stream",
     "text": [
      "inside the child class\n",
      "Inside Child class\n"
     ]
    }
   ],
   "source": [
    "class Fruit:\n",
    "    def fruit_info(self):\n",
    "        print(\"Inside Parent class\")\n",
    "class Apple(Fruit):\n",
    "    def fruit_info(self):\n",
    "        print(\"Inside Child class\")\n",
    "    def apple_info(self):\n",
    "        print(\"inside the child class\")\n",
    "\n",
    "\n",
    "#  method overriding -> child class is very powerful \n",
    "apple = Apple()\n",
    "apple.apple_info()\n",
    "apple.fruit_info() # prints the overridden function"
   ]
  },
  {
   "cell_type": "code",
   "execution_count": 6,
   "metadata": {},
   "outputs": [
    {
     "name": "stdout",
     "output_type": "stream",
     "text": [
      "I am your father and having property of mine and your grandfather as well\n",
      "I am your grandfather\n",
      "I am son and having property of both my father and grand father\n"
     ]
    }
   ],
   "source": [
    "# mulilevel inheritance\n",
    "\n",
    "class GrandFather:\n",
    "    def prop_grand_father(self):\n",
    "        print(\"I am your grandfather\")\n",
    "class Father(GrandFather):\n",
    "    def prop_father(self):\n",
    "        print(\"I am your father and having property of mine and your grandfather as well\")\n",
    "class Son(Father):\n",
    "    def prop_son(self):\n",
    "        print(\"I am son and having property of both my father and grand father\")\n",
    "\n",
    "son = Son()\n",
    "son.prop_father()\n",
    "son.prop_grand_father()\n",
    "son.prop_son()"
   ]
  },
  {
   "cell_type": "code",
   "execution_count": 7,
   "metadata": {},
   "outputs": [
    {
     "name": "stdout",
     "output_type": "stream",
     "text": [
      "method 1 of Parent class 1\n",
      "method 2 of Parent class 2\n",
      "child method\n"
     ]
    }
   ],
   "source": [
    "# now we can check multple inheritance\n",
    "\n",
    "#  ie 1 class taking from 2 or more classes at a time\n",
    "\n",
    "class ParentClass1:\n",
    "    def method1(self):\n",
    "        print(\"method 1 of Parent class 1\")\n",
    "class ParentClass2:\n",
    "    def method2(self):\n",
    "        print(\"method 2 of Parent class 2\")\n",
    "class ChildClass(ParentClass1, ParentClass2):\n",
    "    def child_method(self):\n",
    "        print(\"child method\")\n",
    "child = ChildClass()\n",
    "child.method1()\n",
    "child.method2()\n",
    "child.child_method()\n"
   ]
  },
  {
   "cell_type": "code",
   "execution_count": 9,
   "metadata": {},
   "outputs": [
    {
     "name": "stdout",
     "output_type": "stream",
     "text": [
      "method of class c\n"
     ]
    }
   ],
   "source": [
    "# diamond problem\n",
    "# It occurs when a class inherits from two classes that both derive from a single base class, forming a diamond-shaped inheritance diagram. This can lead to ambiguity about which version of the base class members should be used by the derived class.\n",
    "\n",
    "class A:\n",
    "    def method(self):\n",
    "        print(\"Method of class A\")\n",
    "class B(A):\n",
    "    def method(self):\n",
    "        print(\"Method of class B\")\n",
    "class C(A):\n",
    "    def method(self):\n",
    "        print(\"method of class c\")\n",
    "class D(C, B):\n",
    "    pass\n",
    "\n",
    "d = D()\n",
    "d.method() # method of class c"
   ]
  },
  {
   "cell_type": "code",
   "execution_count": 10,
   "metadata": {},
   "outputs": [
    {
     "name": "stdout",
     "output_type": "stream",
     "text": [
      "This is vehicle\n",
      "This is car info BMW\n",
      "This is vehicle\n",
      "Truck info Ford\n"
     ]
    }
   ],
   "source": [
    "class Vehicle:\n",
    "    def info(self):\n",
    "        print(\"This is vehicle\")\n",
    "class Car(Vehicle):\n",
    "    def car_info(self, name):\n",
    "        print(\"This is car info\", name)\n",
    "class Truck(Vehicle):\n",
    "    def truck_info(self, name):\n",
    "        print(\"Truck info\", name)\n",
    "    \n",
    "obj1 = Car()\n",
    "obj1.info()\n",
    "obj1.car_info(\"BMW\")\n",
    "obj2 = Truck()\n",
    "obj2.info()\n",
    "obj2.truck_info(\"Ford\")"
   ]
  },
  {
   "cell_type": "code",
   "execution_count": 11,
   "metadata": {},
   "outputs": [],
   "source": [
    "#Hybrid inheritance >> multiple types or a combination of different inheritence"
   ]
  },
  {
   "cell_type": "code",
   "execution_count": 12,
   "metadata": {},
   "outputs": [
    {
     "name": "stdout",
     "output_type": "stream",
     "text": [
      "Inside car class\n",
      "inside sports car class\n",
      "Inside Vehicle class\n"
     ]
    }
   ],
   "source": [
    "class Vehicle:\n",
    "    def vehicle_info(self):\n",
    "        print(\"Inside Vehicle class\")\n",
    "class Car(Vehicle):\n",
    "    def car_info(self):\n",
    "        print(\"Inside car class\")\n",
    "class Truck(Vehicle):\n",
    "    def truck_info(self, name):\n",
    "        print(\"Truck info\", name)\n",
    "        \n",
    "class SportsCar(Car, Vehicle):\n",
    "    def sports_info(self):\n",
    "        print(\"inside sports car class\")\n",
    "# again a diamond problem \n",
    "\n",
    "s_car = SportsCar()\n",
    "s_car.car_info()\n",
    "s_car.sports_info()\n",
    "s_car.vehicle_info()\n"
   ]
  },
  {
   "cell_type": "markdown",
   "metadata": {},
   "source": [
    "## #Abstraction -> concept of hiding the complex implementation"
   ]
  },
  {
   "cell_type": "code",
   "execution_count": 15,
   "metadata": {},
   "outputs": [],
   "source": [
    "import abc\n",
    "\n",
    "class PwSkills :\n",
    "    \n",
    "    @abc.abstractmethod\n",
    "    def student_details(self):\n",
    "        pass\n",
    "    \n",
    "    @abc.abstractmethod\n",
    "    def student_assignment(self):\n",
    "        pass\n",
    "    \n",
    "    @abc.abstractmethod\n",
    "    def student_marks(self):\n",
    "        pass\n",
    "## all these functions are defined but not implemented \n",
    "# they are defined later on by inheriting this class\n",
    "\n"
   ]
  },
  {
   "cell_type": "code",
   "execution_count": 16,
   "metadata": {},
   "outputs": [],
   "source": [
    "class DataScience(PwSkills):\n",
    "    def student_details(self):\n",
    "        return \"data science course student details\"\n",
    "    def student_marks(self):\n",
    "        return \"give ds course student's marks\""
   ]
  },
  {
   "cell_type": "code",
   "execution_count": 17,
   "metadata": {},
   "outputs": [],
   "source": [
    "class WebDev(PwSkills):\n",
    "    def student_assignment(self):\n",
    "        return \"This will give student assignment of web dev class\"\n",
    "    def student_marks(self):\n",
    "        return \"give web dev student's marks\""
   ]
  },
  {
   "cell_type": "code",
   "execution_count": 19,
   "metadata": {},
   "outputs": [
    {
     "name": "stdout",
     "output_type": "stream",
     "text": [
      "data science course student details\n",
      "give web dev student's marks\n"
     ]
    }
   ],
   "source": [
    "ds = DataScience()\n",
    "print(ds.student_details())\n",
    "wb = WebDev()\n",
    "print(wb.student_marks())\n"
   ]
  },
  {
   "cell_type": "code",
   "execution_count": 23,
   "metadata": {},
   "outputs": [
    {
     "name": "stdout",
     "output_type": "stream",
     "text": [
      "Area of rectangle : length * breadth\n",
      "Area of circle : pi r**2\n"
     ]
    }
   ],
   "source": [
    "class Shape(abc.ABC):\n",
    "    @abc.abstractmethod\n",
    "    def calculate_area(self):\n",
    "        pass\n",
    "\n",
    "class Rectange(Shape):\n",
    "    def calculate_area(self):\n",
    "        return \"Area of rectangle : length * breadth\"\n",
    "class Circle(Shape):\n",
    "    def calculate_area(self):\n",
    "        return \"Area of circle : pi r**2\"\n",
    "\n",
    "rect = Rectange()\n",
    "print(rect.calculate_area()) \n",
    "\n",
    "c = Circle()\n",
    "print(c.calculate_area())"
   ]
  },
  {
   "cell_type": "code",
   "execution_count": null,
   "metadata": {},
   "outputs": [],
   "source": []
  }
 ],
 "metadata": {
  "kernelspec": {
   "display_name": "Python 3",
   "language": "python",
   "name": "python3"
  },
  "language_info": {
   "codemirror_mode": {
    "name": "ipython",
    "version": 3
   },
   "file_extension": ".py",
   "mimetype": "text/x-python",
   "name": "python",
   "nbconvert_exporter": "python",
   "pygments_lexer": "ipython3",
   "version": "3.10.7"
  }
 },
 "nbformat": 4,
 "nbformat_minor": 2
}
