{
 "cells": [
  {
   "cell_type": "markdown",
   "metadata": {},
   "source": [
    "# basics of class and object"
   ]
  },
  {
   "cell_type": "code",
   "execution_count": 1,
   "metadata": {},
   "outputs": [
    {
     "name": "stdout",
     "output_type": "stream",
     "text": [
      "<__main__.Car object at 0x00000258F45C37F0>\n"
     ]
    }
   ],
   "source": [
    "# class is a template with certain methods and attributes \n",
    "# it follows camel case Starting letter capital\n",
    "\n",
    "# we use class to create an instance or a variable object\n",
    "\n",
    "class Car:\n",
    "    pass\n",
    "\n",
    "a = Car()\n",
    "print(a)"
   ]
  },
  {
   "cell_type": "code",
   "execution_count": 2,
   "metadata": {},
   "outputs": [],
   "source": [
    "class Car:\n",
    "    def accelerate():\n",
    "        print(\"car is accelerating\")\n",
    "    "
   ]
  },
  {
   "cell_type": "code",
   "execution_count": 1,
   "metadata": {},
   "outputs": [],
   "source": [
    "# g = Car()\n",
    "# g.accelerate()\n",
    "# throws an error\n"
   ]
  },
  {
   "cell_type": "code",
   "execution_count": 8,
   "metadata": {},
   "outputs": [
    {
     "name": "stdout",
     "output_type": "stream",
     "text": [
      "car is running\n"
     ]
    }
   ],
   "source": [
    "class car:\n",
    "    def run(self):\n",
    "        print(\"car is running\")\n",
    "\n",
    "a = car()\n",
    "a.run()\n",
    "\n",
    "# gives no error -> due to self this gives no error \n",
    "\n",
    "\n",
    "# self is a variable that  represents instance of the class using which you can access attrbute and method\n"
   ]
  },
  {
   "cell_type": "code",
   "execution_count": 14,
   "metadata": {},
   "outputs": [
    {
     "name": "stdout",
     "output_type": "stream",
     "text": [
      "stop the car\n",
      "car is running\n"
     ]
    }
   ],
   "source": [
    "class car:\n",
    "    def run(self):\n",
    "        print(\"car is running\")\n",
    "    def brake(self):\n",
    "        print(\"stop the car\")\n",
    "\n",
    "\n",
    "b = car()\n",
    "b.brake()\n",
    "b.run()\n",
    "\n",
    "\n",
    "\n",
    "\n"
   ]
  },
  {
   "cell_type": "code",
   "execution_count": 19,
   "metadata": {},
   "outputs": [
    {
     "name": "stdout",
     "output_type": "stream",
     "text": [
      "1000\n"
     ]
    }
   ],
   "source": [
    "class bank:\n",
    "    amt = 1000\n",
    "    def deposit(self):\n",
    "        print(\"money deposited\")\n",
    "\n",
    "    def withdraw(self):\n",
    "        print(\"money withdrawn\")\n",
    "\n",
    "\n",
    "obj =  bank()\n",
    "print(obj.amt)"
   ]
  },
  {
   "cell_type": "code",
   "execution_count": 22,
   "metadata": {},
   "outputs": [
    {
     "name": "stdout",
     "output_type": "stream",
     "text": [
      "[2, 4]\n",
      "[1, 3, 5]\n"
     ]
    }
   ],
   "source": [
    "class listops:\n",
    "    l1 = [1,2,3,4,5]\n",
    "    def extract_even(self,l):\n",
    "        l1 = []\n",
    "        for i in l:\n",
    "            if i%2 == 0:\n",
    "                l1.append(i)\n",
    "        return l1\n",
    "    def extract_odd(self,l):\n",
    "        l1 = []\n",
    "        for i in l:\n",
    "            if i%2 != 0:\n",
    "                l1.append(i)\n",
    "        return l1\n",
    "\n",
    "lnew = listops()\n",
    "\n",
    "print(lnew.extract_even(lnew.l1))\n",
    "print(lnew.extract_odd(lnew.l1))"
   ]
  },
  {
   "cell_type": "code",
   "execution_count": 29,
   "metadata": {},
   "outputs": [
    {
     "name": "stdout",
     "output_type": "stream",
     "text": [
      "[2, 4]\n",
      "[1, 3, 5]\n"
     ]
    }
   ],
   "source": [
    "# now we will try to give it some variable input to work out with\n",
    "\n",
    "# a pytonic way todo this is dunder method\n",
    "\n",
    "class listops:\n",
    "    def __init__(self,l):\n",
    "        self.l = l\n",
    "        # now this becomes a class varaible \n",
    "        # it can be used inside the class using l.self anywhere \n",
    "\n",
    "\n",
    "    def extract_even(self,l):\n",
    "        l1 = []\n",
    "        for i in l:\n",
    "            if i%2 == 0:\n",
    "                l1.append(i)\n",
    "        return l1\n",
    "    def extract_odd(self,l):\n",
    "        l1 = []\n",
    "        for i in l:\n",
    "            if i%2 != 0:\n",
    "                l1.append(i)\n",
    "        return l1\n",
    "\n",
    "lnew = listops([1,2,3,4,5])\n",
    "\n",
    "print(lnew.extract_even(lnew.l))\n",
    "print(lnew.extract_odd(lnew.l))\n",
    "\n"
   ]
  },
  {
   "cell_type": "markdown",
   "metadata": {},
   "source": []
  },
  {
   "cell_type": "code",
   "execution_count": 32,
   "metadata": {},
   "outputs": [
    {
     "name": "stdout",
     "output_type": "stream",
     "text": [
      "[1, 2, 3, 4, 5]\n",
      "[2, 4]\n",
      "[1, 3, 5]\n"
     ]
    }
   ],
   "source": [
    "# now we will try to give it some variable input to work out with\n",
    "\n",
    "# a pytonic way todo this is dunder method\n",
    "\n",
    "class listops:\n",
    "    def __init__(self,l):\n",
    "        self.l = l\n",
    "        # now this becomes a class varaible \n",
    "        # it can be used inside the class using l.self anywhere \n",
    "\n",
    "\n",
    "    def extract_even(self):\n",
    "        l1 = []\n",
    "        for i in self.l:\n",
    "            if i%2 == 0:\n",
    "                l1.append(i)\n",
    "        return l1\n",
    "    def extract_odd(self):\n",
    "        l1 = []\n",
    "        for i in self.l:\n",
    "            if i%2 != 0:\n",
    "                l1.append(i)\n",
    "        return l1\n",
    "\n",
    "lnew = listops([1,2,3,4,5])\n",
    "\n",
    "print(lnew.l)\n",
    "print(lnew.extract_even())\n",
    "print(lnew.extract_odd())\n",
    "\n",
    "# firstly init is executed and then the variables are set \n",
    "# from then on class knows about the variables and they can be used anywhere using self.variable_name\n",
    "# from then other parts of code can be executed \n"
   ]
  },
  {
   "cell_type": "code",
   "execution_count": 33,
   "metadata": {},
   "outputs": [
    {
     "name": "stdout",
     "output_type": "stream",
     "text": [
      "ML Linear Regression\n",
      "DL abc\n"
     ]
    },
    {
     "data": {
      "text/plain": [
       "'DL'"
      ]
     },
     "execution_count": 33,
     "metadata": {},
     "output_type": "execute_result"
    }
   ],
   "source": [
    "class Book:\n",
    "    \n",
    "    def __init__(self, name, author, title):\n",
    "        self.name_of_book = name\n",
    "        self.book_author = author\n",
    "        self.title_name = title\n",
    "        \n",
    "    def extract_details_name_title(self):\n",
    "        print(self.name_of_book, self.title_name)\n",
    "        \n",
    "    def extract_details_name_author(self):\n",
    "        print(self.name_of_book, self.book_author)\n",
    "\n",
    "\n",
    "student1 = Book(\"ML\", \"MURPHY\", \"Linear Regression\")\n",
    "\n",
    "student1.extract_details_name_title()\n",
    "\n",
    "student2 = Book(\"DL\", \"abc\", \"CNN\")\n",
    "\n",
    "student2.extract_details_name_author()\n",
    "\n",
    "student2.name_of_book"
   ]
  },
  {
   "cell_type": "markdown",
   "metadata": {},
   "source": [
    "oops helps in maintainability and availability of code "
   ]
  }
 ],
 "metadata": {
  "kernelspec": {
   "display_name": "Python 3",
   "language": "python",
   "name": "python3"
  },
  "language_info": {
   "codemirror_mode": {
    "name": "ipython",
    "version": 3
   },
   "file_extension": ".py",
   "mimetype": "text/x-python",
   "name": "python",
   "nbconvert_exporter": "python",
   "pygments_lexer": "ipython3",
   "version": "3.9.6"
  }
 },
 "nbformat": 4,
 "nbformat_minor": 2
}
