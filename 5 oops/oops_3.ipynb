{
 "cells": [
  {
   "cell_type": "markdown",
   "metadata": {},
   "source": [
    "## Polymorphism and encapsulation"
   ]
  },
  {
   "cell_type": "code",
   "execution_count": null,
   "metadata": {},
   "outputs": [],
   "source": [
    "#Polymorphism -> poly means many, morphism means forms/states\n",
    "#refers to an object taking several forms depending on data"
   ]
  },
  {
   "cell_type": "code",
   "execution_count": 1,
   "metadata": {},
   "outputs": [
    {
     "data": {
      "text/plain": [
       "5"
      ]
     },
     "execution_count": 1,
     "metadata": {},
     "output_type": "execute_result"
    }
   ],
   "source": [
    "len(\"Aakif\")"
   ]
  },
  {
   "cell_type": "code",
   "execution_count": 2,
   "metadata": {},
   "outputs": [
    {
     "data": {
      "text/plain": [
       "6"
      ]
     },
     "execution_count": 2,
     "metadata": {},
     "output_type": "execute_result"
    }
   ],
   "source": [
    "len([1, 2, 3, 4, 6, 7])\n"
   ]
  },
  {
   "cell_type": "code",
   "execution_count": 6,
   "metadata": {},
   "outputs": [
    {
     "name": "stdout",
     "output_type": "stream",
     "text": [
      "7\n",
      "pwskills\n",
      "[1, 2, 3, 4, 5, 6]\n"
     ]
    }
   ],
   "source": [
    "# this really is polymorphism\n",
    "def func(a, b):\n",
    "    return a+b\n",
    "print(func(3, 4))\n",
    "print(func(\"pw\", \"skills\"))\n",
    "print(func([1, 2, 3], [4, 5, 6]))\n",
    "\n",
    "\n",
    "# In Python, this is typically achieved through \"duck typing,\" where the type of the object is determined at runtime based on the operations that are performed on it.\n"
   ]
  },
  {
   "cell_type": "code",
   "execution_count": 7,
   "metadata": {},
   "outputs": [
    {
     "name": "stdout",
     "output_type": "stream",
     "text": [
      "This is lec info with teacher perspective\n",
      "This is lec info with student perspective\n"
     ]
    }
   ],
   "source": [
    "class teacher_lecture:\n",
    "    def lec_info(self):\n",
    "        print(\"This is lec info with teacher perspective\")\n",
    "\n",
    "class student_lecture:\n",
    "    def lec_info(self):\n",
    "        print(\"This is lec info with student perspective\")\n",
    "\n",
    "\n",
    "def parcer(class_obj):\n",
    "    for i in class_obj:\n",
    "        i.lec_info()\n",
    "    \n",
    "obj1 = teacher_lecture()\n",
    "obj2 = student_lecture()\n",
    "\n",
    "class_obj = [obj1, obj2]\n",
    "\n",
    "parcer(class_obj)"
   ]
  },
  {
   "cell_type": "code",
   "execution_count": 8,
   "metadata": {},
   "outputs": [],
   "source": [
    "#polymorphism >> Method overloading, Method Overriding"
   ]
  },
  {
   "cell_type": "code",
   "execution_count": 9,
   "metadata": {},
   "outputs": [
    {
     "name": "stdout",
     "output_type": "stream",
     "text": [
      "Welcome to PWskills class  \n",
      "Welcome to PWskills class Aakif \n",
      "Welcome to PWskills class Aakif DS\n"
     ]
    }
   ],
   "source": [
    "class Student:\n",
    "    def student(self):\n",
    "        print(\"Welcome to PWskills class\")\n",
    "    def student(self, name = \"\"):\n",
    "         print(\"Welcome to PWskills class\", name)\n",
    "    def student(self, name = \"\", course = \"\"):\n",
    "         print(\"Welcome to PWskills class\", name, course)\n",
    "\n",
    "stud = Student()\n",
    "stud.student()\n",
    "stud.student(\"Aakif\")\n",
    "stud.student(\"Aakif\",\"DS\")\n",
    "#method overloading -> student is taking different forms, the last method overwrites the previous ones\n",
    "\n",
    "\n"
   ]
  },
  {
   "cell_type": "code",
   "execution_count": 10,
   "metadata": {},
   "outputs": [
    {
     "name": "stdout",
     "output_type": "stream",
     "text": [
      "Cat meows\n"
     ]
    }
   ],
   "source": [
    "# classic method overriding\n",
    "class Animal:\n",
    "    def sound(self):\n",
    "        print(\"Animal sound\")\n",
    "class Cat(Animal):\n",
    "    def sound(self):\n",
    "        print(\"Cat meows\")\n",
    "\n",
    "cat = Cat()\n",
    "cat.sound()\n",
    "\n"
   ]
  },
  {
   "cell_type": "markdown",
   "metadata": {},
   "source": [
    "## Encapsulation"
   ]
  },
  {
   "cell_type": "code",
   "execution_count": 11,
   "metadata": {},
   "outputs": [],
   "source": [
    "#Encapsulation>> means hiding something\n",
    "#Bundling of data and methods \n",
    "#accsess modifier>> public, protected, private"
   ]
  },
  {
   "cell_type": "code",
   "execution_count": 12,
   "metadata": {},
   "outputs": [
    {
     "name": "stdout",
     "output_type": "stream",
     "text": [
      "Ramesh\n",
      "Masters\n",
      "Phd\n"
     ]
    }
   ],
   "source": [
    "#Public >> accessible from anywhere from outside/inside the class\n",
    "\n",
    "class Student:\n",
    "    def __init__(self, name, degree):\n",
    "        self.name = name\n",
    "        self.degree = degree\n",
    "stud = Student(\"Ramesh\", \"Masters\")\n",
    "\n",
    "print(stud.name)\n",
    "print(stud.degree)\n",
    "stud.degree = \"Phd\"\n",
    "print(stud.degree)\n"
   ]
  },
  {
   "cell_type": "code",
   "execution_count": 15,
   "metadata": {},
   "outputs": [
    {
     "data": {
      "text/plain": [
       "'Masters'"
      ]
     },
     "execution_count": 15,
     "metadata": {},
     "output_type": "execute_result"
    }
   ],
   "source": [
    "#private >> within the class only its accessible, use two __ to make private\n",
    "\n",
    "class Student:\n",
    "    def __init__(self, name, degree):\n",
    "        self.name = name\n",
    "        self.__degree = degree \n",
    "        \n",
    "    def show(self):\n",
    "        #accessing the public and private data member\n",
    "        print(\"name\", self.name, 'degree', self.__degree)\n",
    "stud = Student(\"Ramesh\", \"Masters\")\n",
    "stud.name\n",
    "# stud.__degree # throws an error coz its private\n",
    "stud._Student__degree # this is how you can access it \n",
    "# ie _classname__variable"
   ]
  },
  {
   "cell_type": "code",
   "execution_count": 17,
   "metadata": {},
   "outputs": [
    {
     "name": "stdout",
     "output_type": "stream",
     "text": [
      "name Ramesh degree Masters\n"
     ]
    }
   ],
   "source": [
    "stud.show() # or such functions to print the information\n"
   ]
  },
  {
   "cell_type": "code",
   "execution_count": 18,
   "metadata": {},
   "outputs": [
    {
     "name": "stdout",
     "output_type": "stream",
     "text": [
      "80\n",
      "0\n",
      "100\n"
     ]
    }
   ],
   "source": [
    "class Car:\n",
    "    def __init__(self, year, make, speed, model):\n",
    "        self.__year = year\n",
    "        self.__make = make\n",
    "        self.__speed = speed\n",
    "        self.__model = model\n",
    "        \n",
    "    def set_speed(self, speed):\n",
    "        self.__speed = 0 if speed < 0 else speed\n",
    "        \n",
    "    def get_speed(self):\n",
    "        return self.__speed\n",
    "    \n",
    "# to handle private variables we can use \n",
    "# setters and getters\n",
    "\n",
    "car = Car(\"1995\", \"Maruti\", \"80\", \"Brezza\")\n",
    "print(car._Car__speed)\n",
    "car.get_speed()\n",
    "car.set_speed(-1000)\n",
    "print(car.get_speed())\n",
    "car.set_speed(100)\n",
    "print(car.get_speed())\n",
    "\n"
   ]
  },
  {
   "cell_type": "code",
   "execution_count": 22,
   "metadata": {},
   "outputs": [
    {
     "name": "stdout",
     "output_type": "stream",
     "text": [
      "1000\n",
      "11000\n",
      "500\n"
     ]
    }
   ],
   "source": [
    "# implemented a full bank using these methods \n",
    "# encapsulation\n",
    "\n",
    "class Bank:\n",
    "    def __init__(self, balance):\n",
    "        self.__balance = balance\n",
    "        \n",
    "    def deposit(self, amount):\n",
    "        self.__balance = self.__balance + amount\n",
    "        \n",
    "    def withdraw(self, amount):\n",
    "        if self.__balance >= amount:\n",
    "            self.__balance = self.__balance - amount\n",
    "            return True\n",
    "        else:\n",
    "            return False\n",
    "        \n",
    "    def get_balance(self):\n",
    "        return self.__balance\n",
    "    \n",
    "acc = Bank(1000)\n",
    "print(acc.get_balance())\n",
    "acc.deposit(10000)\n",
    "print(acc.get_balance())\n",
    "acc.withdraw(10500)\n",
    "print(acc.get_balance())"
   ]
  },
  {
   "cell_type": "code",
   "execution_count": 24,
   "metadata": {},
   "outputs": [
    {
     "name": "stdout",
     "output_type": "stream",
     "text": [
      "name Ajay college PWskills\n"
     ]
    },
    {
     "data": {
      "text/plain": [
       "'PWskills'"
      ]
     },
     "execution_count": 24,
     "metadata": {},
     "output_type": "execute_result"
    }
   ],
   "source": [
    "#protected>> within the class and its sub class protected member can be accessed, (_)\n",
    "\n",
    "class College:\n",
    "    def __init__(self):\n",
    "        self._college_name = \"PWskills\"\n",
    "\n",
    "class Student(College):\n",
    "    def __init__(self, name):\n",
    "        self.name = name\n",
    "        College.__init__(self)\n",
    "        \n",
    "    def show(self):\n",
    "        print(\"name\", self.name, \"college\", self._college_name)\n",
    "# this is subclass\n",
    "stud = Student(\"Ajay\")\n",
    "stud.show()\n",
    "\n",
    "# this is main class\n",
    "coll = College()\n",
    "coll._college_name\n",
    "\n"
   ]
  },
  {
   "cell_type": "code",
   "execution_count": null,
   "metadata": {},
   "outputs": [],
   "source": []
  }
 ],
 "metadata": {
  "kernelspec": {
   "display_name": "Python 3",
   "language": "python",
   "name": "python3"
  },
  "language_info": {
   "codemirror_mode": {
    "name": "ipython",
    "version": 3
   },
   "file_extension": ".py",
   "mimetype": "text/x-python",
   "name": "python",
   "nbconvert_exporter": "python",
   "pygments_lexer": "ipython3",
   "version": "3.10.7"
  }
 },
 "nbformat": 4,
 "nbformat_minor": 2
}
