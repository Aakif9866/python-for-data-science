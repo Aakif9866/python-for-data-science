{
 "cells": [
  {
   "cell_type": "code",
   "execution_count": 1,
   "metadata": {},
   "outputs": [],
   "source": [
    "# used for \n",
    "# routing \n",
    "# templates\n",
    "# database interactions"
   ]
  },
  {
   "cell_type": "code",
   "execution_count": 2,
   "metadata": {},
   "outputs": [],
   "source": [
    "# full stack frameworks : django ruby on rails\n",
    "\n",
    "# micro frameworks : flask sintara\n",
    "\n",
    "# asynchronous frameoworks : node js"
   ]
  },
  {
   "cell_type": "code",
   "execution_count": 3,
   "metadata": {},
   "outputs": [],
   "source": [
    "# benefits of framework : \n",
    "\n",
    "# Efficiency\n",
    "\n",
    "# organization\n",
    "\n",
    "# scalability\n"
   ]
  },
  {
   "cell_type": "code",
   "execution_count": 1,
   "metadata": {},
   "outputs": [],
   "source": [
    "# flask advantages\n",
    "# routing \n",
    "# templates \n",
    "# http methods"
   ]
  },
  {
   "cell_type": "code",
   "execution_count": 1,
   "metadata": {},
   "outputs": [],
   "source": [
    "\n",
    "# without getting into virtual environment and running the server may lead into \n",
    "# errors\n",
    "\n",
    "\n",
    "# also remember to run it into the same terminal"
   ]
  }
 ],
 "metadata": {
  "kernelspec": {
   "display_name": "Python 3",
   "language": "python",
   "name": "python3"
  },
  "language_info": {
   "codemirror_mode": {
    "name": "ipython",
    "version": 3
   },
   "file_extension": ".py",
   "mimetype": "text/x-python",
   "name": "python",
   "nbconvert_exporter": "python",
   "pygments_lexer": "ipython3",
   "version": "3.9.6"
  }
 },
 "nbformat": 4,
 "nbformat_minor": 2
}
