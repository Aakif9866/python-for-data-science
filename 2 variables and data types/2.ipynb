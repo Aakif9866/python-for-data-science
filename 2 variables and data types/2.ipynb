{
 "cells": [
  {
   "cell_type": "markdown",
   "metadata": {},
   "source": [
    "# Variables\n"
   ]
  },
  {
   "cell_type": "code",
   "execution_count": 11,
   "metadata": {},
   "outputs": [
    {
     "data": {
      "text/plain": [
       "'aakif'"
      ]
     },
     "execution_count": 11,
     "metadata": {},
     "output_type": "execute_result"
    }
   ],
   "source": [
    "name = \"aakif\"\n",
    "name"
   ]
  },
  {
   "cell_type": "code",
   "execution_count": 12,
   "metadata": {},
   "outputs": [
    {
     "data": {
      "text/plain": [
       "str"
      ]
     },
     "execution_count": 12,
     "metadata": {},
     "output_type": "execute_result"
    }
   ],
   "source": [
    "type(name)"
   ]
  },
  {
   "cell_type": "markdown",
   "metadata": {},
   "source": [
    "4 primitive data types are string integers float boolean\n"
   ]
  },
  {
   "cell_type": "code",
   "execution_count": 15,
   "metadata": {},
   "outputs": [
    {
     "name": "stdout",
     "output_type": "stream",
     "text": [
      "<class 'str'>\n",
      "<class 'int'>\n",
      "<class 'float'>\n",
      "<class 'bool'>\n",
      "<class 'bool'>\n"
     ]
    },
    {
     "data": {
      "text/plain": [
       "30"
      ]
     },
     "execution_count": 15,
     "metadata": {},
     "output_type": "execute_result"
    }
   ],
   "source": [
    "name = 'aakif' #string\n",
    "age = 20  # number\n",
    "weight = 88.8 #float\n",
    "male = True # boolean\n",
    "female = bool(0) # alternate declaration\n",
    "\n",
    "# checking their types \n",
    "\n",
    "print(type(name))\n",
    "print(type(age))\n",
    "print(type(weight))\n",
    "print(type(male))\n",
    "print(type(female))\n",
    "age+10\n",
    "\n",
    "\n"
   ]
  },
  {
   "cell_type": "markdown",
   "metadata": {},
   "source": [
    "# 4 Data Structures to Store Data Types\n"
   ]
  },
  {
   "cell_type": "code",
   "execution_count": 19,
   "metadata": {},
   "outputs": [
    {
     "name": "stdout",
     "output_type": "stream",
     "text": [
      "<class 'list'>\n",
      "[1, 2, 3, 'aakif', False, False, 69.96]\n",
      "[1, 2, 3, 'aakif', True, False, 69.96]\n"
     ]
    }
   ],
   "source": [
    "# Lists  -> use square brackets , values can be updated\n",
    "list_variable = [1,2,3,\"aakif\",False,False,69.96]\n",
    "print(type(list_variable)) \n",
    "print(list_variable)\n",
    "list_variable[4] = True\n",
    "print(list_variable) # after updating the value \n"
   ]
  },
  {
   "cell_type": "code",
   "execution_count": 36,
   "metadata": {},
   "outputs": [
    {
     "name": "stdout",
     "output_type": "stream",
     "text": [
      "<class 'dict'>\n",
      "To print a specific key's value: dictionary_variable['age'] = 23\n",
      "{'name': 'aakif', 'age': 23, 'gender': 'male'}\n",
      "{'name': 'ardjun', 'age': 23, 'gender': 'male'}\n"
     ]
    }
   ],
   "source": [
    "# Dictionaries -> mutable key valus pairs -> kept inside curly brackets\n",
    "\n",
    "dictionary_variable = {\"name\":\"aakif\",\"age\":23,\"gender\":\"male\"}\n",
    "print(type(dictionary_variable))\n",
    "print(\"To print a specific key's value: dictionary_variable['age'] =\", dictionary_variable[\"age\"])\n",
    "print(dictionary_variable)\n",
    "dictionary_variable[\"name\"] = \"ardjun\"\n",
    "print(dictionary_variable) # successfully updated\n"
   ]
  },
  {
   "cell_type": "code",
   "execution_count": 30,
   "metadata": {},
   "outputs": [
    {
     "name": "stdout",
     "output_type": "stream",
     "text": [
      "<class 'set'>\n",
      "{'aakif', 1, 2, 3, 4, 5, 6.6}\n"
     ]
    }
   ],
   "source": [
    "#sets -> immutable and duplicates are not allowed -> use curly brackets\n",
    "\n",
    "set_variable = {1,1,2,3,4,5,6.6,\"aakif\"}\n",
    "print(type(set_variable))\n",
    "\n",
    "print(set_variable)\n",
    "# set_variable[0] = \"cahnges\" gives error\n"
   ]
  },
  {
   "cell_type": "code",
   "execution_count": 22,
   "metadata": {},
   "outputs": [
    {
     "name": "stdout",
     "output_type": "stream",
     "text": [
      "(1, 1, 2, 3, 4, 'aakif', True, 69.9)\n",
      "<class 'tuple'>\n",
      "(1, 1, 2, 3, 4, 'aakif', True, 69.9)\n"
     ]
    }
   ],
   "source": [
    "#tuples -> immutable -> use round brackets\n",
    "tuple_variable = (1,1,2,3,4,\"aakif\",True,69.9)\n",
    "print(tuple_variable)\n",
    "print(type(tuple_variable))\n",
    "# tuple_variable[1] = \"cannot cahnge\" -> this gives an error\n",
    "print(tuple_variable)"
   ]
  },
  {
   "cell_type": "code",
   "execution_count": 34,
   "metadata": {},
   "outputs": [
    {
     "name": "stdout",
     "output_type": "stream",
     "text": [
      "[1, 2, 3, 4, 1, 2, 3, 4, 4, 44, 4, 44, 4, 4, 4, 44, 4, 4]\n",
      "[1, 2, 3, 4, 44]\n"
     ]
    }
   ],
   "source": [
    "# to remove all the duplicates from a list\n",
    "# typecast it to a set and then typecast it again to a list \n",
    "list3 = [1,2,3,4,1,2,3,4,4,44,4,44,4,4,4,44,4,4]\n",
    "print(list3)\n",
    "print(list(set(list3)))"
   ]
  },
  {
   "cell_type": "markdown",
   "metadata": {},
   "source": [
    "### list CRUD operations"
   ]
  },
  {
   "cell_type": "code",
   "execution_count": 1,
   "metadata": {},
   "outputs": [
    {
     "name": "stdout",
     "output_type": "stream",
     "text": [
      "Create: [1, 2, 3, 4, 5]\n",
      "Read: 1\n",
      "Read: [2, 3]\n",
      "Update: [10, 2, 3, 4, 5]\n",
      "Update: [10, 2, 3, 4, 5, 6]\n",
      "Delete: [2, 3, 4, 5, 6]\n",
      "Delete: [2, 4, 5, 6]\n"
     ]
    }
   ],
   "source": [
    "# List CRUD operations\n",
    "\n",
    "# Create\n",
    "my_list = [1, 2, 3, 4, 5]\n",
    "print(\"Create:\", my_list)  # Output: [1, 2, 3, 4, 5]\n",
    "\n",
    "# Read\n",
    "print(\"Read:\", my_list[0])  # Output: 1\n",
    "print(\"Read:\", my_list[1:3])  # Output: [2, 3]\n",
    "\n",
    "# Update\n",
    "my_list[0] = 10\n",
    "print(\"Update:\", my_list)  # Output: [10, 2, 3, 4, 5]\n",
    "\n",
    "my_list.append(6)\n",
    "print(\"Update:\", my_list)  # Output: [10, 2, 3, 4, 5, 6]\n",
    "\n",
    "# Delete\n",
    "del my_list[0]\n",
    "print(\"Delete:\", my_list)  # Output: [2, 3, 4, 5, 6]\n",
    "\n",
    "my_list.remove(3)\n",
    "print(\"Delete:\", my_list)  # Output: [2, 4, 5, 6]\n"
   ]
  },
  {
   "cell_type": "markdown",
   "metadata": {},
   "source": [
    "### dictionary  CRUD operations"
   ]
  },
  {
   "cell_type": "code",
   "execution_count": 2,
   "metadata": {},
   "outputs": [
    {
     "name": "stdout",
     "output_type": "stream",
     "text": [
      "Create: {'a': 1, 'b': 2, 'c': 3}\n",
      "Read: 1\n",
      "Read: 2\n",
      "Update: {'a': 10, 'b': 2, 'c': 3}\n",
      "Update: {'a': 10, 'b': 2, 'c': 3, 'd': 4}\n",
      "Delete: {'b': 2, 'c': 3, 'd': 4}\n",
      "Delete: {'c': 3, 'd': 4}\n"
     ]
    }
   ],
   "source": [
    "# Dictionary CRUD operations\n",
    "\n",
    "# Create\n",
    "my_dict = {\"a\": 1, \"b\": 2, \"c\": 3}\n",
    "print(\"Create:\", my_dict)  # Output: {'a': 1, 'b': 2, 'c': 3}\n",
    "\n",
    "# Read\n",
    "print(\"Read:\", my_dict[\"a\"])  # Output: 1\n",
    "print(\"Read:\", my_dict.get(\"b\"))  # Output: 2\n",
    "\n",
    "# Update\n",
    "my_dict[\"a\"] = 10\n",
    "print(\"Update:\", my_dict)  # Output: {'a': 10, 'b': 2, 'c': 3}\n",
    "\n",
    "my_dict[\"d\"] = 4\n",
    "print(\"Update:\", my_dict)  # Output: {'a': 10, 'b': 2, 'c': 3, 'd': 4}\n",
    "\n",
    "# Delete\n",
    "del my_dict[\"a\"]\n",
    "print(\"Delete:\", my_dict)  # Output: {'b': 2, 'c': 3, 'd': 4}\n",
    "\n",
    "my_dict.pop(\"b\")\n",
    "print(\"Delete:\", my_dict)  # Output: {'c': 3, 'd': 4}\n"
   ]
  },
  {
   "cell_type": "markdown",
   "metadata": {},
   "source": [
    "### Set Crud Operations"
   ]
  },
  {
   "cell_type": "code",
   "execution_count": 3,
   "metadata": {},
   "outputs": [
    {
     "name": "stdout",
     "output_type": "stream",
     "text": [
      "Create: {1, 2, 3, 4, 5}\n",
      "Read: 1\n",
      "Read: 2\n",
      "Read: 3\n",
      "Read: 4\n",
      "Read: 5\n",
      "Update: {1, 2, 3, 4, 5, 6}\n",
      "Update: {1, 2, 3, 4, 5, 6, 7, 8}\n",
      "Delete: {2, 3, 4, 5, 6, 7, 8}\n",
      "Delete: {2, 3, 4, 5, 6, 7, 8}\n",
      "Delete: 2\n",
      "Delete: {3, 4, 5, 6, 7, 8}\n"
     ]
    }
   ],
   "source": [
    "# Set CRUD operations\n",
    "\n",
    "# Create\n",
    "my_set = {1, 2, 3, 4, 5}\n",
    "print(\"Create:\", my_set)  # Output: {1, 2, 3, 4, 5}\n",
    "\n",
    "# Read\n",
    "for element in my_set:\n",
    "    print(\"Read:\", element)  # Output: 1 2 3 4 5 (order may vary)\n",
    "\n",
    "# Update\n",
    "my_set.add(6)\n",
    "print(\"Update:\", my_set)  # Output: {1, 2, 3, 4, 5, 6}\n",
    "\n",
    "my_set.update([7, 8])\n",
    "print(\"Update:\", my_set)  # Output: {1, 2, 3, 4, 5, 6, 7, 8}\n",
    "\n",
    "# Delete\n",
    "my_set.remove(1)\n",
    "print(\"Delete:\", my_set)  # Output: {2, 3, 4, 5, 6, 7, 8}\n",
    "\n",
    "my_set.discard(10)\n",
    "print(\"Delete:\", my_set)  # Output: {2, 3, 4, 5, 6, 7, 8}\n",
    "\n",
    "removed_element = my_set.pop()\n",
    "print(\"Delete:\", removed_element)\n",
    "print(\"Delete:\", my_set)\n"
   ]
  },
  {
   "cell_type": "markdown",
   "metadata": {},
   "source": [
    "### Tuple crud operation"
   ]
  },
  {
   "cell_type": "code",
   "execution_count": 4,
   "metadata": {},
   "outputs": [
    {
     "name": "stdout",
     "output_type": "stream",
     "text": [
      "Create: (1, 2, 3, 4, 5)\n",
      "Read: 1\n",
      "Read: (2, 3)\n",
      "Update/Delete: (10, 3, 4, 5)\n"
     ]
    }
   ],
   "source": [
    "# Tuple CRUD operations\n",
    "\n",
    "# Create\n",
    "my_tuple = (1, 2, 3, 4, 5)\n",
    "print(\"Create:\", my_tuple)  # Output: (1, 2, 3, 4, 5)\n",
    "\n",
    "# Read\n",
    "print(\"Read:\", my_tuple[0])  # Output: 1\n",
    "print(\"Read:\", my_tuple[1:3])  # Output: (2, 3)\n",
    "\n",
    "# Tuples are immutable, so we cannot update or delete elements directly.\n",
    "# We can convert to a list to perform update or delete operations.\n",
    "\n",
    "# Update or delete by converting to list\n",
    "my_list = list(my_tuple)\n",
    "my_list[0] = 10  # Update\n",
    "del my_list[1]  # Delete\n",
    "my_tuple = tuple(my_list)\n",
    "print(\"Update/Delete:\", my_tuple)  # Output: (10, 3, 4, 5)\n"
   ]
  },
  {
   "cell_type": "code",
   "execution_count": null,
   "metadata": {},
   "outputs": [],
   "source": []
  }
 ],
 "metadata": {
  "kernelspec": {
   "display_name": "Python 3",
   "language": "python",
   "name": "python3"
  },
  "language_info": {
   "codemirror_mode": {
    "name": "ipython",
    "version": 3
   },
   "file_extension": ".py",
   "mimetype": "text/x-python",
   "name": "python",
   "nbconvert_exporter": "python",
   "pygments_lexer": "ipython3",
   "version": "3.10.7"
  }
 },
 "nbformat": 4,
 "nbformat_minor": 2
}
