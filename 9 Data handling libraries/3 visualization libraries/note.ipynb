{
 "cells": [
  {
   "cell_type": "markdown",
   "metadata": {},
   "source": [
    "## Overview of Visualization Libraries\n",
    "\n",
    "### Plotly\n",
    "An interactive graphing library that provides high-quality, publication-ready visualizations with zooming, panning, and other interactive features.\n",
    "\n",
    "### Matplotlib\n",
    "A comprehensive library for creating static, animated, and interactive visualizations in Python, with fine-grained control over plot elements.\n",
    "\n",
    "### Seaborn\n",
    "A statistical data visualization library built on Matplotlib, offering a high-level interface for drawing attractive and informative statistical graphics.\n",
    "\n",
    "### Bokeh\n",
    "An interactive visualization library that enables the creation of versatile and interactive plots, dashboards, and data applications in web browsers.\n"
   ]
  },
  {
   "cell_type": "markdown",
   "metadata": {},
   "source": []
  }
 ],
 "metadata": {
  "kernelspec": {
   "display_name": "Python 3",
   "language": "python",
   "name": "python3"
  },
  "language_info": {
   "codemirror_mode": {
    "name": "ipython",
    "version": 3
   },
   "file_extension": ".py",
   "mimetype": "text/x-python",
   "name": "python",
   "nbconvert_exporter": "python",
   "pygments_lexer": "ipython3",
   "version": "3.9.6"
  }
 },
 "nbformat": 4,
 "nbformat_minor": 2
}
