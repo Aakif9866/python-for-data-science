{
 "cells": [
  {
   "cell_type": "code",
   "execution_count": 2,
   "id": "f6f2b5d8-f9cc-47d5-977a-b4bfcb548557",
   "metadata": {},
   "outputs": [],
   "source": [
    "import numpy as np"
   ]
  },
  {
   "cell_type": "code",
   "execution_count": 3,
   "id": "f0303fe6-08ad-4d80-96db-8e9c8ed6428d",
   "metadata": {},
   "outputs": [],
   "source": [
    "arr1 = np.random.randint(1, 3, (3,3))\n",
    "arr2 = np.random.randint(1, 3, (3,3))"
   ]
  },
  {
   "cell_type": "code",
   "execution_count": 4,
   "id": "4fb1f958-2724-4018-a410-ef08a1dc780a",
   "metadata": {},
   "outputs": [
    {
     "data": {
      "text/plain": [
       "array([[2, 1, 1],\n",
       "       [2, 1, 1],\n",
       "       [2, 2, 2]])"
      ]
     },
     "execution_count": 4,
     "metadata": {},
     "output_type": "execute_result"
    }
   ],
   "source": [
    "arr1"
   ]
  },
  {
   "cell_type": "code",
   "execution_count": 5,
   "id": "c5a91c01-a44f-492e-afa0-fb84536d6e00",
   "metadata": {},
   "outputs": [
    {
     "data": {
      "text/plain": [
       "array([2, 1, 1, 2, 1, 1, 2, 2, 2])"
      ]
     },
     "execution_count": 5,
     "metadata": {},
     "output_type": "execute_result"
    }
   ],
   "source": [
    "arr1.flatten() #Return a copy of the array collapsed into one dimension."
   ]
  },
  {
   "cell_type": "code",
   "execution_count": 6,
   "id": "f5a00523-4ecb-45fa-b735-ff841e01a823",
   "metadata": {},
   "outputs": [
    {
     "data": {
      "text/plain": [
       "array([1, 2, 3, 4])"
      ]
     },
     "execution_count": 6,
     "metadata": {},
     "output_type": "execute_result"
    }
   ],
   "source": [
    "#expand dimesnion\n",
    "arr = np.array([1, 2, 3, 4])\n",
    "arr"
   ]
  },
  {
   "cell_type": "code",
   "execution_count": 7,
   "id": "691b238e-93bc-4a59-bebd-bd48d940bb69",
   "metadata": {},
   "outputs": [
    {
     "data": {
      "text/plain": [
       "1"
      ]
     },
     "execution_count": 7,
     "metadata": {},
     "output_type": "execute_result"
    }
   ],
   "source": [
    "arr.ndim"
   ]
  },
  {
   "cell_type": "code",
   "execution_count": 8,
   "id": "fa0312c8-dbce-4e5d-8851-25f46ee13324",
   "metadata": {},
   "outputs": [
    {
     "data": {
      "text/plain": [
       "array([[1, 2, 3, 4]])"
      ]
     },
     "execution_count": 8,
     "metadata": {},
     "output_type": "execute_result"
    }
   ],
   "source": [
    "np.expand_dims(arr, axis = 0) #increases the dimension by 1 at provoided axis\n",
    "# axis = 0 means interms of row \n",
    "# axis = 1 means interms of col"
   ]
  },
  {
   "cell_type": "code",
   "execution_count": 9,
   "id": "3255ad0f-469e-4367-afc7-c27781086917",
   "metadata": {},
   "outputs": [
    {
     "data": {
      "text/plain": [
       "array([[1],\n",
       "       [2],\n",
       "       [3],\n",
       "       [4]])"
      ]
     },
     "execution_count": 9,
     "metadata": {},
     "output_type": "execute_result"
    }
   ],
   "source": [
    "np.expand_dims(arr, axis = 1)"
   ]
  },
  {
   "cell_type": "code",
   "execution_count": 10,
   "id": "ac24e9d6-cd71-4e77-8886-0337b035841a",
   "metadata": {},
   "outputs": [
    {
     "data": {
      "text/plain": [
       "2"
      ]
     },
     "execution_count": 10,
     "metadata": {},
     "output_type": "execute_result"
    }
   ],
   "source": [
    "np.expand_dims(arr, axis = 1).ndim # initially it was 1 but now its 2 "
   ]
  },
  {
   "cell_type": "code",
   "execution_count": 11,
   "id": "fc31eb13-3587-4f41-89ee-a237facd9f83",
   "metadata": {},
   "outputs": [
    {
     "data": {
      "text/plain": [
       "array([1, 2, 3, 4])"
      ]
     },
     "execution_count": 11,
     "metadata": {},
     "output_type": "execute_result"
    }
   ],
   "source": [
    "arr"
   ]
  },
  {
   "cell_type": "code",
   "execution_count": 12,
   "id": "1b0bc06c-6d38-4e32-b2fe-0114da47490f",
   "metadata": {},
   "outputs": [],
   "source": [
    "arr = np.zeros((3, 4))"
   ]
  },
  {
   "cell_type": "code",
   "execution_count": 13,
   "id": "5ee72c70-3be4-465d-98e4-c0ec0c07b7ed",
   "metadata": {},
   "outputs": [
    {
     "data": {
      "text/plain": [
       "2"
      ]
     },
     "execution_count": 13,
     "metadata": {},
     "output_type": "execute_result"
    }
   ],
   "source": [
    "arr.ndim"
   ]
  },
  {
   "cell_type": "code",
   "execution_count": 14,
   "id": "403c71cb-1602-49b9-baa7-cd619d1cfd27",
   "metadata": {},
   "outputs": [
    {
     "data": {
      "text/plain": [
       "array([[[0., 0., 0., 0.],\n",
       "        [0., 0., 0., 0.],\n",
       "        [0., 0., 0., 0.]]])"
      ]
     },
     "execution_count": 14,
     "metadata": {},
     "output_type": "execute_result"
    }
   ],
   "source": [
    "np.expand_dims(arr, axis=0)"
   ]
  },
  {
   "cell_type": "code",
   "execution_count": 15,
   "id": "376dc676-08c9-41b6-a6ed-36b82e3a1397",
   "metadata": {},
   "outputs": [
    {
     "data": {
      "text/plain": [
       "array([[[0., 0., 0., 0.]],\n",
       "\n",
       "       [[0., 0., 0., 0.]],\n",
       "\n",
       "       [[0., 0., 0., 0.]]])"
      ]
     },
     "execution_count": 15,
     "metadata": {},
     "output_type": "execute_result"
    }
   ],
   "source": [
    "np.expand_dims(arr, axis=1)"
   ]
  },
  {
   "cell_type": "code",
   "execution_count": 16,
   "id": "0b4d7e41-3018-4b75-ad73-2239d8ab90a9",
   "metadata": {},
   "outputs": [
    {
     "data": {
      "text/plain": [
       "3"
      ]
     },
     "execution_count": 16,
     "metadata": {},
     "output_type": "execute_result"
    }
   ],
   "source": [
    "np.expand_dims(arr, axis=0).ndim"
   ]
  },
  {
   "cell_type": "code",
   "execution_count": 17,
   "id": "5f089170-361e-4700-b8d0-3a5dfe28131f",
   "metadata": {},
   "outputs": [],
   "source": [
    "\n",
    "a = np.array([[1], [2], [3]])\n",
    "\n"
   ]
  },
  {
   "cell_type": "code",
   "execution_count": 18,
   "id": "6c6129ae-d79d-4c2a-83ac-2c06c840b177",
   "metadata": {},
   "outputs": [
    {
     "data": {
      "text/plain": [
       "array([[1],\n",
       "       [2],\n",
       "       [3]])"
      ]
     },
     "execution_count": 18,
     "metadata": {},
     "output_type": "execute_result"
    }
   ],
   "source": [
    "a"
   ]
  },
  {
   "cell_type": "code",
   "execution_count": 19,
   "id": "fbe231d9-ffa5-4fbc-a0f1-4728b7d48130",
   "metadata": {},
   "outputs": [
    {
     "data": {
      "text/plain": [
       "2"
      ]
     },
     "execution_count": 19,
     "metadata": {},
     "output_type": "execute_result"
    }
   ],
   "source": [
    "a.ndim"
   ]
  },
  {
   "cell_type": "code",
   "execution_count": 20,
   "id": "695997a1-d8bc-4548-97cb-846208906e33",
   "metadata": {},
   "outputs": [
    {
     "data": {
      "text/plain": [
       "array([1, 2, 3])"
      ]
     },
     "execution_count": 20,
     "metadata": {},
     "output_type": "execute_result"
    }
   ],
   "source": [
    "np.squeeze(a) #Remove axes of length one from `a`"
   ]
  },
  {
   "cell_type": "code",
   "execution_count": 21,
   "id": "d761adf3-9b08-4c55-a828-a272ec3d96f8",
   "metadata": {},
   "outputs": [
    {
     "data": {
      "text/plain": [
       "array([[1],\n",
       "       [2],\n",
       "       [3]])"
      ]
     },
     "execution_count": 21,
     "metadata": {},
     "output_type": "execute_result"
    }
   ],
   "source": [
    "a"
   ]
  },
  {
   "cell_type": "code",
   "execution_count": 22,
   "id": "60418615-5ea2-422c-98e9-e984207cbabb",
   "metadata": {},
   "outputs": [
    {
     "data": {
      "text/plain": [
       "array([1, 1, 1, 1, 2, 2, 2, 2, 3, 3, 3, 3])"
      ]
     },
     "execution_count": 22,
     "metadata": {},
     "output_type": "execute_result"
    }
   ],
   "source": [
    "np.repeat(a, 4) # repeats each element for a given amount of times"
   ]
  },
  {
   "cell_type": "code",
   "execution_count": 23,
   "id": "2bd1d6f9-edc2-489a-832a-6ec0d98072c8",
   "metadata": {},
   "outputs": [
    {
     "data": {
      "text/plain": [
       "array([[2, 1, 1],\n",
       "       [2, 1, 1],\n",
       "       [2, 2, 2]])"
      ]
     },
     "execution_count": 23,
     "metadata": {},
     "output_type": "execute_result"
    }
   ],
   "source": [
    "arr1"
   ]
  },
  {
   "cell_type": "code",
   "execution_count": 24,
   "id": "8102fe01-cb80-433b-bc8d-cd062f5cd4fa",
   "metadata": {},
   "outputs": [
    {
     "data": {
      "text/plain": [
       "array([2, 2, 1, 1, 1, 1, 2, 2, 1, 1, 1, 1, 2, 2, 2, 2, 2, 2])"
      ]
     },
     "execution_count": 24,
     "metadata": {},
     "output_type": "execute_result"
    }
   ],
   "source": [
    "np.repeat(arr1,2)"
   ]
  },
  {
   "cell_type": "code",
   "execution_count": 25,
   "id": "e888a3b9-1114-47f9-b4ad-13627289ab0a",
   "metadata": {},
   "outputs": [
    {
     "data": {
      "text/plain": [
       "array([[2, 1, 1],\n",
       "       [2, 1, 1],\n",
       "       [2, 1, 1],\n",
       "       [2, 1, 1],\n",
       "       [2, 2, 2],\n",
       "       [2, 2, 2]])"
      ]
     },
     "execution_count": 25,
     "metadata": {},
     "output_type": "execute_result"
    }
   ],
   "source": [
    "np.repeat(arr1, 2, axis=0) # it will repeat row wise"
   ]
  },
  {
   "cell_type": "code",
   "execution_count": 26,
   "id": "4a09f834-c8a6-4e35-b36f-3f08191af171",
   "metadata": {},
   "outputs": [
    {
     "data": {
      "text/plain": [
       "array([[2, 1, 1],\n",
       "       [2, 1, 1],\n",
       "       [2, 1, 1],\n",
       "       [2, 1, 1],\n",
       "       [2, 1, 1],\n",
       "       [2, 1, 1],\n",
       "       [2, 2, 2],\n",
       "       [2, 2, 2],\n",
       "       [2, 2, 2]])"
      ]
     },
     "execution_count": 26,
     "metadata": {},
     "output_type": "execute_result"
    }
   ],
   "source": [
    "np.repeat(arr1, 3, axis=0)"
   ]
  },
  {
   "cell_type": "code",
   "execution_count": 27,
   "id": "4b2829cc-c99d-41cc-b5a3-44031a3e72b4",
   "metadata": {},
   "outputs": [
    {
     "data": {
      "text/plain": [
       "array([[2, 2, 2, 1, 1, 1, 1, 1, 1],\n",
       "       [2, 2, 2, 1, 1, 1, 1, 1, 1],\n",
       "       [2, 2, 2, 2, 2, 2, 2, 2, 2]])"
      ]
     },
     "execution_count": 27,
     "metadata": {},
     "output_type": "execute_result"
    }
   ],
   "source": [
    "np.repeat(arr1, 3, axis=1) # it will repeat col wise "
   ]
  },
  {
   "cell_type": "code",
   "execution_count": 28,
   "id": "c4b1dc63-50e0-43d2-8312-3d9fab2748b3",
   "metadata": {},
   "outputs": [
    {
     "data": {
      "text/plain": [
       "array([[1],\n",
       "       [2],\n",
       "       [3]])"
      ]
     },
     "execution_count": 28,
     "metadata": {},
     "output_type": "execute_result"
    }
   ],
   "source": [
    "a"
   ]
  },
  {
   "cell_type": "code",
   "execution_count": 29,
   "id": "bf17fbd8-ad9e-4e93-90c4-b4ec106ab4d7",
   "metadata": {},
   "outputs": [
    {
     "data": {
      "text/plain": [
       "array([[2],\n",
       "       [3],\n",
       "       [1]])"
      ]
     },
     "execution_count": 29,
     "metadata": {},
     "output_type": "execute_result"
    }
   ],
   "source": [
    "np.roll(a, -1)"
   ]
  },
  {
   "cell_type": "code",
   "execution_count": 30,
   "id": "3dfc95ed-1310-4e60-ab2d-0e7ee965f496",
   "metadata": {},
   "outputs": [
    {
     "data": {
      "text/plain": [
       "array([[3],\n",
       "       [1],\n",
       "       [2]])"
      ]
     },
     "execution_count": 30,
     "metadata": {},
     "output_type": "execute_result"
    }
   ],
   "source": [
    "np.roll(a, -2)"
   ]
  },
  {
   "cell_type": "code",
   "execution_count": 31,
   "id": "cfab4bb7-de2b-4c25-a48d-85657e14e7cc",
   "metadata": {},
   "outputs": [],
   "source": [
    "c = np.array([[1,2], [3, 4], [5,6], [7,8]])"
   ]
  },
  {
   "cell_type": "code",
   "execution_count": 32,
   "id": "efddc37a-2db3-47ce-b19e-ef934a374b26",
   "metadata": {},
   "outputs": [
    {
     "data": {
      "text/plain": [
       "array([[1, 2],\n",
       "       [3, 4],\n",
       "       [5, 6],\n",
       "       [7, 8]])"
      ]
     },
     "execution_count": 32,
     "metadata": {},
     "output_type": "execute_result"
    }
   ],
   "source": [
    "c"
   ]
  },
  {
   "cell_type": "code",
   "execution_count": 33,
   "id": "abc23567-18fa-46c5-b33d-4a327008238a",
   "metadata": {},
   "outputs": [
    {
     "data": {
      "text/plain": [
       "array([[7, 8],\n",
       "       [1, 2],\n",
       "       [3, 4],\n",
       "       [5, 6]])"
      ]
     },
     "execution_count": 33,
     "metadata": {},
     "output_type": "execute_result"
    }
   ],
   "source": [
    "np.roll(c, 2)"
   ]
  },
  {
   "cell_type": "code",
   "execution_count": 34,
   "id": "aa96713c-31a3-470d-b76b-9e4c2e2993a2",
   "metadata": {},
   "outputs": [
    {
     "data": {
      "text/plain": [
       "array([[5, 6],\n",
       "       [7, 8],\n",
       "       [1, 2],\n",
       "       [3, 4]])"
      ]
     },
     "execution_count": 34,
     "metadata": {},
     "output_type": "execute_result"
    }
   ],
   "source": [
    "np.roll(c, 2, axis=0) # to roll properly u must provide the axis to be rolled"
   ]
  },
  {
   "cell_type": "code",
   "execution_count": 35,
   "id": "2c70ed7d-0305-45e7-9dfc-ac4dfe2db78a",
   "metadata": {},
   "outputs": [
    {
     "data": {
      "text/plain": [
       "array([[2, 1, 1],\n",
       "       [2, 1, 1],\n",
       "       [2, 2, 2]])"
      ]
     },
     "execution_count": 35,
     "metadata": {},
     "output_type": "execute_result"
    }
   ],
   "source": [
    "arr1"
   ]
  },
  {
   "cell_type": "code",
   "execution_count": 36,
   "id": "c23b1861-d8e3-4db6-bdc4-08ea79c5e9c9",
   "metadata": {},
   "outputs": [
    {
     "data": {
      "text/plain": [
       "array([[2, 1, 2],\n",
       "       [1, 1, 1],\n",
       "       [2, 1, 1]])"
      ]
     },
     "execution_count": 36,
     "metadata": {},
     "output_type": "execute_result"
    }
   ],
   "source": [
    "arr2"
   ]
  },
  {
   "cell_type": "code",
   "execution_count": 37,
   "id": "da352554-47eb-4d3c-b851-13b206e48776",
   "metadata": {},
   "outputs": [
    {
     "data": {
      "text/plain": [
       "array([[4, 2, 3],\n",
       "       [3, 2, 2],\n",
       "       [4, 3, 3]])"
      ]
     },
     "execution_count": 37,
     "metadata": {},
     "output_type": "execute_result"
    }
   ],
   "source": [
    "arr1 + arr2"
   ]
  },
  {
   "cell_type": "code",
   "execution_count": 38,
   "id": "254e4e4e-3d3c-42c7-a923-83ac5adc1a1c",
   "metadata": {},
   "outputs": [
    {
     "data": {
      "text/plain": [
       "array([[ 0,  0, -1],\n",
       "       [ 1,  0,  0],\n",
       "       [ 0,  1,  1]])"
      ]
     },
     "execution_count": 38,
     "metadata": {},
     "output_type": "execute_result"
    }
   ],
   "source": [
    "arr1 - arr2"
   ]
  },
  {
   "cell_type": "code",
   "execution_count": 39,
   "id": "0dbf4875-f88b-4ffb-94e2-1bdfee02c2f4",
   "metadata": {},
   "outputs": [
    {
     "data": {
      "text/plain": [
       "array([[4, 1, 2],\n",
       "       [2, 1, 1],\n",
       "       [4, 2, 2]])"
      ]
     },
     "execution_count": 39,
     "metadata": {},
     "output_type": "execute_result"
    }
   ],
   "source": [
    "arr1 *arr2"
   ]
  },
  {
   "cell_type": "code",
   "execution_count": 40,
   "id": "16c8866f-42ad-4d24-bd0e-edd3ba7717b8",
   "metadata": {},
   "outputs": [
    {
     "data": {
      "text/plain": [
       "array([[False, False, False],\n",
       "       [ True, False, False],\n",
       "       [False,  True,  True]])"
      ]
     },
     "execution_count": 40,
     "metadata": {},
     "output_type": "execute_result"
    }
   ],
   "source": [
    "arr1 > arr2"
   ]
  },
  {
   "cell_type": "code",
   "execution_count": 41,
   "id": "a7b043e1-d626-42ce-90ad-9a78543be2d5",
   "metadata": {},
   "outputs": [
    {
     "data": {
      "text/plain": [
       "array([[2, 1, 1],\n",
       "       [2, 1, 1],\n",
       "       [2, 2, 2]])"
      ]
     },
     "execution_count": 41,
     "metadata": {},
     "output_type": "execute_result"
    }
   ],
   "source": [
    "arr1"
   ]
  },
  {
   "cell_type": "code",
   "execution_count": 42,
   "id": "a4a4749c-3dc4-4f0f-ade9-d9f038e56926",
   "metadata": {},
   "outputs": [
    {
     "data": {
      "text/plain": [
       "array([[-3, -2, -2],\n",
       "       [-3, -2, -2],\n",
       "       [-3, -3, -3]])"
      ]
     },
     "execution_count": 42,
     "metadata": {},
     "output_type": "execute_result"
    }
   ],
   "source": [
    "~arr1"
   ]
  },
  {
   "cell_type": "code",
   "execution_count": 43,
   "id": "2d187e85-5bc2-4a75-87ed-31d84a01b655",
   "metadata": {},
   "outputs": [],
   "source": [
    "# operations on numpy strings"
   ]
  },
  {
   "cell_type": "code",
   "execution_count": 44,
   "id": "8bb86174-3575-40a0-bca6-8d277fe1ed4c",
   "metadata": {},
   "outputs": [],
   "source": [
    "d = np.array([\"pw\", \"skills\"])"
   ]
  },
  {
   "cell_type": "code",
   "execution_count": 45,
   "id": "f35f5037-f484-4bca-b1a0-73168f0e4c7f",
   "metadata": {},
   "outputs": [
    {
     "data": {
      "text/plain": [
       "array(['pw', 'skills'], dtype='<U6')"
      ]
     },
     "execution_count": 45,
     "metadata": {},
     "output_type": "execute_result"
    }
   ],
   "source": [
    "d"
   ]
  },
  {
   "cell_type": "code",
   "execution_count": 46,
   "id": "a1108f49-1443-4c9c-985e-f1944f1ef5bb",
   "metadata": {},
   "outputs": [
    {
     "data": {
      "text/plain": [
       "array(['PW', 'SKILLS'], dtype='<U6')"
      ]
     },
     "execution_count": 46,
     "metadata": {},
     "output_type": "execute_result"
    }
   ],
   "source": [
    "np.char.upper(d)"
   ]
  },
  {
   "cell_type": "code",
   "execution_count": 47,
   "id": "4f126323-da15-459d-a38c-37ba255eac36",
   "metadata": {},
   "outputs": [
    {
     "data": {
      "text/plain": [
       "array(['Pw', 'Skills'], dtype='<U6')"
      ]
     },
     "execution_count": 47,
     "metadata": {},
     "output_type": "execute_result"
    }
   ],
   "source": [
    "np.char.capitalize(d)"
   ]
  },
  {
   "cell_type": "code",
   "execution_count": 48,
   "id": "c9ef92d0-4cef-49b8-bd9c-56f8c0a6697f",
   "metadata": {},
   "outputs": [],
   "source": [
    "# thats it "
   ]
  },
  {
   "cell_type": "markdown",
   "id": "be4afd74-8025-492e-b3b9-988ba07aee1e",
   "metadata": {},
   "source": [
    "#### Mathematical functions"
   ]
  },
  {
   "cell_type": "code",
   "execution_count": 49,
   "id": "c368cbd2-2830-40e1-8877-2a2ac0cda756",
   "metadata": {},
   "outputs": [
    {
     "data": {
      "text/plain": [
       "array([[2, 1, 1],\n",
       "       [2, 1, 1],\n",
       "       [2, 2, 2]])"
      ]
     },
     "execution_count": 49,
     "metadata": {},
     "output_type": "execute_result"
    }
   ],
   "source": [
    "arr1"
   ]
  },
  {
   "cell_type": "code",
   "execution_count": 50,
   "id": "67074196-8b14-4f39-b0b8-b36cad1d0fc0",
   "metadata": {},
   "outputs": [
    {
     "data": {
      "text/plain": [
       "array([[0.90929743, 0.84147098, 0.84147098],\n",
       "       [0.90929743, 0.84147098, 0.84147098],\n",
       "       [0.90929743, 0.90929743, 0.90929743]])"
      ]
     },
     "execution_count": 50,
     "metadata": {},
     "output_type": "execute_result"
    }
   ],
   "source": [
    "np.sin(arr1)"
   ]
  },
  {
   "cell_type": "code",
   "execution_count": 51,
   "id": "d589c8cc-8b1d-43a7-8a72-b484c252afdc",
   "metadata": {},
   "outputs": [
    {
     "data": {
      "text/plain": [
       "array([[-0.41614684,  0.54030231,  0.54030231],\n",
       "       [-0.41614684,  0.54030231,  0.54030231],\n",
       "       [-0.41614684, -0.41614684, -0.41614684]])"
      ]
     },
     "execution_count": 51,
     "metadata": {},
     "output_type": "execute_result"
    }
   ],
   "source": [
    "np.cos(arr1)"
   ]
  },
  {
   "cell_type": "code",
   "execution_count": 52,
   "id": "b6811d3e-1b61-4e9f-893c-a30bfaa368bc",
   "metadata": {},
   "outputs": [
    {
     "data": {
      "text/plain": [
       "array([[-2.18503986,  1.55740772,  1.55740772],\n",
       "       [-2.18503986,  1.55740772,  1.55740772],\n",
       "       [-2.18503986, -2.18503986, -2.18503986]])"
      ]
     },
     "execution_count": 52,
     "metadata": {},
     "output_type": "execute_result"
    }
   ],
   "source": [
    "np.tan(arr1)"
   ]
  },
  {
   "cell_type": "code",
   "execution_count": 53,
   "id": "dd15c3e6-fb83-4376-9230-fa6466cea051",
   "metadata": {},
   "outputs": [
    {
     "data": {
      "text/plain": [
       "array([[0.30103, 0.     , 0.     ],\n",
       "       [0.30103, 0.     , 0.     ],\n",
       "       [0.30103, 0.30103, 0.30103]])"
      ]
     },
     "execution_count": 53,
     "metadata": {},
     "output_type": "execute_result"
    }
   ],
   "source": [
    "np.log10(arr1)"
   ]
  },
  {
   "cell_type": "code",
   "execution_count": 54,
   "id": "043f68eb-9691-4b28-8d87-ce9f7434f9f3",
   "metadata": {},
   "outputs": [
    {
     "data": {
      "text/plain": [
       "array([[7.3890561 , 2.71828183, 2.71828183],\n",
       "       [7.3890561 , 2.71828183, 2.71828183],\n",
       "       [7.3890561 , 7.3890561 , 7.3890561 ]])"
      ]
     },
     "execution_count": 54,
     "metadata": {},
     "output_type": "execute_result"
    }
   ],
   "source": [
    "np.exp(arr1)"
   ]
  },
  {
   "cell_type": "code",
   "execution_count": 55,
   "id": "750180dd-9a34-4571-8eaa-3a3dbb6df855",
   "metadata": {},
   "outputs": [
    {
     "data": {
      "text/plain": [
       "array([[8, 1, 1],\n",
       "       [8, 1, 1],\n",
       "       [8, 8, 8]])"
      ]
     },
     "execution_count": 55,
     "metadata": {},
     "output_type": "execute_result"
    }
   ],
   "source": [
    "np.power(arr1, 3)"
   ]
  },
  {
   "cell_type": "code",
   "execution_count": 56,
   "id": "28c18bc7-5805-4839-812d-18ca39b5a1d3",
   "metadata": {},
   "outputs": [
    {
     "data": {
      "text/plain": [
       "1.5555555555555556"
      ]
     },
     "execution_count": 56,
     "metadata": {},
     "output_type": "execute_result"
    }
   ],
   "source": [
    "np.mean(arr1)"
   ]
  },
  {
   "cell_type": "code",
   "execution_count": 57,
   "id": "b3cad8ed-8acb-40af-86dd-5a7aaf2dc902",
   "metadata": {},
   "outputs": [
    {
     "data": {
      "text/plain": [
       "2"
      ]
     },
     "execution_count": 57,
     "metadata": {},
     "output_type": "execute_result"
    }
   ],
   "source": [
    "np.max(arr1)"
   ]
  },
  {
   "cell_type": "code",
   "execution_count": 58,
   "id": "eb3c6ba4-0078-49ba-aef9-ff03d6f02aa1",
   "metadata": {},
   "outputs": [
    {
     "data": {
      "text/plain": [
       "1"
      ]
     },
     "execution_count": 58,
     "metadata": {},
     "output_type": "execute_result"
    }
   ],
   "source": [
    "np.min(arr1)"
   ]
  },
  {
   "cell_type": "code",
   "execution_count": 59,
   "id": "9e7074d8-6a8c-4223-8d43-8210301706fe",
   "metadata": {},
   "outputs": [
    {
     "data": {
      "text/plain": [
       "0.4969039949999533"
      ]
     },
     "execution_count": 59,
     "metadata": {},
     "output_type": "execute_result"
    }
   ],
   "source": [
    "np.std(arr1) # standard deviation"
   ]
  },
  {
   "cell_type": "code",
   "execution_count": 60,
   "id": "3aa86bc7-c6ce-48cb-a75d-af84301650aa",
   "metadata": {},
   "outputs": [
    {
     "data": {
      "text/plain": [
       "0.2469135802469136"
      ]
     },
     "execution_count": 60,
     "metadata": {},
     "output_type": "execute_result"
    }
   ],
   "source": [
    "np.var(arr1) # variance"
   ]
  },
  {
   "cell_type": "code",
   "execution_count": 61,
   "id": "cb9b4219-ac4c-4686-92dd-53b295cc88a3",
   "metadata": {},
   "outputs": [
    {
     "data": {
      "text/plain": [
       "array([[ 0,  0, -1],\n",
       "       [ 1,  0,  0],\n",
       "       [ 0,  1,  1]])"
      ]
     },
     "execution_count": 61,
     "metadata": {},
     "output_type": "execute_result"
    }
   ],
   "source": [
    "arr1-arr2"
   ]
  },
  {
   "cell_type": "code",
   "execution_count": 62,
   "id": "24bc4db9-0276-4437-9082-558bc86bdfcf",
   "metadata": {},
   "outputs": [
    {
     "data": {
      "text/plain": [
       "array([[ 0,  0, -1],\n",
       "       [ 1,  0,  0],\n",
       "       [ 0,  1,  1]])"
      ]
     },
     "execution_count": 62,
     "metadata": {},
     "output_type": "execute_result"
    }
   ],
   "source": [
    "# alternate way to subtract\n",
    "np.subtract(arr1, arr2)"
   ]
  },
  {
   "cell_type": "code",
   "execution_count": 63,
   "id": "00237c61-1508-42b1-9747-02320e555b55",
   "metadata": {},
   "outputs": [],
   "source": [
    "# similarly "
   ]
  },
  {
   "cell_type": "code",
   "execution_count": 64,
   "id": "b417bf13-ab41-46e7-9a11-9cdbe84f56a0",
   "metadata": {},
   "outputs": [
    {
     "data": {
      "text/plain": [
       "array([[4, 1, 2],\n",
       "       [2, 1, 1],\n",
       "       [4, 2, 2]])"
      ]
     },
     "execution_count": 64,
     "metadata": {},
     "output_type": "execute_result"
    }
   ],
   "source": [
    "arr1 *arr2\n"
   ]
  },
  {
   "cell_type": "code",
   "execution_count": 65,
   "id": "cc220365-c697-4841-ae74-5a7e770a16c4",
   "metadata": {},
   "outputs": [
    {
     "data": {
      "text/plain": [
       "array([[4, 1, 2],\n",
       "       [2, 1, 1],\n",
       "       [4, 2, 2]])"
      ]
     },
     "execution_count": 65,
     "metadata": {},
     "output_type": "execute_result"
    }
   ],
   "source": [
    "np.multiply(arr1, arr2)"
   ]
  },
  {
   "cell_type": "code",
   "execution_count": 66,
   "id": "5fa7037b-566f-481a-9278-4be3325bf124",
   "metadata": {},
   "outputs": [
    {
     "data": {
      "text/plain": [
       "array([[0, 0, 1],\n",
       "       [0, 0, 0],\n",
       "       [0, 0, 0]])"
      ]
     },
     "execution_count": 66,
     "metadata": {},
     "output_type": "execute_result"
    }
   ],
   "source": [
    "np.mod(arr1, arr2) #return elment wise remainder"
   ]
  },
  {
   "cell_type": "code",
   "execution_count": 67,
   "id": "368556aa-67bb-466a-b10e-db06cb1370e6",
   "metadata": {},
   "outputs": [
    {
     "data": {
      "text/plain": [
       "array([[1.41421356, 1.        , 1.        ],\n",
       "       [1.41421356, 1.        , 1.        ],\n",
       "       [1.41421356, 1.41421356, 1.41421356]])"
      ]
     },
     "execution_count": 67,
     "metadata": {},
     "output_type": "execute_result"
    }
   ],
   "source": [
    "np.sqrt(arr1)"
   ]
  },
  {
   "cell_type": "markdown",
   "id": "9d61c759-30a7-4d32-9984-2ec4692a0bd1",
   "metadata": {},
   "source": [
    "## sort search"
   ]
  },
  {
   "cell_type": "code",
   "execution_count": 68,
   "id": "88387faf-aa9f-4ac1-9cb8-535ea1c15e2d",
   "metadata": {},
   "outputs": [],
   "source": [
    "e = np.array([5, 6, 1, 2])"
   ]
  },
  {
   "cell_type": "code",
   "execution_count": 69,
   "id": "1cc2f040-555e-4d0a-859a-b91d1e3d250a",
   "metadata": {},
   "outputs": [
    {
     "data": {
      "text/plain": [
       "array([5, 6, 1, 2])"
      ]
     },
     "execution_count": 69,
     "metadata": {},
     "output_type": "execute_result"
    }
   ],
   "source": [
    "e"
   ]
  },
  {
   "cell_type": "code",
   "execution_count": 70,
   "id": "58ae615a-8bef-44c0-9479-d8324b58eb5b",
   "metadata": {},
   "outputs": [
    {
     "data": {
      "text/plain": [
       "array([1, 2, 5, 6])"
      ]
     },
     "execution_count": 70,
     "metadata": {},
     "output_type": "execute_result"
    }
   ],
   "source": [
    "np.sort(e)"
   ]
  },
  {
   "cell_type": "code",
   "execution_count": 71,
   "id": "5042aec0-37b5-47d3-ad2a-e056b8f7d41d",
   "metadata": {},
   "outputs": [],
   "source": [
    "f = np.array([5, 199, 200, 6, 7, 8])"
   ]
  },
  {
   "cell_type": "code",
   "execution_count": 72,
   "id": "4e66ce96-2955-41f9-b7fd-e547bc2a7c71",
   "metadata": {},
   "outputs": [
    {
     "data": {
      "text/plain": [
       "array([  5,   6,   7,   8, 199, 200])"
      ]
     },
     "execution_count": 72,
     "metadata": {},
     "output_type": "execute_result"
    }
   ],
   "source": [
    "np.sort(f)"
   ]
  },
  {
   "cell_type": "code",
   "execution_count": 73,
   "id": "17eb669c-c302-45b7-9882-2bdc34b0d26a",
   "metadata": {},
   "outputs": [
    {
     "data": {
      "text/plain": [
       "6"
      ]
     },
     "execution_count": 73,
     "metadata": {},
     "output_type": "execute_result"
    }
   ],
   "source": [
    "np.searchsorted(f, 170) #Find indices where elements should be inserted to maintain order."
   ]
  },
  {
   "cell_type": "code",
   "execution_count": 74,
   "id": "a9267232-dc0e-4207-9623-0ab259bfcb39",
   "metadata": {},
   "outputs": [],
   "source": [
    "f = np.array([5, 199, 200, 6, 7, 0, 0, 0, 8])"
   ]
  },
  {
   "cell_type": "code",
   "execution_count": 75,
   "id": "7f253ab3-228d-4477-9c0c-a480d0896215",
   "metadata": {},
   "outputs": [
    {
     "data": {
      "text/plain": [
       "6"
      ]
     },
     "execution_count": 75,
     "metadata": {},
     "output_type": "execute_result"
    }
   ],
   "source": [
    "np.count_nonzero(f)"
   ]
  },
  {
   "cell_type": "code",
   "execution_count": 76,
   "id": "2408ee70-d9ef-421f-bedb-32443dd3ad20",
   "metadata": {},
   "outputs": [
    {
     "data": {
      "text/plain": [
       "array([  5, 199, 200,   6,   7,   8])"
      ]
     },
     "execution_count": 76,
     "metadata": {},
     "output_type": "execute_result"
    }
   ],
   "source": [
    "f[f > 0]"
   ]
  },
  {
   "cell_type": "code",
   "execution_count": 77,
   "id": "3b630d0d-ddf8-4927-be69-ea55047ff76e",
   "metadata": {},
   "outputs": [
    {
     "data": {
      "text/plain": [
       "(array([0, 1, 2, 3, 4, 8]),)"
      ]
     },
     "execution_count": 77,
     "metadata": {},
     "output_type": "execute_result"
    }
   ],
   "source": [
    "np.where(f>0) # it is what it is"
   ]
  },
  {
   "cell_type": "code",
   "execution_count": 78,
   "id": "4794c054-a86d-44bd-8d52-1ff9438ad7e8",
   "metadata": {},
   "outputs": [
    {
     "data": {
      "text/plain": [
       "array([  5, 199, 200,   6,   7,   8])"
      ]
     },
     "execution_count": 78,
     "metadata": {},
     "output_type": "execute_result"
    }
   ],
   "source": [
    "np.extract(f>0, f)"
   ]
  },
  {
   "cell_type": "code",
   "execution_count": 79,
   "id": "2e953c92-0f8e-4ef2-a463-1b2cc943554c",
   "metadata": {},
   "outputs": [
    {
     "data": {
      "text/plain": [
       "array([  5, 199, 200,   6,   7,   0,   0,   0,   8])"
      ]
     },
     "execution_count": 79,
     "metadata": {},
     "output_type": "execute_result"
    }
   ],
   "source": [
    "f"
   ]
  },
  {
   "cell_type": "code",
   "execution_count": 80,
   "id": "58f6e647-7d30-4bdb-9087-9e36c7c1ac42",
   "metadata": {},
   "outputs": [
    {
     "data": {
      "text/plain": [
       "array([  360287970189639680, -4107282860161892352, -4035225266123964416,\n",
       "         432345564227567616,   504403158265495552,                    0,\n",
       "                          0,                    0,   576460752303423488])"
      ]
     },
     "execution_count": 80,
     "metadata": {},
     "output_type": "execute_result"
    }
   ],
   "source": [
    "f.byteswap()"
   ]
  },
  {
   "cell_type": "code",
   "execution_count": 81,
   "id": "62266fc6-b62f-40d6-9fc2-6eabb611350a",
   "metadata": {},
   "outputs": [],
   "source": [
    "#matrix>> 2d array\n",
    "\n",
    "import numpy.matlib as nm"
   ]
  },
  {
   "cell_type": "code",
   "execution_count": 82,
   "id": "fb1bffa6-620a-44fd-98ed-3f7d2870a552",
   "metadata": {},
   "outputs": [
    {
     "data": {
      "text/plain": [
       "matrix([[0., 0., 0., 0., 0.]])"
      ]
     },
     "execution_count": 82,
     "metadata": {},
     "output_type": "execute_result"
    }
   ],
   "source": [
    "nm.zeros(5)"
   ]
  },
  {
   "cell_type": "code",
   "execution_count": 83,
   "id": "624832a6-4a3a-4f1f-9734-5a0027420554",
   "metadata": {},
   "outputs": [
    {
     "data": {
      "text/plain": [
       "matrix([[1., 1., 1., 1.],\n",
       "        [1., 1., 1., 1.],\n",
       "        [1., 1., 1., 1.]])"
      ]
     },
     "execution_count": 83,
     "metadata": {},
     "output_type": "execute_result"
    }
   ],
   "source": [
    "nm.ones((3, 4))"
   ]
  },
  {
   "cell_type": "code",
   "execution_count": 84,
   "id": "f45d57d2-c40d-4d48-8cf7-2174ddf79549",
   "metadata": {},
   "outputs": [],
   "source": [
    "#numpy linear algebra\n",
    "\n",
    "arr1 = np.random.randint(1, 10, (3, 3))\n",
    "arr2 = np.random.randint(1, 10, (3, 3))"
   ]
  },
  {
   "cell_type": "code",
   "execution_count": 85,
   "id": "9b7c1f9c-4115-4f59-a2b9-5465613be04f",
   "metadata": {},
   "outputs": [
    {
     "data": {
      "text/plain": [
       "array([[3, 7, 1],\n",
       "       [9, 8, 5],\n",
       "       [9, 7, 6]])"
      ]
     },
     "execution_count": 85,
     "metadata": {},
     "output_type": "execute_result"
    }
   ],
   "source": [
    "arr1"
   ]
  },
  {
   "cell_type": "code",
   "execution_count": 86,
   "id": "756c2700-1204-47dd-ba21-372d7b442d9b",
   "metadata": {},
   "outputs": [
    {
     "data": {
      "text/plain": [
       "array([[4, 7, 7],\n",
       "       [6, 3, 2],\n",
       "       [7, 9, 3]])"
      ]
     },
     "execution_count": 86,
     "metadata": {},
     "output_type": "execute_result"
    }
   ],
   "source": [
    "arr2"
   ]
  },
  {
   "cell_type": "code",
   "execution_count": 87,
   "id": "1e3cbbe6-b0e8-47cd-9041-dc76b357c45a",
   "metadata": {},
   "outputs": [
    {
     "data": {
      "text/plain": [
       "array([[ 61,  51,  38],\n",
       "       [119, 132,  94],\n",
       "       [120, 138,  95]])"
      ]
     },
     "execution_count": 87,
     "metadata": {},
     "output_type": "execute_result"
    }
   ],
   "source": [
    "arr1 @ arr2 # matrix multiplication ( not element wise)"
   ]
  },
  {
   "cell_type": "code",
   "execution_count": 88,
   "id": "7cccd33b-9634-4b22-96d6-24556bea95cd",
   "metadata": {},
   "outputs": [
    {
     "data": {
      "text/plain": [
       "-33.0"
      ]
     },
     "execution_count": 88,
     "metadata": {},
     "output_type": "execute_result"
    }
   ],
   "source": [
    "np.linalg.det(arr1) # determinant value"
   ]
  },
  {
   "cell_type": "code",
   "execution_count": 89,
   "id": "9cdac580-a158-4893-84f5-73384567d67a",
   "metadata": {},
   "outputs": [
    {
     "data": {
      "text/plain": [
       "array([[-0.39393939,  1.06060606, -0.81818182],\n",
       "       [ 0.27272727, -0.27272727,  0.18181818],\n",
       "       [ 0.27272727, -1.27272727,  1.18181818]])"
      ]
     },
     "execution_count": 89,
     "metadata": {},
     "output_type": "execute_result"
    }
   ],
   "source": [
    "np.linalg.inv(arr1) # inverse of the matrix "
   ]
  },
  {
   "cell_type": "code",
   "execution_count": 90,
   "id": "7439d013-b46c-4065-889d-bd574af2d1c4",
   "metadata": {},
   "outputs": [
    {
     "data": {
      "text/plain": [
       "array([[ 7. ,  5.3, -3. ],\n",
       "       [ 3. , -5. ,  2. ],\n",
       "       [ 5. ,  3. , -7. ]])"
      ]
     },
     "execution_count": 90,
     "metadata": {},
     "output_type": "execute_result"
    }
   ],
   "source": [
    "a = np.array([[7, 5.3, -3], [3, -5, 2], [5, 3, -7]])\n",
    "a"
   ]
  },
  {
   "cell_type": "code",
   "execution_count": 91,
   "id": "29728df8-b1f2-4e3f-94c3-94814dabdbe2",
   "metadata": {},
   "outputs": [
    {
     "data": {
      "text/plain": [
       "array([16,  8,  0])"
      ]
     },
     "execution_count": 91,
     "metadata": {},
     "output_type": "execute_result"
    }
   ],
   "source": [
    "b = np.array([16, 8, 0])\n",
    "b"
   ]
  },
  {
   "cell_type": "code",
   "execution_count": 92,
   "id": "4452d5d2-4889-4120-a4b3-ff25de13e350",
   "metadata": {},
   "outputs": [
    {
     "data": {
      "text/plain": [
       "array([2.59630607, 0.84432718, 2.21635884])"
      ]
     },
     "execution_count": 92,
     "metadata": {},
     "output_type": "execute_result"
    }
   ],
   "source": [
    "np.linalg.solve(a, b)  # -->> "
   ]
  }
 ],
 "metadata": {
  "kernelspec": {
   "display_name": "Python 3 (ipykernel)",
   "language": "python",
   "name": "python3"
  },
  "language_info": {
   "codemirror_mode": {
    "name": "ipython",
    "version": 3
   },
   "file_extension": ".py",
   "mimetype": "text/x-python",
   "name": "python",
   "nbconvert_exporter": "python",
   "pygments_lexer": "ipython3",
   "version": "3.10.8"
  }
 },
 "nbformat": 4,
 "nbformat_minor": 5
}
