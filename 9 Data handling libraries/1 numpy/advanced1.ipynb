{
 "cells": [
  {
   "cell_type": "code",
   "execution_count": 3,
   "id": "269019c9-08c6-47cf-a32a-ae77789650e9",
   "metadata": {},
   "outputs": [],
   "source": [
    "import numpy as np\n"
   ]
  },
  {
   "cell_type": "code",
   "execution_count": 4,
   "id": "af398637-7a88-43fd-91a1-125cd90c445a",
   "metadata": {},
   "outputs": [],
   "source": [
    "a = np.zeros(5) # returns a new array of given shape and type"
   ]
  },
  {
   "cell_type": "code",
   "execution_count": 5,
   "id": "086714dd-682c-4dd0-9052-d39abab3c061",
   "metadata": {},
   "outputs": [
    {
     "data": {
      "text/plain": [
       "1"
      ]
     },
     "execution_count": 5,
     "metadata": {},
     "output_type": "execute_result"
    }
   ],
   "source": [
    "a.ndim"
   ]
  },
  {
   "cell_type": "code",
   "execution_count": 6,
   "id": "17c5fc99-a180-4c85-bfdd-8f56e5de8fde",
   "metadata": {},
   "outputs": [],
   "source": [
    "b = np.zeros((3,4)) # 3 rows and 4 columns "
   ]
  },
  {
   "cell_type": "code",
   "execution_count": 7,
   "id": "bba48436-8105-47ae-8b5f-5aa88f9f2cec",
   "metadata": {},
   "outputs": [
    {
     "data": {
      "text/plain": [
       "(3, 4)"
      ]
     },
     "execution_count": 7,
     "metadata": {},
     "output_type": "execute_result"
    }
   ],
   "source": [
    "b.ndim\n",
    "b.shape"
   ]
  },
  {
   "cell_type": "code",
   "execution_count": 8,
   "id": "1d66b3b2-797c-4f37-b499-94df38b3dfa1",
   "metadata": {},
   "outputs": [
    {
     "data": {
      "text/plain": [
       "array([[0., 0., 0., 0.],\n",
       "       [0., 0., 0., 0.],\n",
       "       [0., 0., 0., 0.]])"
      ]
     },
     "execution_count": 8,
     "metadata": {},
     "output_type": "execute_result"
    }
   ],
   "source": [
    "b"
   ]
  },
  {
   "cell_type": "code",
   "execution_count": 9,
   "id": "7b9e3079-a972-45b3-94ad-f5f016da24ea",
   "metadata": {},
   "outputs": [
    {
     "data": {
      "text/plain": [
       "array([[1., 1., 1., 1.],\n",
       "       [1., 1., 1., 1.],\n",
       "       [1., 1., 1., 1.]])"
      ]
     },
     "execution_count": 9,
     "metadata": {},
     "output_type": "execute_result"
    }
   ],
   "source": [
    "np.ones((3,4)) # same but works for ones"
   ]
  },
  {
   "cell_type": "code",
   "execution_count": 10,
   "id": "ca1f3dba-768e-40e5-ae1c-77767ff8536b",
   "metadata": {},
   "outputs": [
    {
     "data": {
      "text/plain": [
       "array([[2, 2, 2],\n",
       "       [2, 2, 2]])"
      ]
     },
     "execution_count": 10,
     "metadata": {},
     "output_type": "execute_result"
    }
   ],
   "source": [
    " # now to create with elements 2 -> no direct function\n",
    "np.array(([2,2,2],[2,2,2]))"
   ]
  },
  {
   "cell_type": "code",
   "execution_count": 11,
   "id": "1fe38698-5ead-45ab-af9d-3d8d8195f7c8",
   "metadata": {},
   "outputs": [
    {
     "data": {
      "text/plain": [
       "array([[0., 0., 0., 0.],\n",
       "       [0., 0., 0., 0.],\n",
       "       [0., 0., 0., 0.]])"
      ]
     },
     "execution_count": 11,
     "metadata": {},
     "output_type": "execute_result"
    }
   ],
   "source": [
    "arr = np.zeros((3,4))\n",
    "arr"
   ]
  },
  {
   "cell_type": "code",
   "execution_count": 12,
   "id": "5b51848b-e2e7-4500-a331-17a0b98230e6",
   "metadata": {},
   "outputs": [
    {
     "data": {
      "text/plain": [
       "array([[[0., 0., 0., 0.],\n",
       "        [0., 0., 0., 0.],\n",
       "        [0., 0., 0., 0.]]])"
      ]
     },
     "execution_count": 12,
     "metadata": {},
     "output_type": "execute_result"
    }
   ],
   "source": [
    "# 3d array\n",
    "arr = np.zeros((3,4))\n",
    "arr.ndim\n",
    "\n",
    "arr2 = np.zeros((1,3,4))\n",
    "arr2\n"
   ]
  },
  {
   "cell_type": "code",
   "execution_count": 13,
   "id": "b21b7b49-b90c-4919-819d-8ef795d07e5f",
   "metadata": {},
   "outputs": [
    {
     "data": {
      "text/plain": [
       "3"
      ]
     },
     "execution_count": 13,
     "metadata": {},
     "output_type": "execute_result"
    }
   ],
   "source": [
    "arr2.ndim"
   ]
  },
  {
   "cell_type": "code",
   "execution_count": 14,
   "id": "1a1c3812-72d3-4cd2-9bc1-c4bd59cf00b4",
   "metadata": {},
   "outputs": [
    {
     "data": {
      "text/plain": [
       "7"
      ]
     },
     "execution_count": 14,
     "metadata": {},
     "output_type": "execute_result"
    }
   ],
   "source": [
    "# 4d array / more \n",
    "\n",
    "arr = np.zeros((1,1,1,1,1,1,1)) # -> 7 dimensionsal \n",
    "arr.ndim\n"
   ]
  },
  {
   "cell_type": "code",
   "execution_count": 15,
   "id": "e9379a9d-582f-48d7-b3d9-f340f312c03c",
   "metadata": {},
   "outputs": [],
   "source": [
    "arr = np.ones((3,4))\n"
   ]
  },
  {
   "cell_type": "code",
   "execution_count": 16,
   "id": "4a2e8231-595f-41a1-ba72-bd4d94cc9dd8",
   "metadata": {},
   "outputs": [
    {
     "data": {
      "text/plain": [
       "array([[1., 1., 1., 1.],\n",
       "       [1., 1., 1., 1.],\n",
       "       [1., 1., 1., 1.]])"
      ]
     },
     "execution_count": 16,
     "metadata": {},
     "output_type": "execute_result"
    }
   ],
   "source": [
    "arr"
   ]
  },
  {
   "cell_type": "code",
   "execution_count": 17,
   "id": "f24d467e-f417-4d61-b620-ebdf50fbc15b",
   "metadata": {},
   "outputs": [
    {
     "data": {
      "text/plain": [
       "array([[6., 6., 6., 6.],\n",
       "       [6., 6., 6., 6.],\n",
       "       [6., 6., 6., 6.]])"
      ]
     },
     "execution_count": 17,
     "metadata": {},
     "output_type": "execute_result"
    }
   ],
   "source": [
    "arr+5 # adds 5 to eveyr element"
   ]
  },
  {
   "cell_type": "code",
   "execution_count": 18,
   "id": "a385e7d9-2b08-4334-9f5e-f9099c87043d",
   "metadata": {},
   "outputs": [
    {
     "data": {
      "text/plain": [
       "array([[0.16666667, 0.16666667, 0.16666667, 0.16666667],\n",
       "       [0.16666667, 0.16666667, 0.16666667, 0.16666667],\n",
       "       [0.16666667, 0.16666667, 0.16666667, 0.16666667]])"
      ]
     },
     "execution_count": 18,
     "metadata": {},
     "output_type": "execute_result"
    }
   ],
   "source": [
    "arr/6"
   ]
  },
  {
   "cell_type": "code",
   "execution_count": 19,
   "id": "8c07025b-033d-4591-a828-60dedcd046c2",
   "metadata": {},
   "outputs": [
    {
     "data": {
      "text/plain": [
       "array([[38388383., 38388383., 38388383., 38388383.],\n",
       "       [38388383., 38388383., 38388383., 38388383.],\n",
       "       [38388383., 38388383., 38388383., 38388383.]])"
      ]
     },
     "execution_count": 19,
     "metadata": {},
     "output_type": "execute_result"
    }
   ],
   "source": [
    "arr*38388383"
   ]
  },
  {
   "cell_type": "code",
   "execution_count": 20,
   "id": "e6be7d14-3ab8-4f6c-b923-8ee35d18bd0f",
   "metadata": {},
   "outputs": [],
   "source": [
    "a = arr*5"
   ]
  },
  {
   "cell_type": "code",
   "execution_count": 21,
   "id": "139a93f5-3718-4243-a0b6-ea2b3c8d4233",
   "metadata": {},
   "outputs": [
    {
     "data": {
      "text/plain": [
       "array([[5., 5., 5., 5.],\n",
       "       [5., 5., 5., 5.],\n",
       "       [5., 5., 5., 5.]])"
      ]
     },
     "execution_count": 21,
     "metadata": {},
     "output_type": "execute_result"
    }
   ],
   "source": [
    "a"
   ]
  },
  {
   "cell_type": "code",
   "execution_count": 22,
   "id": "2c98c06e-86c5-4203-bfd1-90ef0d461901",
   "metadata": {},
   "outputs": [],
   "source": [
    "a = a/5"
   ]
  },
  {
   "cell_type": "code",
   "execution_count": 23,
   "id": "624acbd8-820a-4011-80a9-4fac53b7217b",
   "metadata": {},
   "outputs": [
    {
     "data": {
      "text/plain": [
       "array([[1., 1., 1., 1.],\n",
       "       [1., 1., 1., 1.],\n",
       "       [1., 1., 1., 1.]])"
      ]
     },
     "execution_count": 23,
     "metadata": {},
     "output_type": "execute_result"
    }
   ],
   "source": [
    "a"
   ]
  },
  {
   "cell_type": "markdown",
   "id": "bbe86f1a-648a-483c-8b72-c4c3a4059742",
   "metadata": {},
   "source": [
    "# special funcitons"
   ]
  },
  {
   "cell_type": "code",
   "execution_count": 24,
   "id": "30bbfd5b-20a4-48c4-822d-936d145cc0c0",
   "metadata": {},
   "outputs": [
    {
     "data": {
      "text/plain": [
       "array([[1., 0., 0.],\n",
       "       [0., 1., 0.],\n",
       "       [0., 0., 1.]])"
      ]
     },
     "execution_count": 24,
     "metadata": {},
     "output_type": "execute_result"
    }
   ],
   "source": [
    "np.eye(3) #Return a 2-D array with ones on the diagonal and zeros elsewhere.\n",
    "# these are floats"
   ]
  },
  {
   "cell_type": "code",
   "execution_count": 25,
   "id": "cf5d0e70-0c56-4849-88ff-a1627b347d2e",
   "metadata": {},
   "outputs": [
    {
     "data": {
      "text/plain": [
       "array([[1, 0, 0],\n",
       "       [0, 1, 0],\n",
       "       [0, 0, 1]])"
      ]
     },
     "execution_count": 25,
     "metadata": {},
     "output_type": "execute_result"
    }
   ],
   "source": [
    "np.eye(3, dtype = int)"
   ]
  },
  {
   "cell_type": "code",
   "execution_count": 26,
   "id": "e18c1289-80cc-4b1c-8eb0-1d250454058c",
   "metadata": {},
   "outputs": [
    {
     "data": {
      "text/plain": [
       "array([[1., 1., 1., 1.],\n",
       "       [1., 1., 1., 1.],\n",
       "       [1., 1., 1., 1.]])"
      ]
     },
     "execution_count": 26,
     "metadata": {},
     "output_type": "execute_result"
    }
   ],
   "source": [
    "np.empty((3, 4)) #Return a new array of given shape and type, without initializing entries"
   ]
  },
  {
   "cell_type": "code",
   "execution_count": 27,
   "id": "f3477643-59d7-40a1-91eb-b8406b145daf",
   "metadata": {},
   "outputs": [
    {
     "name": "stdout",
     "output_type": "stream",
     "text": [
      "2\n",
      "y\n",
      "0.479863400168308\n",
      "None\n",
      "10.81247412062667\n",
      "[]\n",
      "[0.7339484 0.3391217 0.6223851 0.6926543 0.9089102]\n",
      "\n",
      "\n"
     ]
    }
   ],
   "source": [
    "#optional >> random module\n",
    "\n",
    "import random\n",
    "print(random.choice((1, 2, 3, 4, 5)))\n",
    "print(random.choice('Ajay'))\n",
    "print(random.random()) # a random no is generated between 0(included) and 1 (excluded)\n",
    "lis = [1, 2, 3, 4, 5]\n",
    "print(random.shuffle(lis))\n",
    "print(random.uniform(7, 14))\n",
    "\n",
    "#random numbers related concepts in numpy\n",
    "\n",
    "print(np.array([])) #Generates random floating-point numbers between 0 (inclusive) and 1 (exclusive).\n",
    "\n",
    "print(np.random.random_sample((5, )))  # in NumPy generates a one-dimensional array (a row vector) containing five random floating-point numbers between 0 (inclusive) and 1 (exclusive).\n",
    "print()\n",
    "print()\n"
   ]
  },
  {
   "cell_type": "code",
   "execution_count": 28,
   "id": "8d652a8e-b5ac-4281-8520-3b30bfd0bacc",
   "metadata": {},
   "outputs": [
    {
     "data": {
      "text/plain": [
       "array([0.79483469])"
      ]
     },
     "execution_count": 28,
     "metadata": {},
     "output_type": "execute_result"
    }
   ],
   "source": [
    "np.random.rand(1) # 1 random element array 1d"
   ]
  },
  {
   "cell_type": "code",
   "execution_count": 39,
   "id": "9e3b6dd6-a4b6-4fa9-97a6-9482b676fee1",
   "metadata": {},
   "outputs": [
    {
     "data": {
      "text/plain": [
       "array([[-7.33850617e-01, -4.47420660e-01, -1.76124026e+00],\n",
       "       [ 5.95771317e-04, -2.37384241e-01, -4.38366252e-02]])"
      ]
     },
     "execution_count": 39,
     "metadata": {},
     "output_type": "execute_result"
    }
   ],
   "source": [
    "np.random.randn(2,3)  # random number of the provided characters\n",
    "# note : these numbers come from a random distribution population"
   ]
  },
  {
   "cell_type": "code",
   "execution_count": 30,
   "id": "8b62d0b2-fb89-4f75-b5ca-8c2424d50b50",
   "metadata": {},
   "outputs": [
    {
     "name": "stdout",
     "output_type": "stream",
     "text": [
      "[[2 1 3 4]\n",
      " [2 4 1 1]\n",
      " [2 2 4 3]]\n",
      "2\n",
      "12\n",
      "(3, 4)\n"
     ]
    }
   ],
   "source": [
    "arr = np.random.randint(1, 5, size= (3, 4)) # from 1 to. 5 (excluded)\n",
    "print(arr)\n",
    "print(arr.ndim)\n",
    "print(arr.size)\n",
    "print(arr.shape)"
   ]
  },
  {
   "cell_type": "code",
   "execution_count": null,
   "id": "1eadca61-c048-4f45-ba22-8057f383f394",
   "metadata": {},
   "outputs": [],
   "source": []
  },
  {
   "cell_type": "markdown",
   "id": "cd123d35-8a86-44fd-9a7f-084d14b3b642",
   "metadata": {},
   "source": [
    "## reshaping the array "
   ]
  },
  {
   "cell_type": "code",
   "execution_count": 31,
   "id": "51e30b07-8228-4495-872a-a34a4fd24197",
   "metadata": {},
   "outputs": [],
   "source": [
    "arr1 = arr.reshape(2, 6) #array size will not change, always resape parameter should be multiplication of original array size"
   ]
  },
  {
   "cell_type": "code",
   "execution_count": 32,
   "id": "63acb7dc-e55b-43e5-9e3a-7e6c167f0a55",
   "metadata": {},
   "outputs": [
    {
     "data": {
      "text/plain": [
       "array([[2, 1, 3, 4, 2, 4],\n",
       "       [1, 1, 2, 2, 4, 3]])"
      ]
     },
     "execution_count": 32,
     "metadata": {},
     "output_type": "execute_result"
    }
   ],
   "source": [
    "arr1"
   ]
  },
  {
   "cell_type": "code",
   "execution_count": 33,
   "id": "4227616c-64f8-4b61-abab-4071c1999405",
   "metadata": {},
   "outputs": [
    {
     "data": {
      "text/plain": [
       "array([[2],\n",
       "       [1],\n",
       "       [3],\n",
       "       [4],\n",
       "       [2],\n",
       "       [4],\n",
       "       [1],\n",
       "       [1],\n",
       "       [2],\n",
       "       [2],\n",
       "       [4],\n",
       "       [3]])"
      ]
     },
     "execution_count": 33,
     "metadata": {},
     "output_type": "execute_result"
    }
   ],
   "source": [
    "arr.reshape(12,1)"
   ]
  },
  {
   "cell_type": "code",
   "execution_count": 34,
   "id": "a4b04b68-d314-45a7-a30f-2cb89120f325",
   "metadata": {},
   "outputs": [
    {
     "data": {
      "text/plain": [
       "array([[2, 1, 3, 4, 2, 4, 1, 1, 2, 2, 4, 3]])"
      ]
     },
     "execution_count": 34,
     "metadata": {},
     "output_type": "execute_result"
    }
   ],
   "source": [
    "arr.reshape(1, 12)"
   ]
  },
  {
   "cell_type": "code",
   "execution_count": 36,
   "id": "9b93ed31-cecf-4e7b-869b-2d0435a37190",
   "metadata": {},
   "outputs": [],
   "source": [
    "# arr.reshape(3, 3) # throws an array due to a different size"
   ]
  },
  {
   "cell_type": "code",
   "execution_count": 37,
   "id": "8b89227b-da6a-40b3-8bb3-8875fa65e83a",
   "metadata": {},
   "outputs": [
    {
     "data": {
      "text/plain": [
       "array([[2, 1, 3, 4],\n",
       "       [2, 4, 1, 1],\n",
       "       [2, 2, 4, 3]])"
      ]
     },
     "execution_count": 37,
     "metadata": {},
     "output_type": "execute_result"
    }
   ],
   "source": [
    "arr.reshape(3,4)"
   ]
  },
  {
   "cell_type": "code",
   "execution_count": 52,
   "id": "3e9538a9-bb9e-43e5-acc7-bb7721673cf9",
   "metadata": {},
   "outputs": [
    {
     "data": {
      "text/plain": [
       "array([[2, 1, 3],\n",
       "       [4, 2, 4],\n",
       "       [1, 1, 2],\n",
       "       [2, 4, 3]])"
      ]
     },
     "execution_count": 52,
     "metadata": {},
     "output_type": "execute_result"
    }
   ],
   "source": [
    "#case when you dont know in reshape what should be the column count\n",
    "\n",
    "arr.reshape(4, -1)\n",
    "\n",
    "\n",
    "\n"
   ]
  },
  {
   "cell_type": "code",
   "execution_count": 54,
   "id": "92183bc8-60fa-4b94-86b8-dd653b1b8e74",
   "metadata": {},
   "outputs": [
    {
     "data": {
      "text/plain": [
       "array([[2, 1, 3, 4, 2, 4],\n",
       "       [1, 1, 2, 2, 4, 3]])"
      ]
     },
     "execution_count": 54,
     "metadata": {},
     "output_type": "execute_result"
    }
   ],
   "source": [
    "arr.reshape(2, -1)\n"
   ]
  },
  {
   "cell_type": "code",
   "execution_count": 55,
   "id": "963ccce8-7f30-465e-835b-7495905feebb",
   "metadata": {},
   "outputs": [
    {
     "data": {
      "text/plain": [
       "array([[2, 1, 3, 4, 2, 4],\n",
       "       [1, 1, 2, 2, 4, 3]])"
      ]
     },
     "execution_count": 55,
     "metadata": {},
     "output_type": "execute_result"
    }
   ],
   "source": [
    "arr.reshape(2, -100)"
   ]
  },
  {
   "cell_type": "code",
   "execution_count": 59,
   "id": "4eac2a2b-83eb-4c4a-9ca7-42071b369045",
   "metadata": {},
   "outputs": [
    {
     "data": {
      "text/plain": [
       "array([[2, 1, 3],\n",
       "       [4, 2, 4],\n",
       "       [1, 1, 2],\n",
       "       [2, 4, 3]])"
      ]
     },
     "execution_count": 59,
     "metadata": {},
     "output_type": "execute_result"
    }
   ],
   "source": [
    "#you know column count but no row count\n",
    "arr1 = arr.reshape(-1, 3)\n",
    "arr1"
   ]
  },
  {
   "cell_type": "code",
   "execution_count": 60,
   "id": "cabde864-2dc4-4be8-95b5-9f60b3e0a9e4",
   "metadata": {},
   "outputs": [
    {
     "data": {
      "text/plain": [
       "array([[2, 1, 3, 4],\n",
       "       [2, 4, 1, 1],\n",
       "       [2, 2, 4, 3]])"
      ]
     },
     "execution_count": 60,
     "metadata": {},
     "output_type": "execute_result"
    }
   ],
   "source": [
    " #to see the original array\n",
    "arr.reshape(12, 1).base"
   ]
  },
  {
   "cell_type": "code",
   "execution_count": 63,
   "id": "f9523670-1aac-4680-9c40-03ef67d70174",
   "metadata": {},
   "outputs": [
    {
     "data": {
      "text/plain": [
       "array([[[2, 1, 3],\n",
       "        [4, 2, 4]],\n",
       "\n",
       "       [[1, 1, 2],\n",
       "        [2, 4, 3]]])"
      ]
     },
     "execution_count": 63,
     "metadata": {},
     "output_type": "execute_result"
    }
   ],
   "source": [
    "# you can also reshape it into more dimensions\n",
    "arr.reshape(2, 2, 3) # 2 times repeat 2*3 matrix\n",
    "\n"
   ]
  },
  {
   "cell_type": "code",
   "execution_count": 50,
   "id": "e93a8f9e-0e2b-45df-a343-f279fa8d65cf",
   "metadata": {},
   "outputs": [
    {
     "data": {
      "text/plain": [
       "array([[[[2, 1, 3],\n",
       "         [4, 2, 4]],\n",
       "\n",
       "        [[1, 1, 2],\n",
       "         [2, 4, 3]]]])"
      ]
     },
     "execution_count": 50,
     "metadata": {},
     "output_type": "execute_result"
    }
   ],
   "source": [
    "arr.reshape(1, 2, 2, 3)"
   ]
  },
  {
   "cell_type": "code",
   "execution_count": 61,
   "id": "0ecde747-04c5-47a5-8405-dea53088d47e",
   "metadata": {},
   "outputs": [
    {
     "data": {
      "text/plain": [
       "4"
      ]
     },
     "execution_count": 61,
     "metadata": {},
     "output_type": "execute_result"
    }
   ],
   "source": [
    "arr.reshape(1, 2, 2, 3).ndim"
   ]
  },
  {
   "cell_type": "code",
   "execution_count": 62,
   "id": "b2aac47d-b732-464d-a361-ee297a93f15b",
   "metadata": {},
   "outputs": [
    {
     "data": {
      "text/plain": [
       "array([[[2],\n",
       "        [1],\n",
       "        [3]],\n",
       "\n",
       "       [[4],\n",
       "        [2],\n",
       "        [4]],\n",
       "\n",
       "       [[1],\n",
       "        [1],\n",
       "        [2]],\n",
       "\n",
       "       [[2],\n",
       "        [4],\n",
       "        [3]]])"
      ]
     },
     "execution_count": 62,
     "metadata": {},
     "output_type": "execute_result"
    }
   ],
   "source": [
    "arr.reshape(4, 3, 1) #3 rows 1 column repeated 4 times in the third dimension"
   ]
  },
  {
   "cell_type": "markdown",
   "id": "766a9d12-7a50-48fd-86cb-f9563b9c8e52",
   "metadata": {},
   "source": [
    "## conditions on array"
   ]
  },
  {
   "cell_type": "code",
   "execution_count": 65,
   "id": "4e2928f0-36c7-4977-aa59-83e061eb6b4f",
   "metadata": {},
   "outputs": [],
   "source": [
    "\n",
    "arr1 = np.random.randint(1, 10, (5,6))"
   ]
  },
  {
   "cell_type": "code",
   "execution_count": 66,
   "id": "83aff567-cf27-41c0-b4fe-3eac4c6c75ee",
   "metadata": {},
   "outputs": [
    {
     "data": {
      "text/plain": [
       "array([[1, 8, 6, 3, 5, 3],\n",
       "       [1, 4, 9, 2, 3, 5],\n",
       "       [3, 4, 3, 6, 8, 5],\n",
       "       [5, 8, 7, 6, 4, 9],\n",
       "       [3, 2, 5, 2, 4, 6]])"
      ]
     },
     "execution_count": 66,
     "metadata": {},
     "output_type": "execute_result"
    }
   ],
   "source": [
    "arr1"
   ]
  },
  {
   "cell_type": "code",
   "execution_count": 70,
   "id": "8c57ba73-d38a-445d-9521-78087391ba18",
   "metadata": {},
   "outputs": [
    {
     "data": {
      "text/plain": [
       "array([[False,  True,  True, False,  True, False],\n",
       "       [False,  True,  True, False, False,  True],\n",
       "       [False,  True, False,  True,  True,  True],\n",
       "       [ True,  True,  True,  True,  True,  True],\n",
       "       [False, False,  True, False,  True,  True]])"
      ]
     },
     "execution_count": 70,
     "metadata": {},
     "output_type": "execute_result"
    }
   ],
   "source": [
    "arr1 > 3"
   ]
  },
  {
   "cell_type": "code",
   "execution_count": 71,
   "id": "2d054a5d-0d1b-4b17-85a4-6928e3f0d29f",
   "metadata": {},
   "outputs": [
    {
     "data": {
      "text/plain": [
       "array([8, 6, 5, 4, 9, 5, 4, 6, 8, 5, 5, 8, 7, 6, 4, 9, 5, 4, 6])"
      ]
     },
     "execution_count": 71,
     "metadata": {},
     "output_type": "execute_result"
    }
   ],
   "source": [
    "arr1[arr1>3]"
   ]
  },
  {
   "cell_type": "code",
   "execution_count": 72,
   "id": "24d8c388-6694-4ea1-9bb7-22dad015f547",
   "metadata": {},
   "outputs": [
    {
     "data": {
      "text/plain": [
       "array([1, 1, 2, 2, 2])"
      ]
     },
     "execution_count": 72,
     "metadata": {},
     "output_type": "execute_result"
    }
   ],
   "source": [
    "arr1[arr1<3]"
   ]
  },
  {
   "cell_type": "code",
   "execution_count": null,
   "id": "ae79c154-32b9-496f-996f-6d57cf02f528",
   "metadata": {},
   "outputs": [],
   "source": []
  },
  {
   "cell_type": "code",
   "execution_count": null,
   "id": "e7324224-decb-4a99-a699-9c26e96f0b53",
   "metadata": {},
   "outputs": [],
   "source": []
  },
  {
   "cell_type": "markdown",
   "id": "f439a77a-cc11-4da6-9391-ad23ed66c073",
   "metadata": {},
   "source": [
    "## accessing elements in array"
   ]
  },
  {
   "cell_type": "code",
   "execution_count": 67,
   "id": "eec0c62f-6a63-4beb-9eb6-b81c14da4d55",
   "metadata": {},
   "outputs": [
    {
     "data": {
      "text/plain": [
       "array([1, 8, 6, 3, 5, 3])"
      ]
     },
     "execution_count": 67,
     "metadata": {},
     "output_type": "execute_result"
    }
   ],
   "source": [
    "# to access row\n",
    "arr1[0]"
   ]
  },
  {
   "cell_type": "code",
   "execution_count": 68,
   "id": "f0cc0b51-3421-45c4-beb6-d63d2f9ecd50",
   "metadata": {},
   "outputs": [
    {
     "data": {
      "text/plain": [
       "1"
      ]
     },
     "execution_count": 68,
     "metadata": {},
     "output_type": "execute_result"
    }
   ],
   "source": [
    "# to accesss 0th element of 0th row\n",
    "arr1[0][0]"
   ]
  },
  {
   "cell_type": "code",
   "execution_count": 69,
   "id": "fcaeb55b-918a-4bb8-9374-34eb8a750e04",
   "metadata": {},
   "outputs": [
    {
     "data": {
      "text/plain": [
       "array([[1, 8, 6, 3, 5, 3],\n",
       "       [1, 4, 9, 2, 3, 5]])"
      ]
     },
     "execution_count": 69,
     "metadata": {},
     "output_type": "execute_result"
    }
   ],
   "source": [
    "# to access first 2 row \n",
    "arr1[0:2] # just like string slicing"
   ]
  },
  {
   "cell_type": "code",
   "execution_count": 73,
   "id": "8afaf51a-1dc8-40c4-855c-fcbde709f212",
   "metadata": {},
   "outputs": [
    {
     "data": {
      "text/plain": [
       "array([[1, 8, 6, 3, 5, 3],\n",
       "       [1, 4, 9, 2, 3, 5],\n",
       "       [3, 4, 3, 6, 8, 5]])"
      ]
     },
     "execution_count": 73,
     "metadata": {},
     "output_type": "execute_result"
    }
   ],
   "source": [
    "arr1[0:3] #oth row, 1st row and 2nd row"
   ]
  },
  {
   "cell_type": "code",
   "execution_count": 74,
   "id": "0c888733-652a-4bd0-9b8d-a5b010282606",
   "metadata": {},
   "outputs": [
    {
     "data": {
      "text/plain": [
       "array([[1, 6],\n",
       "       [1, 9],\n",
       "       [3, 3]])"
      ]
     },
     "execution_count": 74,
     "metadata": {},
     "output_type": "execute_result"
    }
   ],
   "source": [
    "arr1[0:3, [0, 2]] #0to2nd row and 0th and 2nd column"
   ]
  },
  {
   "cell_type": "markdown",
   "id": "4fcff004-1b37-4356-95e5-6ac2107f6655",
   "metadata": {},
   "source": [
    "## slicing on both rows and column"
   ]
  },
  {
   "cell_type": "code",
   "execution_count": 75,
   "id": "c56c8efe-7937-4cf1-9cfa-80c27f49cccd",
   "metadata": {},
   "outputs": [
    {
     "data": {
      "text/plain": [
       "array([[8, 6],\n",
       "       [4, 9],\n",
       "       [4, 3]])"
      ]
     },
     "execution_count": 75,
     "metadata": {},
     "output_type": "execute_result"
    }
   ],
   "source": [
    "arr1[0:3, 1:3]"
   ]
  },
  {
   "cell_type": "code",
   "execution_count": 76,
   "id": "e84c91d2-88cf-4c7a-a14e-79cf800993f3",
   "metadata": {},
   "outputs": [
    {
     "data": {
      "text/plain": [
       "array([[1, 8],\n",
       "       [1, 4]])"
      ]
     },
     "execution_count": 76,
     "metadata": {},
     "output_type": "execute_result"
    }
   ],
   "source": [
    "arr1[0:2, [0,1]]"
   ]
  },
  {
   "cell_type": "code",
   "execution_count": 77,
   "id": "2635d608-d8ff-4c04-93e6-187cbacb952f",
   "metadata": {},
   "outputs": [
    {
     "data": {
      "text/plain": [
       "array([8, 3])"
      ]
     },
     "execution_count": 77,
     "metadata": {},
     "output_type": "execute_result"
    }
   ],
   "source": [
    "arr1[0, [1, 3]]"
   ]
  },
  {
   "cell_type": "code",
   "execution_count": 78,
   "id": "83855d00-7af5-4f62-aab7-fffa6a665dbf",
   "metadata": {},
   "outputs": [
    {
     "data": {
      "text/plain": [
       "array([[3, 6],\n",
       "       [5, 6]])"
      ]
     },
     "execution_count": 78,
     "metadata": {},
     "output_type": "execute_result"
    }
   ],
   "source": [
    "arr1[2:4, [0, 3]]"
   ]
  },
  {
   "cell_type": "code",
   "execution_count": 79,
   "id": "2618bbe0-51f2-473a-8d12-97abe115ebb1",
   "metadata": {},
   "outputs": [
    {
     "data": {
      "text/plain": [
       "array([[3, 4, 3, 6, 8, 5],\n",
       "       [5, 8, 7, 6, 4, 9],\n",
       "       [3, 2, 5, 2, 4, 6]])"
      ]
     },
     "execution_count": 79,
     "metadata": {},
     "output_type": "execute_result"
    }
   ],
   "source": [
    "arr1[2:5]"
   ]
  },
  {
   "cell_type": "code",
   "execution_count": 80,
   "id": "e8118f2c-1779-42cf-8f53-cd22cebec02f",
   "metadata": {},
   "outputs": [
    {
     "data": {
      "text/plain": [
       "array([[3, 4],\n",
       "       [5, 8],\n",
       "       [3, 2]])"
      ]
     },
     "execution_count": 80,
     "metadata": {},
     "output_type": "execute_result"
    }
   ],
   "source": [
    "arr1[2:5, 0:2]"
   ]
  },
  {
   "cell_type": "markdown",
   "id": "e79e4ab3-aaf3-4a15-869c-0ae3e121ab80",
   "metadata": {},
   "source": [
    "## Mathematicaloperations on 2 arrays\n"
   ]
  },
  {
   "cell_type": "code",
   "execution_count": 81,
   "id": "e56ff00f-e1eb-4058-93a6-7a6ea7d719b1",
   "metadata": {},
   "outputs": [],
   "source": [
    "arr1 = np.random.randint(1, 3, (3, 3))\n",
    "arr2 = np.random.randint(1, 3, (3, 3))"
   ]
  },
  {
   "cell_type": "code",
   "execution_count": 85,
   "id": "83411f9b-aaaf-4795-87fa-6a9f5c6f73ee",
   "metadata": {},
   "outputs": [
    {
     "data": {
      "text/plain": [
       "array([[3, 3, 2],\n",
       "       [3, 3, 2],\n",
       "       [3, 3, 3]])"
      ]
     },
     "execution_count": 85,
     "metadata": {},
     "output_type": "execute_result"
    }
   ],
   "source": [
    "arr1+arr2 #index wise elment addition"
   ]
  },
  {
   "cell_type": "code",
   "execution_count": 83,
   "id": "d0ef6957-7597-4c39-8e62-fcb21935e568",
   "metadata": {},
   "outputs": [
    {
     "data": {
      "text/plain": [
       "array([[-1,  1,  0],\n",
       "       [-1, -1,  0],\n",
       "       [ 1, -1, -1]])"
      ]
     },
     "execution_count": 83,
     "metadata": {},
     "output_type": "execute_result"
    }
   ],
   "source": [
    "arr1-arr2 #indexwise element substraction"
   ]
  },
  {
   "cell_type": "code",
   "execution_count": 84,
   "id": "b290ca99-a934-4475-9e49-1b4708800dd8",
   "metadata": {},
   "outputs": [
    {
     "data": {
      "text/plain": [
       "array([[2, 2, 1],\n",
       "       [2, 2, 1],\n",
       "       [2, 2, 2]])"
      ]
     },
     "execution_count": 84,
     "metadata": {},
     "output_type": "execute_result"
    }
   ],
   "source": [
    "arr1 * arr2 #index wise multiplication"
   ]
  },
  {
   "cell_type": "code",
   "execution_count": 86,
   "id": "4552235c-9cae-4970-9912-91e98cb43f5c",
   "metadata": {},
   "outputs": [
    {
     "data": {
      "text/plain": [
       "(array([[1, 2, 1],\n",
       "        [1, 1, 1],\n",
       "        [2, 1, 1]]),\n",
       " array([[2, 1, 1],\n",
       "        [2, 2, 1],\n",
       "        [1, 2, 2]]))"
      ]
     },
     "execution_count": 86,
     "metadata": {},
     "output_type": "execute_result"
    }
   ],
   "source": [
    "arr1, arr2"
   ]
  },
  {
   "cell_type": "code",
   "execution_count": 87,
   "id": "77af3b56-b918-442c-a1a1-1ff9e18f06bd",
   "metadata": {},
   "outputs": [
    {
     "data": {
      "text/plain": [
       "array([[0.5, 2. , 1. ],\n",
       "       [0.5, 0.5, 1. ],\n",
       "       [2. , 0.5, 0.5]])"
      ]
     },
     "execution_count": 87,
     "metadata": {},
     "output_type": "execute_result"
    }
   ],
   "source": [
    "arr1 / arr2 #index wise divison"
   ]
  },
  {
   "cell_type": "code",
   "execution_count": 88,
   "id": "e95f6512-8d11-44c4-b3c5-a30072a4a60b",
   "metadata": {},
   "outputs": [
    {
     "name": "stderr",
     "output_type": "stream",
     "text": [
      "/tmp/ipykernel_77/1550714841.py:1: RuntimeWarning: divide by zero encountered in divide\n",
      "  arr1 / 0 #in python zero divion error will come, but in numpy no error\n"
     ]
    },
    {
     "data": {
      "text/plain": [
       "array([[inf, inf, inf],\n",
       "       [inf, inf, inf],\n",
       "       [inf, inf, inf]])"
      ]
     },
     "execution_count": 88,
     "metadata": {},
     "output_type": "execute_result"
    }
   ],
   "source": [
    "arr1 / 0 #in python zero divion error will come, but in numpy no error"
   ]
  },
  {
   "cell_type": "code",
   "execution_count": 89,
   "id": "e8fc4b0a-ea33-4b7c-ba60-a0910ee99372",
   "metadata": {},
   "outputs": [
    {
     "data": {
      "text/plain": [
       "array([[7, 7, 5],\n",
       "       [5, 5, 4],\n",
       "       [7, 6, 5]])"
      ]
     },
     "execution_count": 89,
     "metadata": {},
     "output_type": "execute_result"
    }
   ],
   "source": [
    "#matrix multiplication>> different from index wise multiplication\n",
    "\n",
    "arr1 @ arr2 #1st way to do matrix multiplication"
   ]
  },
  {
   "cell_type": "code",
   "execution_count": 90,
   "id": "61ab0a21-1d9c-4c8e-b905-d19cedb4642d",
   "metadata": {},
   "outputs": [
    {
     "data": {
      "text/plain": [
       "array([[7, 7, 5],\n",
       "       [5, 5, 4],\n",
       "       [7, 6, 5]])"
      ]
     },
     "execution_count": 90,
     "metadata": {},
     "output_type": "execute_result"
    }
   ],
   "source": [
    "np.dot(arr1, arr2) #ndst way to do matrix multiplication"
   ]
  },
  {
   "cell_type": "code",
   "execution_count": 91,
   "id": "f3366995-84c5-4576-af99-91039fa1f7e0",
   "metadata": {},
   "outputs": [],
   "source": [
    "arr = np.zeros((3, 4))"
   ]
  },
  {
   "cell_type": "code",
   "execution_count": 92,
   "id": "9d64f40f-bcd1-4348-a16c-6b02a8f1ea81",
   "metadata": {},
   "outputs": [
    {
     "data": {
      "text/plain": [
       "array([[0., 0., 0., 0.],\n",
       "       [0., 0., 0., 0.],\n",
       "       [0., 0., 0., 0.]])"
      ]
     },
     "execution_count": 92,
     "metadata": {},
     "output_type": "execute_result"
    }
   ],
   "source": [
    "arr"
   ]
  },
  {
   "cell_type": "code",
   "execution_count": 93,
   "id": "91527a86-2637-4346-af00-5c1805ca0159",
   "metadata": {},
   "outputs": [
    {
     "data": {
      "text/plain": [
       "array([[5., 5., 5., 5.],\n",
       "       [5., 5., 5., 5.],\n",
       "       [5., 5., 5., 5.]])"
      ]
     },
     "execution_count": 93,
     "metadata": {},
     "output_type": "execute_result"
    }
   ],
   "source": [
    "arr+5"
   ]
  },
  {
   "cell_type": "code",
   "execution_count": 94,
   "id": "8e78162a-19fc-4781-8e78-a17285fe6167",
   "metadata": {},
   "outputs": [
    {
     "data": {
      "text/plain": [
       "array([[0., 0., 0., 0.],\n",
       "       [0., 0., 0., 0.],\n",
       "       [0., 0., 0., 0.]])"
      ]
     },
     "execution_count": 94,
     "metadata": {},
     "output_type": "execute_result"
    }
   ],
   "source": [
    "arr*44"
   ]
  },
  {
   "cell_type": "code",
   "execution_count": 95,
   "id": "b3ff39eb-04be-459a-a26a-e5f2cb85e729",
   "metadata": {},
   "outputs": [],
   "source": [
    "a = np.array([1, 2, 3, 4]) # 1d array to explain vareuty of operation"
   ]
  },
  {
   "cell_type": "code",
   "execution_count": 96,
   "id": "da34b217-f4f0-47ed-9ff0-1d15cf01a804",
   "metadata": {},
   "outputs": [
    {
     "data": {
      "text/plain": [
       "array([[1., 2., 3., 4.],\n",
       "       [1., 2., 3., 4.],\n",
       "       [1., 2., 3., 4.]])"
      ]
     },
     "execution_count": 96,
     "metadata": {},
     "output_type": "execute_result"
    }
   ],
   "source": [
    "arr + a"
   ]
  },
  {
   "cell_type": "code",
   "execution_count": 97,
   "id": "872a7ca6-26e1-446f-92b3-61156f6ab8d9",
   "metadata": {},
   "outputs": [
    {
     "data": {
      "text/plain": [
       "array([1, 2, 3, 4])"
      ]
     },
     "execution_count": 97,
     "metadata": {},
     "output_type": "execute_result"
    }
   ],
   "source": [
    "#Transpose\n",
    "a.T"
   ]
  },
  {
   "cell_type": "code",
   "execution_count": 98,
   "id": "478c9ab5-bd5e-4fa5-bde3-88a07788fa9e",
   "metadata": {},
   "outputs": [
    {
     "data": {
      "text/plain": [
       "array([[0., 0., 0., 0.],\n",
       "       [0., 0., 0., 0.],\n",
       "       [0., 0., 0., 0.]])"
      ]
     },
     "execution_count": 98,
     "metadata": {},
     "output_type": "execute_result"
    }
   ],
   "source": [
    "arr"
   ]
  },
  {
   "cell_type": "code",
   "execution_count": 99,
   "id": "8809dbff-c28c-438b-940e-80f6e9b59472",
   "metadata": {},
   "outputs": [
    {
     "data": {
      "text/plain": [
       "array([[0., 0., 0.],\n",
       "       [0., 0., 0.],\n",
       "       [0., 0., 0.],\n",
       "       [0., 0., 0.]])"
      ]
     },
     "execution_count": 99,
     "metadata": {},
     "output_type": "execute_result"
    }
   ],
   "source": [
    "arr.T"
   ]
  },
  {
   "cell_type": "code",
   "execution_count": 100,
   "id": "e810a673-b98a-4074-a49b-27bd69040a54",
   "metadata": {},
   "outputs": [
    {
     "data": {
      "text/plain": [
       "array([0., 0., 0.])"
      ]
     },
     "execution_count": 100,
     "metadata": {},
     "output_type": "execute_result"
    }
   ],
   "source": [
    "arr[:,0] # access col 0 "
   ]
  },
  {
   "cell_type": "code",
   "execution_count": 103,
   "id": "984f24a1-4099-4c07-b9ce-488ca94b0b10",
   "metadata": {},
   "outputs": [
    {
     "data": {
      "text/plain": [
       "array([0.])"
      ]
     },
     "execution_count": 103,
     "metadata": {},
     "output_type": "execute_result"
    }
   ],
   "source": [
    "arr[2:3,0]"
   ]
  },
  {
   "cell_type": "code",
   "execution_count": 104,
   "id": "3025bba5-98d5-4a79-bc57-6717b4978fcc",
   "metadata": {},
   "outputs": [
    {
     "data": {
      "text/plain": [
       "array([0., 0., 0.])"
      ]
     },
     "execution_count": 104,
     "metadata": {},
     "output_type": "execute_result"
    }
   ],
   "source": [
    "# to access col 1\n",
    "arr[:,1]"
   ]
  },
  {
   "cell_type": "code",
   "execution_count": 105,
   "id": "93ea777c-6d3a-494e-a294-2c2254500e70",
   "metadata": {},
   "outputs": [],
   "source": [
    "arr5 = np.random.randint(1, 6, (5,5))"
   ]
  },
  {
   "cell_type": "code",
   "execution_count": 106,
   "id": "168ab542-c498-4bae-bc80-5dc5518660da",
   "metadata": {},
   "outputs": [
    {
     "data": {
      "text/plain": [
       "array([[4, 3, 1, 1, 4],\n",
       "       [5, 3, 3, 5, 3],\n",
       "       [1, 3, 4, 1, 5],\n",
       "       [1, 3, 3, 2, 4],\n",
       "       [3, 4, 4, 2, 3]])"
      ]
     },
     "execution_count": 106,
     "metadata": {},
     "output_type": "execute_result"
    }
   ],
   "source": [
    "arr5"
   ]
  },
  {
   "cell_type": "code",
   "execution_count": 107,
   "id": "eb20a142-cd24-4b99-be64-225e9dbad763",
   "metadata": {},
   "outputs": [
    {
     "data": {
      "text/plain": [
       "array([[2.        , 1.73205081, 1.        , 1.        , 2.        ],\n",
       "       [2.23606798, 1.73205081, 1.73205081, 2.23606798, 1.73205081],\n",
       "       [1.        , 1.73205081, 2.        , 1.        , 2.23606798],\n",
       "       [1.        , 1.73205081, 1.73205081, 1.41421356, 2.        ],\n",
       "       [1.73205081, 2.        , 2.        , 1.41421356, 1.73205081]])"
      ]
     },
     "execution_count": 107,
     "metadata": {},
     "output_type": "execute_result"
    }
   ],
   "source": [
    "np.sqrt(arr5) # another important function"
   ]
  },
  {
   "cell_type": "code",
   "execution_count": 109,
   "id": "957c26c8-9836-4c57-980c-b70bdf3f6370",
   "metadata": {},
   "outputs": [
    {
     "data": {
      "text/plain": [
       "array([[0.60205999, 0.47712125, 0.        , 0.        , 0.60205999],\n",
       "       [0.69897   , 0.47712125, 0.47712125, 0.69897   , 0.47712125],\n",
       "       [0.        , 0.47712125, 0.60205999, 0.        , 0.69897   ],\n",
       "       [0.        , 0.47712125, 0.47712125, 0.30103   , 0.60205999],\n",
       "       [0.47712125, 0.60205999, 0.60205999, 0.30103   , 0.47712125]])"
      ]
     },
     "execution_count": 109,
     "metadata": {},
     "output_type": "execute_result"
    }
   ],
   "source": [
    "np.log10(arr5) # gives the values forr log 10"
   ]
  },
  {
   "cell_type": "code",
   "execution_count": 111,
   "id": "3a453b0f-e2d6-45f3-b3ae-04a951698221",
   "metadata": {},
   "outputs": [
    {
     "data": {
      "text/plain": [
       "array([[2.71828183, 7.3890561 , 2.71828183],\n",
       "       [2.71828183, 2.71828183, 2.71828183],\n",
       "       [7.3890561 , 2.71828183, 2.71828183]])"
      ]
     },
     "execution_count": 111,
     "metadata": {},
     "output_type": "execute_result"
    }
   ],
   "source": [
    "np.exp(arr1) # e^ elements"
   ]
  },
  {
   "cell_type": "code",
   "execution_count": 112,
   "id": "5311d97c-c807-468e-82f2-c61c411e3442",
   "metadata": {},
   "outputs": [
    {
     "data": {
      "text/plain": [
       "1"
      ]
     },
     "execution_count": 112,
     "metadata": {},
     "output_type": "execute_result"
    }
   ],
   "source": [
    "np.min(arr5)"
   ]
  },
  {
   "cell_type": "code",
   "execution_count": 113,
   "id": "23e7ce67-c1d4-451b-b105-7a3e66cab4e3",
   "metadata": {},
   "outputs": [
    {
     "data": {
      "text/plain": [
       "5"
      ]
     },
     "execution_count": 113,
     "metadata": {},
     "output_type": "execute_result"
    }
   ],
   "source": [
    "np.max(arr5)"
   ]
  },
  {
   "cell_type": "code",
   "execution_count": null,
   "id": "2a7571ae-c671-497c-848a-81d5788710bd",
   "metadata": {},
   "outputs": [],
   "source": []
  }
 ],
 "metadata": {
  "kernelspec": {
   "display_name": "Python 3 (ipykernel)",
   "language": "python",
   "name": "python3"
  },
  "language_info": {
   "codemirror_mode": {
    "name": "ipython",
    "version": 3
   },
   "file_extension": ".py",
   "mimetype": "text/x-python",
   "name": "python",
   "nbconvert_exporter": "python",
   "pygments_lexer": "ipython3",
   "version": "3.10.8"
  }
 },
 "nbformat": 4,
 "nbformat_minor": 5
}
