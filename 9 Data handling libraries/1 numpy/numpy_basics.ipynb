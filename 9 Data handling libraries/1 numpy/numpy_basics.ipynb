{
 "cells": [
  {
   "cell_type": "code",
   "execution_count": null,
   "id": "439fed62-deb3-47ef-8a96-5382f3b21922",
   "metadata": {},
   "outputs": [],
   "source": [
    "# numpy basics"
   ]
  },
  {
   "cell_type": "code",
   "execution_count": 4,
   "id": "7ee36cde-0fce-4ef3-a3ea-4e4ab36bdb2d",
   "metadata": {},
   "outputs": [],
   "source": [
    "import numpy as np"
   ]
  },
  {
   "cell_type": "code",
   "execution_count": 2,
   "id": "ac2683b0-33c0-4a30-a743-e1422ea1e49c",
   "metadata": {},
   "outputs": [
    {
     "data": {
      "text/plain": [
       "'1.23.5'"
      ]
     },
     "execution_count": 2,
     "metadata": {},
     "output_type": "execute_result"
    }
   ],
   "source": [
    "np.__version__"
   ]
  },
  {
   "cell_type": "code",
   "execution_count": 3,
   "id": "caf69bbe-47c9-422a-b1d3-f10ee4e4e7d8",
   "metadata": {},
   "outputs": [
    {
     "name": "stdout",
     "output_type": "stream",
     "text": [
      "helolaeo\n"
     ]
    }
   ],
   "source": [
    "print(\"helolaeo\")"
   ]
  },
  {
   "cell_type": "code",
   "execution_count": 5,
   "id": "b80733ce-34ec-4cfa-9638-6d3697cefd8a",
   "metadata": {},
   "outputs": [
    {
     "name": "stdout",
     "output_type": "stream",
     "text": [
      "dfafaaf\n"
     ]
    }
   ],
   "source": [
    "print(\"dfafaaf\")"
   ]
  },
  {
   "cell_type": "code",
   "execution_count": 6,
   "id": "19db0752-f219-4ee1-81b8-e5e5c932fd41",
   "metadata": {},
   "outputs": [
    {
     "name": "stdout",
     "output_type": "stream",
     "text": [
      "\n",
      "NumPy\n",
      "=====\n",
      "\n",
      "Provides\n",
      "  1. An array object of arbitrary homogeneous items\n",
      "  2. Fast mathematical operations over arrays\n",
      "  3. Linear Algebra, Fourier Transforms, Random Number Generation\n",
      "\n",
      "How to use the documentation\n",
      "----------------------------\n",
      "Documentation is available in two forms: docstrings provided\n",
      "with the code, and a loose standing reference guide, available from\n",
      "`the NumPy homepage <https://numpy.org>`_.\n",
      "\n",
      "We recommend exploring the docstrings using\n",
      "`IPython <https://ipython.org>`_, an advanced Python shell with\n",
      "TAB-completion and introspection capabilities.  See below for further\n",
      "instructions.\n",
      "\n",
      "The docstring examples assume that `numpy` has been imported as `np`::\n",
      "\n",
      "  >>> import numpy as np\n",
      "\n",
      "Code snippets are indicated by three greater-than signs::\n",
      "\n",
      "  >>> x = 42\n",
      "  >>> x = x + 1\n",
      "\n",
      "Use the built-in ``help`` function to view a function's docstring::\n",
      "\n",
      "  >>> help(np.sort)\n",
      "  ... # doctest: +SKIP\n",
      "\n",
      "For some objects, ``np.info(obj)`` may provide additional help.  This is\n",
      "particularly true if you see the line \"Help on ufunc object:\" at the top\n",
      "of the help() page.  Ufuncs are implemented in C, not Python, for speed.\n",
      "The native Python help() does not know how to view their help, but our\n",
      "np.info() function does.\n",
      "\n",
      "To search for documents containing a keyword, do::\n",
      "\n",
      "  >>> np.lookfor('keyword')\n",
      "  ... # doctest: +SKIP\n",
      "\n",
      "General-purpose documents like a glossary and help on the basic concepts\n",
      "of numpy are available under the ``doc`` sub-module::\n",
      "\n",
      "  >>> from numpy import doc\n",
      "  >>> help(doc)\n",
      "  ... # doctest: +SKIP\n",
      "\n",
      "Available subpackages\n",
      "---------------------\n",
      "lib\n",
      "    Basic functions used by several sub-packages.\n",
      "random\n",
      "    Core Random Tools\n",
      "linalg\n",
      "    Core Linear Algebra Tools\n",
      "fft\n",
      "    Core FFT routines\n",
      "polynomial\n",
      "    Polynomial tools\n",
      "testing\n",
      "    NumPy testing tools\n",
      "distutils\n",
      "    Enhancements to distutils with support for\n",
      "    Fortran compilers support and more.\n",
      "\n",
      "Utilities\n",
      "---------\n",
      "test\n",
      "    Run numpy unittests\n",
      "show_config\n",
      "    Show numpy build configuration\n",
      "dual\n",
      "    Overwrite certain functions with high-performance SciPy tools.\n",
      "    Note: `numpy.dual` is deprecated.  Use the functions from NumPy or Scipy\n",
      "    directly instead of importing them from `numpy.dual`.\n",
      "matlib\n",
      "    Make everything matrices.\n",
      "__version__\n",
      "    NumPy version string\n",
      "\n",
      "Viewing documentation using IPython\n",
      "-----------------------------------\n",
      "Start IPython with the NumPy profile (``ipython -p numpy``), which will\n",
      "import `numpy` under the alias `np`.  Then, use the ``cpaste`` command to\n",
      "paste examples into the shell.  To see which functions are available in\n",
      "`numpy`, type ``np.<TAB>`` (where ``<TAB>`` refers to the TAB key), or use\n",
      "``np.*cos*?<ENTER>`` (where ``<ENTER>`` refers to the ENTER key) to narrow\n",
      "down the list.  To view the docstring for a function, use\n",
      "``np.cos?<ENTER>`` (to view the docstring) and ``np.cos??<ENTER>`` (to view\n",
      "the source code).\n",
      "\n",
      "Copies vs. in-place operation\n",
      "-----------------------------\n",
      "Most of the functions in `numpy` return a copy of the array argument\n",
      "(e.g., `np.sort`).  In-place versions of these functions are often\n",
      "available as array methods, i.e. ``x = np.array([1,2,3]); x.sort()``.\n",
      "Exceptions to this rule are documented.\n",
      "\n",
      "\n"
     ]
    }
   ],
   "source": [
    "print(np.__doc__)"
   ]
  },
  {
   "cell_type": "code",
   "execution_count": 8,
   "id": "89a0fcf3-8a5b-44cd-9782-55d655bfb15f",
   "metadata": {},
   "outputs": [],
   "source": [
    "#Numpy stores the data in an array\n",
    "#An array is a container used to store the data of same data type\n",
    "#why numpy\n",
    "#Computation is fast>> due to array>>>continous memory location\n",
    "#mathematical computation"
   ]
  },
  {
   "cell_type": "code",
   "execution_count": 9,
   "id": "9972ae06-ce56-4f0d-a139-2a0a6727f08e",
   "metadata": {},
   "outputs": [],
   "source": [
    "l = [1, 2, 3, 4, 5]"
   ]
  },
  {
   "cell_type": "code",
   "execution_count": 10,
   "id": "f2485035-0968-488c-91c0-2c4300c17610",
   "metadata": {},
   "outputs": [
    {
     "data": {
      "text/plain": [
       "array([1, 2, 3, 4, 5])"
      ]
     },
     "execution_count": 10,
     "metadata": {},
     "output_type": "execute_result"
    }
   ],
   "source": [
    "arr = np.array(l)\n",
    "arr"
   ]
  },
  {
   "cell_type": "code",
   "execution_count": 15,
   "id": "4e959f0d-b97b-40a2-8e35-e64a341d73cb",
   "metadata": {},
   "outputs": [
    {
     "name": "stdout",
     "output_type": "stream",
     "text": [
      "[1.  2.  3.  4.  5.1]\n",
      "['1' '2' '3' '4' '5.1' 'Ajay']\n"
     ]
    },
    {
     "data": {
      "text/plain": [
       "numpy.ndarray"
      ]
     },
     "execution_count": 15,
     "metadata": {},
     "output_type": "execute_result"
    }
   ],
   "source": [
    "# more similar conversions\n",
    "\n",
    "l = [1, 2, 3, 4, 5.1]\n",
    "arr = np.array(l)\n",
    "print(arr) # all are converted to float\n",
    "\n",
    "l = [1, 2, 3, 4, 5.1, \"Ajay\"]\n",
    "arr = np.array(l)\n",
    "print(arr)  # all are converted to string\n",
    "type(arr) # -> numpy.ndarray"
   ]
  },
  {
   "cell_type": "code",
   "execution_count": 16,
   "id": "1ae29e67-928f-4a1f-8f75-687d46e9c42c",
   "metadata": {},
   "outputs": [
    {
     "data": {
      "text/plain": [
       "1"
      ]
     },
     "execution_count": 16,
     "metadata": {},
     "output_type": "execute_result"
    }
   ],
   "source": [
    "# more factual points and functions\n",
    "# .ndim -> tells about the dimentsion of array\n",
    "arr.ndim"
   ]
  },
  {
   "cell_type": "code",
   "execution_count": 17,
   "id": "3ad93dfe-5a69-4037-ba8b-95c2ea429dfb",
   "metadata": {},
   "outputs": [
    {
     "name": "stdout",
     "output_type": "stream",
     "text": [
      "[[1 2 3]\n",
      " [4 5 6]]\n",
      "2\n"
     ]
    }
   ],
   "source": [
    "l = [[1,2,3],[4,5,6]]\n",
    "arr = np.array(l)\n",
    "print(arr)\n",
    "print(arr.ndim)"
   ]
  },
  {
   "cell_type": "code",
   "execution_count": 18,
   "id": "4ffeea5d-e0ca-4afd-9534-ecd71b9437b2",
   "metadata": {},
   "outputs": [],
   "source": [
    "mat = np.matrix([1, 2, 3, 4]) #matrix is a specialised array, 2 dimensional"
   ]
  },
  {
   "cell_type": "code",
   "execution_count": 19,
   "id": "3bee05b1-3ced-462b-bc34-cb0d64b52285",
   "metadata": {},
   "outputs": [
    {
     "data": {
      "text/plain": [
       "numpy.matrix"
      ]
     },
     "execution_count": 19,
     "metadata": {},
     "output_type": "execute_result"
    }
   ],
   "source": [
    "type(mat)"
   ]
  },
  {
   "cell_type": "code",
   "execution_count": 20,
   "id": "bc6a7da7-62c4-428b-9550-8cea0429f39a",
   "metadata": {},
   "outputs": [
    {
     "data": {
      "text/plain": [
       "matrix([[1, 2, 3, 4]])"
      ]
     },
     "execution_count": 20,
     "metadata": {},
     "output_type": "execute_result"
    }
   ],
   "source": [
    "mat"
   ]
  },
  {
   "cell_type": "code",
   "execution_count": 28,
   "id": "00568b91-81fa-4af5-876c-9bb6c3d15b26",
   "metadata": {},
   "outputs": [
    {
     "ename": "ValueError",
     "evalue": "matrix must be 2-dimensional",
     "output_type": "error",
     "traceback": [
      "\u001b[0;31m---------------------------------------------------------------------------\u001b[0m",
      "\u001b[0;31mValueError\u001b[0m                                Traceback (most recent call last)",
      "Cell \u001b[0;32mIn[28], line 1\u001b[0m\n\u001b[0;32m----> 1\u001b[0m \u001b[43mnp\u001b[49m\u001b[38;5;241;43m.\u001b[39;49m\u001b[43mmatrix\u001b[49m\u001b[43m(\u001b[49m\u001b[43m[\u001b[49m\u001b[43m[\u001b[49m\u001b[43m[\u001b[49m\u001b[38;5;241;43m1\u001b[39;49m\u001b[43m,\u001b[49m\u001b[43m \u001b[49m\u001b[38;5;241;43m2\u001b[39;49m\u001b[43m]\u001b[49m\u001b[43m,\u001b[49m\u001b[43m \u001b[49m\u001b[43m[\u001b[49m\u001b[38;5;241;43m3\u001b[39;49m\u001b[43m,\u001b[49m\u001b[38;5;241;43m4\u001b[39;49m\u001b[43m]\u001b[49m\u001b[43m,\u001b[49m\u001b[43m \u001b[49m\u001b[43m[\u001b[49m\u001b[38;5;241;43m5\u001b[39;49m\u001b[43m,\u001b[49m\u001b[38;5;241;43m6\u001b[39;49m\u001b[43m]\u001b[49m\u001b[43m]\u001b[49m\u001b[43m]\u001b[49m\u001b[43m)\u001b[49m \u001b[38;5;66;03m# error because this is a 3d array\u001b[39;00m\n",
      "File \u001b[0;32m/opt/conda/lib/python3.10/site-packages/numpy/matrixlib/defmatrix.py:149\u001b[0m, in \u001b[0;36mmatrix.__new__\u001b[0;34m(subtype, data, dtype, copy)\u001b[0m\n\u001b[1;32m    147\u001b[0m shape \u001b[38;5;241m=\u001b[39m arr\u001b[38;5;241m.\u001b[39mshape\n\u001b[1;32m    148\u001b[0m \u001b[38;5;28;01mif\u001b[39;00m (ndim \u001b[38;5;241m>\u001b[39m \u001b[38;5;241m2\u001b[39m):\n\u001b[0;32m--> 149\u001b[0m     \u001b[38;5;28;01mraise\u001b[39;00m \u001b[38;5;167;01mValueError\u001b[39;00m(\u001b[38;5;124m\"\u001b[39m\u001b[38;5;124mmatrix must be 2-dimensional\u001b[39m\u001b[38;5;124m\"\u001b[39m)\n\u001b[1;32m    150\u001b[0m \u001b[38;5;28;01melif\u001b[39;00m ndim \u001b[38;5;241m==\u001b[39m \u001b[38;5;241m0\u001b[39m:\n\u001b[1;32m    151\u001b[0m     shape \u001b[38;5;241m=\u001b[39m (\u001b[38;5;241m1\u001b[39m, \u001b[38;5;241m1\u001b[39m)\n",
      "\u001b[0;31mValueError\u001b[0m: matrix must be 2-dimensional"
     ]
    }
   ],
   "source": [
    "np.matrix([[[1, 2], [3,4], [5,6]]]) # error because this is a 3d array"
   ]
  },
  {
   "cell_type": "code",
   "execution_count": 22,
   "id": "13cac347-725f-456a-bdd5-7f3633da98c7",
   "metadata": {},
   "outputs": [
    {
     "name": "stdout",
     "output_type": "stream",
     "text": [
      "np.array:\n",
      "[1 2 3 4 5]\n",
      "\n",
      "np.asarray:\n",
      "[1 2 3 4 5]\n",
      "\n",
      "np.asanyarray:\n",
      "[1 2 3 4 5]\n",
      "\n",
      "Original data: [1, 2, 3, 4, 5]\n",
      "\n",
      "Deep copy:\n",
      "[10 20 30]\n",
      "[100  20  30]\n",
      "[10 20 30]\n",
      "\n",
      "Shallow copy:\n",
      "[10 20 30]\n",
      "[500  20  30]\n",
      "[500  20  30]\n"
     ]
    }
   ],
   "source": [
    "#To create an array >> np.array, np.asarray, np.asanyarray, deep copy and shallow copy\n",
    "import numpy as np\n",
    "\n",
    "# Original data\n",
    "data = [1, 2, 3, 4, 5]\n",
    "\n",
    "# Creating arrays using different methods\n",
    "print(\"np.array:\")\n",
    "arr_np_array = np.array(data)\n",
    "print(arr_np_array)\n",
    "\n",
    "print(\"\\nnp.asarray:\")\n",
    "arr_np_asarray = np.asarray(data)\n",
    "print(arr_np_asarray)\n",
    "\n",
    "print(\"\\nnp.asanyarray:\")\n",
    "arr_np_asanyarray = np.asanyarray(data)\n",
    "print(arr_np_asanyarray)\n",
    "\n",
    "# Check if the original data is modified (data is immutable)\n",
    "print(\"\\nOriginal data:\", data)\n",
    "\n",
    "# Deep copy vs. shallow copy\n",
    "\n",
    "# Original array\n",
    "original_arr = np.array([10, 20, 30])\n",
    "\n",
    "# Deep copy - modifications won't affect the original array\n",
    "deep_copy = original_arr.copy()\n",
    "print(\"\\nDeep copy:\")\n",
    "print(deep_copy)\n",
    "deep_copy[0] = 100\n",
    "print(deep_copy)\n",
    "print(original_arr)  # Original array remains unchanged\n",
    "\n",
    "# Shallow copy - modifications will affect the original array\n",
    "shallow_copy = original_arr.view()\n",
    "print(\"\\nShallow copy:\")\n",
    "print(shallow_copy)\n",
    "shallow_copy[0] = 500\n",
    "print(shallow_copy)\n",
    "print(original_arr)  # Original array is also modified\n",
    "\n"
   ]
  },
  {
   "cell_type": "code",
   "execution_count": 23,
   "id": "b3ca4e33-403f-46dd-b8ce-ea6b5a81fc1f",
   "metadata": {},
   "outputs": [],
   "source": [
    "arr1 = np.fromfunction(lambda i, j : i==j, (3,3)) #Construct an array by executing a function over each coordinate."
   ]
  },
  {
   "cell_type": "code",
   "execution_count": 26,
   "id": "780e8f99-dde0-41d0-8ccb-d12bd59b272b",
   "metadata": {},
   "outputs": [
    {
     "name": "stdout",
     "output_type": "stream",
     "text": [
      "[[ True False False]\n",
      " [False  True False]\n",
      " [False False  True]]\n",
      "2\n",
      "(3, 3)\n",
      "9\n"
     ]
    }
   ],
   "source": [
    "arr1\n",
    "print(arr1)\n",
    "print(arr1.ndim) # dimension of the created array\n",
    "print(arr1.shape) # shape of elements\n",
    "print(arr1.size) # no of elment present\n"
   ]
  },
  {
   "cell_type": "code",
   "execution_count": 27,
   "id": "423f350e-791d-4f78-a351-1852c1331f9b",
   "metadata": {},
   "outputs": [
    {
     "name": "stdout",
     "output_type": "stream",
     "text": [
      "[[0. 0. 0.]\n",
      " [0. 1. 2.]\n",
      " [0. 2. 4.]]\n",
      "2\n",
      "(3, 3)\n",
      "9\n"
     ]
    }
   ],
   "source": [
    "arr2 = np.fromfunction(lambda i, j : i*j, (3,3)) \n",
    "print(arr2)\n",
    "print(arr2.ndim) # dimension of the created array\n",
    "print(arr2.shape) # shape of elements\n",
    "print(arr2.size) # no of elment present\n"
   ]
  },
  {
   "cell_type": "code",
   "execution_count": 29,
   "id": "1a876805-6d17-4c2a-97dc-756f8e1aad85",
   "metadata": {},
   "outputs": [
    {
     "name": "stdout",
     "output_type": "stream",
     "text": [
      "[0, 1, 2, 3, 4]\n",
      "[0, 1, 2, 3, 4]\n"
     ]
    }
   ],
   "source": [
    "# many other ways of creating strings and using numpy\n",
    "print([i for i in range(5)])\n",
    "print(list((i for i in range(5))))\n",
    "\n"
   ]
  },
  {
   "cell_type": "code",
   "execution_count": 30,
   "id": "2d6d46c1-fa74-47ac-87a4-b6f9447b58bb",
   "metadata": {},
   "outputs": [
    {
     "data": {
      "text/plain": [
       "<generator object <genexpr> at 0x7fe4c0342810>"
      ]
     },
     "execution_count": 30,
     "metadata": {},
     "output_type": "execute_result"
    }
   ],
   "source": [
    "# create 1d array from iterable object\n",
    "iterable = (i for i in range(5))\n",
    "np.fromiter(iterable, int) \n",
    "iterable"
   ]
  },
  {
   "cell_type": "code",
   "execution_count": 31,
   "id": "29cf5471-2238-4ce6-bae7-42e395505062",
   "metadata": {},
   "outputs": [
    {
     "data": {
      "text/plain": [
       "array([22., 23., 24.])"
      ]
     },
     "execution_count": 31,
     "metadata": {},
     "output_type": "execute_result"
    }
   ],
   "source": [
    "np.fromstring('22 23 24', sep = \" \") #values should be numerical"
   ]
  },
  {
   "cell_type": "code",
   "execution_count": 32,
   "id": "7591c072-c152-4476-9530-c43a5aed1f79",
   "metadata": {},
   "outputs": [
    {
     "data": {
      "text/plain": [
       "array([22., 23., 24.])"
      ]
     },
     "execution_count": 32,
     "metadata": {},
     "output_type": "execute_result"
    }
   ],
   "source": [
    "np.fromstring('22,23,24', sep = \",\")"
   ]
  },
  {
   "cell_type": "code",
   "execution_count": 34,
   "id": "d3d580cb-a85b-44db-9c09-13025254d2d6",
   "metadata": {},
   "outputs": [
    {
     "data": {
      "text/plain": [
       "array(['Ajay', 'Bijay', 'Sanjay'], dtype='<U6')"
      ]
     },
     "execution_count": 34,
     "metadata": {},
     "output_type": "execute_result"
    }
   ],
   "source": [
    "# amazing implementation\n",
    "\n",
    "#for string character you have  to use split\n",
    "string = 'Ajay,Bijay,Sanjay'\n",
    "string1 = string.split(',')\n",
    "np.array(string1)"
   ]
  },
  {
   "cell_type": "code",
   "execution_count": 35,
   "id": "95c20473-3ac7-4ac1-a622-b6b387ce4745",
   "metadata": {},
   "outputs": [
    {
     "data": {
      "text/plain": [
       "[0, 1, 2, 3, 4, 5, 6, 7, 8, 9]"
      ]
     },
     "execution_count": 35,
     "metadata": {},
     "output_type": "execute_result"
    }
   ],
   "source": [
    "list(range(10))\n"
   ]
  },
  {
   "cell_type": "code",
   "execution_count": 36,
   "id": "346e71d8-b04d-4a11-b1cd-b6bf7d549cd2",
   "metadata": {},
   "outputs": [
    {
     "data": {
      "text/plain": [
       "range(0, 10)"
      ]
     },
     "execution_count": 36,
     "metadata": {},
     "output_type": "execute_result"
    }
   ],
   "source": [
    "range(10)"
   ]
  },
  {
   "cell_type": "code",
   "execution_count": 37,
   "id": "6e6299ba-9061-4a28-b99f-47a1a21e001f",
   "metadata": {},
   "outputs": [
    {
     "data": {
      "text/plain": [
       "array([1. , 1.1, 1.2, 1.3, 1.4, 1.5, 1.6, 1.7, 1.8, 1.9, 2. , 2.1, 2.2,\n",
       "       2.3, 2.4, 2.5, 2.6, 2.7, 2.8, 2.9, 3. , 3.1, 3.2, 3.3, 3.4, 3.5,\n",
       "       3.6, 3.7, 3.8, 3.9, 4. , 4.1, 4.2, 4.3, 4.4, 4.5, 4.6, 4.7, 4.8,\n",
       "       4.9, 5. , 5.1, 5.2, 5.3, 5.4, 5.5, 5.6, 5.7, 5.8, 5.9, 6. , 6.1,\n",
       "       6.2, 6.3, 6.4, 6.5, 6.6, 6.7, 6.8, 6.9, 7. , 7.1, 7.2, 7.3, 7.4,\n",
       "       7.5, 7.6, 7.7, 7.8, 7.9, 8. , 8.1, 8.2, 8.3, 8.4, 8.5, 8.6, 8.7,\n",
       "       8.8, 8.9, 9. , 9.1, 9.2, 9.3, 9.4, 9.5, 9.6, 9.7, 9.8, 9.9])"
      ]
     },
     "execution_count": 37,
     "metadata": {},
     "output_type": "execute_result"
    }
   ],
   "source": [
    "#other methods of numpy>> to generate sequnce of nos\n",
    "np.arange(1, 10, 0.1) #Return evenly spaced values within a given interval."
   ]
  },
  {
   "cell_type": "code",
   "execution_count": 38,
   "id": "5ac56878-0060-406e-950e-fccaa750fdd8",
   "metadata": {},
   "outputs": [
    {
     "data": {
      "text/plain": [
       "array([1.        , 1.44444444, 1.88888889, 2.33333333, 2.77777778,\n",
       "       3.22222222, 3.66666667, 4.11111111, 4.55555556, 5.        ])"
      ]
     },
     "execution_count": 38,
     "metadata": {},
     "output_type": "execute_result"
    }
   ],
   "source": [
    "np.linspace(1, 5, 10)#Return evenly spaced numbers over a specified interval.\n",
    "#give me 10 numbers between 1 and 5 evenly spaced"
   ]
  },
  {
   "cell_type": "code",
   "execution_count": null,
   "id": "bf8bb6fe-9b8b-47af-ab4b-6e9cc321ed4d",
   "metadata": {},
   "outputs": [],
   "source": []
  }
 ],
 "metadata": {
  "kernelspec": {
   "display_name": "Python 3 (ipykernel)",
   "language": "python",
   "name": "python3"
  },
  "language_info": {
   "codemirror_mode": {
    "name": "ipython",
    "version": 3
   },
   "file_extension": ".py",
   "mimetype": "text/x-python",
   "name": "python",
   "nbconvert_exporter": "python",
   "pygments_lexer": "ipython3",
   "version": "3.10.8"
  }
 },
 "nbformat": 4,
 "nbformat_minor": 5
}
