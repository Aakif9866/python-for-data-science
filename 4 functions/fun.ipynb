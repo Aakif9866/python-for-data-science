{
 "cells": [
  {
   "cell_type": "markdown",
   "metadata": {},
   "source": [
    "# Learning Functions"
   ]
  },
  {
   "cell_type": "code",
   "execution_count": 5,
   "metadata": {},
   "outputs": [
    {
     "name": "stdout",
     "output_type": "stream",
     "text": [
      "hello\n",
      "3\n",
      "7\n",
      "Welcome Elon Musk\n"
     ]
    }
   ],
   "source": [
    "# defining the function\n",
    "def launchpad_welcome():\n",
    "    print('hello')\n",
    "    print(1+2)\n",
    "    print(3+4)\n",
    "# using the function \n",
    "launchpad_welcome()\n",
    "\n",
    "\n",
    "# String formatting \n",
    "print('Welcome {} {}'.format('Elon', 'Musk'))"
   ]
  },
  {
   "cell_type": "code",
   "execution_count": 3,
   "metadata": {},
   "outputs": [
    {
     "name": "stdout",
     "output_type": "stream",
     "text": [
      "Welcome Nick Renotte\n"
     ]
    }
   ],
   "source": [
    "# Positional Arguments\n",
    "def custom_welcome(name):\n",
    "    print('Welcome {}'.format(name))\n",
    "custom_welcome('Nick Renotte')"
   ]
  },
  {
   "cell_type": "code",
   "execution_count": 4,
   "metadata": {},
   "outputs": [
    {
     "name": "stdout",
     "output_type": "stream",
     "text": [
      "Welcome sharuk\n",
      "Welcome aakif\n",
      "Welcome salman\n",
      "Welcome ranga\n"
     ]
    }
   ],
   "source": [
    "\n",
    "names = [\"sharuk\",\"aakif\",\"salman\",\"ranga\"]\n",
    "\n",
    "# using loop to implement multiple function\n",
    "for name in names:\n",
    "    custom_welcome(name)"
   ]
  },
  {
   "cell_type": "code",
   "execution_count": 6,
   "metadata": {},
   "outputs": [
    {
     "name": "stdout",
     "output_type": "stream",
     "text": [
      "Welcome Nick Renotte to the Galatic 1\n"
     ]
    }
   ],
   "source": [
    "# Multiple positional Arguments - POSITION IS IMPORTANT\n",
    "def custom_welcome_to_ship(name, space_ship):\n",
    "    print('Welcome {} to the {}'.format(name, space_ship))\n",
    "\n",
    "    \n",
    "custom_welcome_to_ship('Nick Renotte', 'Galatic 1')"
   ]
  },
  {
   "cell_type": "code",
   "execution_count": 11,
   "metadata": {},
   "outputs": [
    {
     "name": "stdout",
     "output_type": "stream",
     "text": [
      "welcome  sharuk to  spacex\n",
      "welcome  aakif to  spaceY\n",
      "welcome  salman to  spaceM\n",
      "welcome  ranga to  spaceP\n"
     ]
    }
   ],
   "source": [
    "# inorder to use index we will go through names by for loop and for place names we will use \n",
    "# enumerate which will give an index for every place\n",
    "\n",
    "places = [\"spacex\",\"spaceY\",\"spaceM\",\"spaceP\"]\n",
    "\n",
    "for idx,name in enumerate(names):\n",
    "    print(\"welcome \",name,\"to \",places[idx])\n"
   ]
  },
  {
   "cell_type": "code",
   "execution_count": 12,
   "metadata": {},
   "outputs": [
    {
     "name": "stdout",
     "output_type": "stream",
     "text": [
      "Normal call\n",
      "Your space suit is Blue\n",
      "call with argument\n",
      "Your space suit is Red\n"
     ]
    }
   ],
   "source": [
    "# This is using keyword arguments\n",
    "def space_suit(color='Blue'):\n",
    "    print('Your space suit is {}'.format(color))\n",
    "\n",
    "print(\"Normal call\")\n",
    "space_suit()\n",
    "print(\"call with argument\")\n",
    "space_suit(color='Red')"
   ]
  },
  {
   "cell_type": "code",
   "execution_count": 13,
   "metadata": {},
   "outputs": [
    {
     "name": "stdout",
     "output_type": "stream",
     "text": [
      "Welcome Elon Musk to the Apple iShip, your space suit is Orange, you have Peanut allergies\n"
     ]
    }
   ],
   "source": [
    "# Multiple keyword arguments\n",
    "def space_suit_welcome(name, space_ship, color='Blue', allergies='None'):\n",
    "    print('Welcome {} to the {}, your space suit is {}, you have {} allergies'.format(name, space_ship, color, allergies))\n",
    "space_suit_welcome('Elon Musk', 'Apple iShip', allergies='Peanut', color='Orange')"
   ]
  },
  {
   "cell_type": "code",
   "execution_count": 14,
   "metadata": {},
   "outputs": [
    {
     "name": "stdout",
     "output_type": "stream",
     "text": [
      "Welcome Elon Musk to the Apple iShip, your space suit is Blue, you have None allergies\n"
     ]
    }
   ],
   "source": [
    "# Setup a return statement\n",
    "def space_suit_welcome_with_return(name, space_ship, color='Blue', allergies='None'):\n",
    "    return 'Welcome {} to the {}, your space suit is {}, you have {} allergies'.format(name, space_ship, color, allergies)\n",
    "\n",
    "\n",
    "# Example of storing the results of the function inside a variable\n",
    "welcome = space_suit_welcome_with_return('Elon Musk', 'Apple iShip')\n",
    "print(welcome)"
   ]
  },
  {
   "cell_type": "code",
   "execution_count": 18,
   "metadata": {},
   "outputs": [
    {
     "ename": "SyntaxError",
     "evalue": "invalid syntax (461144380.py, line 18)",
     "output_type": "error",
     "traceback": [
      "\u001b[1;36m  Cell \u001b[1;32mIn[18], line 18\u001b[1;36m\u001b[0m\n\u001b[1;33m    The filter function constructs an iterator from elements of an iterable for which a function returns true. Essentially, it filters out elements based on a condition.\u001b[0m\n\u001b[1;37m        ^\u001b[0m\n\u001b[1;31mSyntaxError\u001b[0m\u001b[1;31m:\u001b[0m invalid syntax\n"
     ]
    }
   ],
   "source": [
    "# map,filter,lambda # -> very important keywords\n",
    "\n",
    "# The map function applies a given function to all items in an input list (or any other iterable) and returns a map object (which can be converted to a list, set, etc.).\n",
    "\n",
    "# Example function that doubles a number\n",
    "def double(x):\n",
    "    return x * 2\n",
    "\n",
    "numbers = [1, 2, 3, 4, 5]\n",
    "\n",
    "# Use map to apply 'double' to each item in 'numbers'\n",
    "doubled = map(double, numbers)\n",
    "print(list(doubled))  # Output: [2, 4, 6, 8, 10]\n",
    "print((doubled))  # Output: ADDress of the object created\n",
    "\n",
    "\n",
    "\n",
    "\n",
    "\n"
   ]
  },
  {
   "cell_type": "code",
   "execution_count": 20,
   "metadata": {},
   "outputs": [
    {
     "name": "stdout",
     "output_type": "stream",
     "text": [
      "[2, 4]\n",
      "<filter object at 0x000001E11437AF80>\n"
     ]
    }
   ],
   "source": [
    "# The filter function constructs an iterator from elements of an iterable for which a function returns true. Essentially, it filters out elements based on a condition.\n",
    "\n",
    "\n",
    "# Example function that checks if a number is even\n",
    "def is_even(x):\n",
    "    return x % 2 == 0\n",
    "\n",
    "numbers = [1, 2, 3, 4, 5]\n",
    "\n",
    "# Use filter to get only even numbers from 'numbers'\n",
    "even_numbers = filter(is_even, numbers)\n",
    "print(list(even_numbers))  # Output: [2, 4]\n",
    "print((even_numbers))  # Output: <filter object at 0x000001E11437AF80>"
   ]
  },
  {
   "cell_type": "code",
   "execution_count": 21,
   "metadata": {},
   "outputs": [
    {
     "name": "stdout",
     "output_type": "stream",
     "text": [
      "10\n",
      "[2, 4, 6, 8, 10]\n",
      "[2, 4]\n"
     ]
    }
   ],
   "source": [
    "# The lambda keyword is used to create small anonymous functions at runtime. Lambda functions can have any number of arguments but only one expression. They are syntactically restricted to a single expression.\n",
    "\n",
    "# Lambda function that doubles a number\n",
    "double = lambda x: x * 2\n",
    "\n",
    "# Use the lambda function\n",
    "print(double(5))  # Output: 10\n",
    "\n",
    "# Using lambda with map\n",
    "numbers = [1, 2, 3, 4, 5]\n",
    "doubled = map(lambda x: x * 2, numbers)\n",
    "print(list(doubled))  # Output: [2, 4, 6, 8, 10]\n",
    "\n",
    "# Using lambda with filter\n",
    "even_numbers = filter(lambda x: x % 2 == 0, numbers)\n",
    "print(list(even_numbers))  # Output: [2, 4]\n"
   ]
  },
  {
   "cell_type": "code",
   "execution_count": 2,
   "metadata": {},
   "outputs": [
    {
     "name": "stdout",
     "output_type": "stream",
     "text": [
      "120\n"
     ]
    }
   ],
   "source": [
    "from functools import reduce\n",
    "\n",
    "# Example function to multiply two numbers\n",
    "def multiply(x, y):\n",
    "    return x * y\n",
    "\n",
    "numbers = [1, 2, 3, 4, 5]\n",
    "\n",
    "# Use reduce to apply 'multiply' cumulatively to the items in 'numbers'\n",
    "result = reduce(multiply, numbers)\n",
    "print(result)  # Output: 120"
   ]
  },
  {
   "cell_type": "markdown",
   "metadata": {},
   "source": [
    "### args and kwargs"
   ]
  },
  {
   "cell_type": "markdown",
   "metadata": {},
   "source": [
    "Using *args\n",
    "<br>\n",
    "*args allows you to pass a variable number of non-keyword arguments to a function. Inside the function, *args is treated as a tuple."
   ]
  },
  {
   "cell_type": "code",
   "execution_count": 1,
   "metadata": {},
   "outputs": [
    {
     "name": "stdout",
     "output_type": "stream",
     "text": [
      "1\n",
      "2\n",
      "3\n"
     ]
    }
   ],
   "source": [
    "def example_function(*args):\n",
    "    for arg in args:\n",
    "        print(arg)\n",
    "\n",
    "example_function(1, 2, 3)  "
   ]
  },
  {
   "cell_type": "markdown",
   "metadata": {},
   "source": [
    "Using **kwargs\n",
    "<br>\n",
    "**kwargs allows you to pass a variable number of keyword arguments to a function. Inside the function, **kwargs is treated as a dictionary."
   ]
  },
  {
   "cell_type": "code",
   "execution_count": 2,
   "metadata": {},
   "outputs": [
    {
     "name": "stdout",
     "output_type": "stream",
     "text": [
      "a = 1\n",
      "b = 2\n",
      "c = 3\n"
     ]
    }
   ],
   "source": [
    "def example_function(**kwargs):\n",
    "    for key, value in kwargs.items():\n",
    "        print(f\"{key} = {value}\")\n",
    "\n",
    "example_function(a=1, b=2, c=3)\n"
   ]
  },
  {
   "cell_type": "markdown",
   "metadata": {},
   "source": [
    "Using *args and **kwargs together\n",
    "<br>\n",
    "You can use both *args and **kwargs in the same function to accept an arbitrary number of both positional and keyword arguments."
   ]
  },
  {
   "cell_type": "code",
   "execution_count": 3,
   "metadata": {},
   "outputs": [
    {
     "name": "stdout",
     "output_type": "stream",
     "text": [
      "Positional arguments: (1, 2, 3)\n",
      "Keyword arguments: {'a': 4, 'b': 5}\n"
     ]
    }
   ],
   "source": [
    "def example_function(*args, **kwargs):\n",
    "    print(\"Positional arguments:\", args)\n",
    "    print(\"Keyword arguments:\", kwargs)\n",
    "\n",
    "example_function(1, 2, 3, a=4, b=5) \n",
    "\n"
   ]
  },
  {
   "cell_type": "markdown",
   "metadata": {},
   "source": [
    "Order of parameters\n",
    "When defining a function, the order of parameters must be:\n",
    "<ol>\n",
    "<li>Regular positional arguments</li>\n",
    "<li>*args</li>\n",
    "<li>Keyword arguments (those with default values)</li>\n",
    "<li>**kwargs</li>\n",
    "</ol>\n",
    "\n",
    "\n",
    "\n",
    "\n"
   ]
  },
  {
   "cell_type": "code",
   "execution_count": 4,
   "metadata": {},
   "outputs": [
    {
     "name": "stdout",
     "output_type": "stream",
     "text": [
      "arg1: 1\n",
      "arg2: 2\n",
      "Additional positional arguments: (3, 4)\n",
      "kwarg1: a\n",
      "kwarg2: None\n",
      "Additional keyword arguments: {'kwarg3': 'b'}\n"
     ]
    }
   ],
   "source": [
    "def example_function(arg1, arg2, *args, kwarg1=None, kwarg2=None, **kwargs):\n",
    "    print(f\"arg1: {arg1}\")\n",
    "    print(f\"arg2: {arg2}\")\n",
    "    print(\"Additional positional arguments:\", args)\n",
    "    print(f\"kwarg1: {kwarg1}\")\n",
    "    print(f\"kwarg2: {kwarg2}\")\n",
    "    print(\"Additional keyword arguments:\", kwargs)\n",
    "\n",
    "example_function(1, 2, 3, 4, kwarg1='a', kwarg3='b')"
   ]
  }
 ],
 "metadata": {
  "kernelspec": {
   "display_name": "Python 3",
   "language": "python",
   "name": "python3"
  },
  "language_info": {
   "codemirror_mode": {
    "name": "ipython",
    "version": 3
   },
   "file_extension": ".py",
   "mimetype": "text/x-python",
   "name": "python",
   "nbconvert_exporter": "python",
   "pygments_lexer": "ipython3",
   "version": "3.10.7"
  }
 },
 "nbformat": 4,
 "nbformat_minor": 2
}
