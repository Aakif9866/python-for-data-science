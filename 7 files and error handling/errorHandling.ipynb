{
 "cells": [
  {
   "cell_type": "markdown",
   "metadata": {},
   "source": [
    "### try except \n",
    "### best practice"
   ]
  },
  {
   "cell_type": "code",
   "execution_count": 3,
   "metadata": {},
   "outputs": [
    {
     "name": "stdout",
     "output_type": "stream",
     "text": [
      "issue with code [Errno 2] No such file or directory: 'exampnnle.txt'\n",
      "1stt step of code\n",
      "2stt step of code\n"
     ]
    }
   ],
   "source": [
    "try:\n",
    "    f = open(\"exampnnle.txt\",\"r\")\n",
    "except Exception as e:\n",
    "    print(\"issue with code\",e)\n",
    "print(\"1st step of code\")\n",
    "print(\"2nd step of code\")"
   ]
  },
  {
   "cell_type": "code",
   "execution_count": 6,
   "metadata": {},
   "outputs": [
    {
     "name": "stdout",
     "output_type": "stream",
     "text": [
      "May be 0 division division by zero\n",
      "1st step of code\n",
      "2nd step of code\n"
     ]
    }
   ],
   "source": [
    "try:\n",
    "   5/0\n",
    "except Exception as e:\n",
    "    print(\"May be 0 division\",e)\n",
    "print(\"1st step of code\")\n",
    "print(\"2nd step of code\")"
   ]
  },
  {
   "cell_type": "code",
   "execution_count": 7,
   "metadata": {},
   "outputs": [],
   "source": [
    "# always write try except with suspicious code"
   ]
  },
  {
   "cell_type": "code",
   "execution_count": 8,
   "metadata": {},
   "outputs": [
    {
     "name": "stdout",
     "output_type": "stream",
     "text": [
      "this will be executed if try except block is executed without any exception\n"
     ]
    }
   ],
   "source": [
    "try:\n",
    "    3+4\n",
    "except Exception as e:\n",
    "    print(\"issue with code\",e)\n",
    "else:\n",
    "    print(\"this will be executed if try except block is executed without any exception\")"
   ]
  },
  {
   "cell_type": "code",
   "execution_count": 9,
   "metadata": {},
   "outputs": [
    {
     "name": "stdout",
     "output_type": "stream",
     "text": [
      "this will be executed if try except block is executed without any exception\n",
      "this will be executed compulsarilly at the end\n"
     ]
    }
   ],
   "source": [
    "try:\n",
    "    3+4\n",
    "except Exception as e:\n",
    "    print(\"issue with code\",e)\n",
    "else:\n",
    "    print(\"this will be executed if try except block is executed without any exception\")\n",
    "finally:\n",
    "    print(\"this will be executed compulsarilly at the end\")"
   ]
  },
  {
   "cell_type": "code",
   "execution_count": 10,
   "metadata": {},
   "outputs": [
    {
     "name": "stdout",
     "output_type": "stream",
     "text": [
      "even if there is error this will always print\n"
     ]
    },
    {
     "ename": "ZeroDivisionError",
     "evalue": "division by zero",
     "output_type": "error",
     "traceback": [
      "\u001b[0;31m---------------------------------------------------------------------------\u001b[0m",
      "\u001b[0;31mZeroDivisionError\u001b[0m                         Traceback (most recent call last)",
      "Cell \u001b[0;32mIn[10], line 2\u001b[0m\n\u001b[1;32m      1\u001b[0m \u001b[38;5;28;01mtry\u001b[39;00m:\n\u001b[0;32m----> 2\u001b[0m     \u001b[38;5;241;43m5\u001b[39;49m\u001b[38;5;241;43m/\u001b[39;49m\u001b[38;5;241;43m0\u001b[39;49m\n\u001b[1;32m      3\u001b[0m \u001b[38;5;28;01mfinally\u001b[39;00m:\n\u001b[1;32m      4\u001b[0m     \u001b[38;5;28mprint\u001b[39m(\u001b[38;5;124m\"\u001b[39m\u001b[38;5;124meven if there is error this will always print\u001b[39m\u001b[38;5;124m\"\u001b[39m)\n",
      "\u001b[0;31mZeroDivisionError\u001b[0m: division by zero"
     ]
    }
   ],
   "source": [
    "try:\n",
    "    5/0\n",
    "finally:\n",
    "    print(\"even if there is error this will always print\")"
   ]
  },
  {
   "cell_type": "code",
   "execution_count": 11,
   "metadata": {},
   "outputs": [],
   "source": [
    "# creating custom class \n",
    "class ValidateSalary(Exception):\n",
    "    def __init__(self,msg):\n",
    "        self.msg = msg\n",
    "\n",
    "def validate_salary(salary):\n",
    "    if salary <0:\n",
    "        raise ValidateSalary(\"Salary cANNot be -ve\")\n",
    "    elif salary >200000000000:\n",
    "        raise ValidateSalary(\"this much high salary isnt possible\")\n",
    "    else:\n",
    "        print(\"salary is valid \")\n",
    "  "
   ]
  },
  {
   "cell_type": "code",
   "execution_count": 13,
   "metadata": {},
   "outputs": [
    {
     "name": "stdout",
     "output_type": "stream",
     "text": [
      "Salary cANNot be -ve\n"
     ]
    }
   ],
   "source": [
    "try:\n",
    "    salary = int(input(\"provide your salary\"))\n",
    "    validate_salary(salary)\n",
    "except ValidateSalary as e:\n",
    "    print(e)\n",
    "    "
   ]
  },
  {
   "cell_type": "markdown",
   "metadata": {},
   "source": [
    "## general use and best case of exceptional handling"
   ]
  },
  {
   "cell_type": "code",
   "execution_count": 2,
   "metadata": {},
   "outputs": [
    {
     "name": "stdout",
     "output_type": "stream",
     "text": [
      "division by zero\n",
      "Here I am handling the zero diviosion error division by zero\n"
     ]
    }
   ],
   "source": [
    "## always go for specific error instead of the whole exception class\n",
    "# dont do this\n",
    "try:\n",
    "    10/0\n",
    "except Exception as e:\n",
    "    print(e)\n",
    "    \n",
    "# do this instead\n",
    "try:\n",
    "    10/0\n",
    "except ZeroDivisionError as e:\n",
    "    print(\"Here I am handling the zero diviosion error\", e)"
   ]
  },
  {
   "cell_type": "code",
   "execution_count": 3,
   "metadata": {},
   "outputs": [],
   "source": [
    "# this is not best practice, always go for specific exception\n",
    "# try:\n",
    "#     10/0\n",
    "# except:\n",
    "#     print(\"This is some error\")"
   ]
  },
  {
   "cell_type": "code",
   "execution_count": 4,
   "metadata": {},
   "outputs": [
    {
     "name": "stdout",
     "output_type": "stream",
     "text": [
      "The string can not be converted to integer invalid literal for int() with base 10: 'pwskills'\n",
      "The string can not be converted to integer invalid literal for int() with base 10: 'pwskills'\n"
     ]
    }
   ],
   "source": [
    "\n",
    "try:\n",
    "    int(\"pwskills\")\n",
    "except ValueError as e:\n",
    "    print(\"The string can not be converted to integer\", e)\n",
    "    \n",
    "# passing 2 types of error in 1 go\n",
    "try:\n",
    "    int(\"pwskills\")\n",
    "except (ValueError, TypeError) as e:\n",
    "    print(\"The string can not be converted to integer\", e)"
   ]
  },
  {
   "cell_type": "code",
   "execution_count": 6,
   "metadata": {},
   "outputs": [
    {
     "name": "stdout",
     "output_type": "stream",
     "text": [
      "the module not found No module named 'pwskills'\n"
     ]
    }
   ],
   "source": [
    "# module not found error\n",
    "try:\n",
    "    import pwskills\n",
    "except ModuleNotFoundError as e:\n",
    "    print(\"the module not found\", e)"
   ]
  },
  {
   "cell_type": "code",
   "execution_count": 7,
   "metadata": {},
   "outputs": [
    {
     "name": "stdout",
     "output_type": "stream",
     "text": [
      "name 'test' is not defined\n"
     ]
    }
   ],
   "source": [
    "# name error\n",
    "\n",
    "try:\n",
    "    test()\n",
    "except NameError as e:\n",
    "    print(e)"
   ]
  },
  {
   "cell_type": "code",
   "execution_count": 8,
   "metadata": {},
   "outputs": [
    {
     "name": "stdout",
     "output_type": "stream",
     "text": [
      "The key is not found 'fee'\n"
     ]
    }
   ],
   "source": [
    "# key in dictionary not found error\n",
    "try:\n",
    "    d = {\"name\": \"Ajay\", \"class\":\"ds\"}\n",
    "    d[\"fee\"]\n",
    "except KeyError as e:\n",
    "    print(\"The key is not found\", e)"
   ]
  },
  {
   "cell_type": "code",
   "execution_count": 9,
   "metadata": {},
   "outputs": [
    {
     "name": "stdout",
     "output_type": "stream",
     "text": [
      "list index out of range\n"
     ]
    }
   ],
   "source": [
    "# index error\n",
    "try:\n",
    "    l = [1, 2, 3]\n",
    "    l[4]\n",
    "except IndexError as e:\n",
    "    print(e)"
   ]
  },
  {
   "cell_type": "code",
   "execution_count": 10,
   "metadata": {},
   "outputs": [
    {
     "name": "stdout",
     "output_type": "stream",
     "text": [
      "My file not found, [Errno 2] No such file or directory: 'example1.txt'\n"
     ]
    }
   ],
   "source": [
    "# file not found error\n",
    "\n",
    "try:\n",
    "    f = open(\"example1.txt\", \"r\")\n",
    "    f.read()\n",
    "except FileNotFoundError as e:\n",
    "    print(\"My file not found,\", e)\n",
    "    "
   ]
  },
  {
   "cell_type": "code",
   "execution_count": 11,
   "metadata": {},
   "outputs": [
    {
     "name": "stdout",
     "output_type": "stream",
     "text": [
      "first msg [Errno 2] No such file or directory: 'example1.txt'\n"
     ]
    }
   ],
   "source": [
    "try:\n",
    "    f = open(\"example1.txt\", \"r\")\n",
    "    f.read()\n",
    "except Exception as e:\n",
    "    print(\"first msg\", e)\n",
    "except FileNotFoundError as e:\n",
    "    print(\"My file not found\", e)"
   ]
  },
  {
   "cell_type": "code",
   "execution_count": 17,
   "metadata": {},
   "outputs": [],
   "source": [
    "#always try to log\n",
    "\n",
    "# logging the file is one of the best practice \n",
    "\n",
    "import logging\n",
    "logging.basicConfig(filename = \"program.log\", level = logging.DEBUG)\n",
    "try:\n",
    "    f = open(\"example1.txt\", \"r\")\n",
    "    f.read()\n",
    "except FileNotFoundError as e:\n",
    "    logging.error(f\"This is my error {e}\")\n",
    "\n",
    "logging.shutdown()"
   ]
  },
  {
   "cell_type": "code",
   "execution_count": 16,
   "metadata": {},
   "outputs": [],
   "source": [
    "#always try to log\n",
    "import logging\n",
    "logging.basicConfig(filename = \"program1.log\", level = logging.DEBUG)\n",
    "try:\n",
    "    10/0\n",
    "except ZeroDivisionError as e:\n",
    "    logging.error(f\"This is my zero divison {e}\")\n",
    "logging.shutdown()"
   ]
  },
  {
   "cell_type": "code",
   "execution_count": 18,
   "metadata": {},
   "outputs": [
    {
     "name": "stdout",
     "output_type": "stream",
     "text": [
      "This is my error [Errno 2] No such file or directory: 'example1.txt'\n"
     ]
    }
   ],
   "source": [
    "# doing exception handling inside of a function\n",
    "\n",
    "def test(file):\n",
    "    try:\n",
    "        f = open(file, \"r\")\n",
    "        f.read()\n",
    "    except FileNotFoundError as e:\n",
    "        print(f\"This is my error {e}\")\n",
    "\n",
    "test(\"example1.txt\")\n"
   ]
  },
  {
   "cell_type": "code",
   "execution_count": 19,
   "metadata": {},
   "outputs": [
    {
     "name": "stdout",
     "output_type": "stream",
     "text": [
      "My file not found [Errno 2] No such file or directory: 'example1.txt'\n"
     ]
    }
   ],
   "source": [
    "#dont try to use unnecessary exception/multiple exception\n",
    "\n",
    "try:\n",
    "    f = open(\"example1.txt\", \"r\")\n",
    "    f.read()\n",
    "except ZeroDivisionError as e:\n",
    "    print(\"first msg\", e)\n",
    "except FileNotFoundError as e:\n",
    "    print(\"My file not found\", e)"
   ]
  },
  {
   "cell_type": "code",
   "execution_count": 20,
   "metadata": {},
   "outputs": [
    {
     "data": {
      "text/plain": [
       "'\\nThis is my documentation\\n'"
      ]
     },
     "execution_count": 20,
     "metadata": {},
     "output_type": "execute_result"
    }
   ],
   "source": [
    "#give proper documentation, proiper comments\n",
    "\n",
    "\"\"\"\n",
    "This is my documentation\n",
    "\"\"\""
   ]
  },
  {
   "cell_type": "code",
   "execution_count": 21,
   "metadata": {},
   "outputs": [],
   "source": [
    "#always cleanup all the resources"
   ]
  }
 ],
 "metadata": {
  "kernelspec": {
   "display_name": "Python 3",
   "language": "python",
   "name": "python3"
  },
  "language_info": {
   "codemirror_mode": {
    "name": "ipython",
    "version": 3
   },
   "file_extension": ".py",
   "mimetype": "text/x-python",
   "name": "python",
   "nbconvert_exporter": "python",
   "pygments_lexer": "ipython3",
   "version": "3.9.6"
  }
 },
 "nbformat": 4,
 "nbformat_minor": 2
}
