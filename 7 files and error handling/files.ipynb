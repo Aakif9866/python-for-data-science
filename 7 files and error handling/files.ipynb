{
 "cells": [
  {
   "cell_type": "code",
   "execution_count": 3,
   "metadata": {},
   "outputs": [],
   "source": [
    "# r - read mode \n",
    "# w - write mode ( also creates a file and then writes )\n",
    "# a - append mode\n",
    "# r+ - both read and write \n",
    "\n",
    "file = open(\"file.txt\",\"w\")\n",
    "\n",
    "file.write(\"hello, this is my first line\") \n",
    "# number below is no of bytes\n",
    "\n",
    "# to see the file it is mandatory to close the file\n",
    "\n",
    "file.close()\n"
   ]
  },
  {
   "cell_type": "code",
   "execution_count": 6,
   "metadata": {},
   "outputs": [
    {
     "data": {
      "text/plain": [
       "'file.txt'"
      ]
     },
     "execution_count": 6,
     "metadata": {},
     "output_type": "execute_result"
    }
   ],
   "source": [
    "file.closed # tells whether the file is opened or closed\n",
    "file.name # name of file"
   ]
  },
  {
   "cell_type": "code",
   "execution_count": 8,
   "metadata": {},
   "outputs": [
    {
     "data": {
      "text/plain": [
       "'w'"
      ]
     },
     "execution_count": 8,
     "metadata": {},
     "output_type": "execute_result"
    }
   ],
   "source": [
    "file.mode # mode of file"
   ]
  },
  {
   "cell_type": "code",
   "execution_count": 9,
   "metadata": {},
   "outputs": [],
   "source": [
    "# to write multiple lines\n",
    "file = open(\"file.txt\", \"w\")\n",
    "file.write(\"This is my first line\\n\")\n",
    "file.write(\"This is my second line\\n\")\n",
    "file.write(\"This is my third line\\n\")\n",
    "file.write(\"This is my fourth line\\n\")\n",
    "file.close()"
   ]
  },
  {
   "cell_type": "code",
   "execution_count": 11,
   "metadata": {},
   "outputs": [],
   "source": [
    "# inorder to append \n",
    "\n",
    "# Append mode\n",
    "file = open(\"file.txt\", \"a\")\n",
    "file.write(\"This is my fifth line.\")\n",
    "file.close()"
   ]
  },
  {
   "cell_type": "code",
   "execution_count": 12,
   "metadata": {},
   "outputs": [],
   "source": [
    "# now the read mode\n",
    "file = open(\"file.txt\", \"r\")\n",
    "# file.write(\"hello\") #this will not be executed as it is opened in read mode"
   ]
  },
  {
   "cell_type": "code",
   "execution_count": 13,
   "metadata": {},
   "outputs": [
    {
     "name": "stdout",
     "output_type": "stream",
     "text": [
      "This is my first line\n",
      "\n",
      "This is my second line\n",
      "\n",
      "This is my third line\n",
      "\n",
      "This is my fourth line\n",
      "\n",
      "This is my fifth line.\n"
     ]
    }
   ],
   "source": [
    "for i in file:\n",
    "    print(i)"
   ]
  },
  {
   "cell_type": "code",
   "execution_count": 18,
   "metadata": {},
   "outputs": [
    {
     "data": {
      "text/plain": [
       "112"
      ]
     },
     "execution_count": 18,
     "metadata": {},
     "output_type": "execute_result"
    }
   ],
   "source": [
    "file.read() #here the cursor or pointer is at last position\n",
    "file.tell() #it tells the current position of the cursor"
   ]
  },
  {
   "cell_type": "code",
   "execution_count": 19,
   "metadata": {},
   "outputs": [
    {
     "data": {
      "text/plain": [
       "'This is my first line\\nThis is my second line\\nThis is my third line\\nThis is my fourth line\\nThis is my fifth line.'"
      ]
     },
     "execution_count": 19,
     "metadata": {},
     "output_type": "execute_result"
    }
   ],
   "source": [
    "file.seek(0) # takes the cursor to 0th pos\n",
    "file.read()"
   ]
  },
  {
   "cell_type": "code",
   "execution_count": 20,
   "metadata": {},
   "outputs": [
    {
     "name": "stdout",
     "output_type": "stream",
     "text": [
      "This is my first line\n",
      "\n",
      "\n",
      "This is my first line\n",
      "This is my second line\n",
      "This is my third line\n",
      "This is my fourth line\n",
      "This is my fifth line.\n",
      "\n",
      "['This is my first line\\n', 'This is my second line\\n', 'This is my third line\\n', 'This is my fourth line\\n', 'This is my fifth line.']\n"
     ]
    }
   ],
   "source": [
    "# readline\n",
    "f = open(\"file.txt\", 'r')\n",
    "print(f.readline())\n",
    "f.close()\n",
    "\n",
    "# read\n",
    "print()\n",
    "file = open(\"file.txt\", 'r')\n",
    "file.seek(0)\n",
    "print(file.read())\n",
    "file.close()\n",
    "print()\n",
    "# readlines\n",
    "f = open(\"file.txt\", 'r')\n",
    "print(f.readlines())\n",
    "f.close()\n",
    "\n"
   ]
  },
  {
   "cell_type": "markdown",
   "metadata": {},
   "source": [
    "### OS directry"
   ]
  },
  {
   "cell_type": "code",
   "execution_count": 24,
   "metadata": {},
   "outputs": [
    {
     "data": {
      "text/plain": [
       "'/Users/shaikyasin/Documents/AIDS/1 PYTHON/python for data science /python-for-data-science/7 files and error handling'"
      ]
     },
     "execution_count": 24,
     "metadata": {},
     "output_type": "execute_result"
    }
   ],
   "source": [
    "import os\n",
    "os.getcwd()\n"
   ]
  },
  {
   "cell_type": "code",
   "execution_count": 25,
   "metadata": {},
   "outputs": [
    {
     "ename": "NameError",
     "evalue": "name 'pwd' is not defined",
     "output_type": "error",
     "traceback": [
      "\u001b[0;31m---------------------------------------------------------------------------\u001b[0m",
      "\u001b[0;31mNameError\u001b[0m                                 Traceback (most recent call last)",
      "Cell \u001b[0;32mIn[25], line 1\u001b[0m\n\u001b[0;32m----> 1\u001b[0m \u001b[43mpwd\u001b[49m  \u001b[38;5;66;03m# present working directry\u001b[39;00m\n\u001b[1;32m      2\u001b[0m ls\n",
      "\u001b[0;31mNameError\u001b[0m: name 'pwd' is not defined"
     ]
    }
   ],
   "source": [
    "pwd  # present working directry\n"
   ]
  },
  {
   "cell_type": "code",
   "execution_count": 27,
   "metadata": {},
   "outputs": [
    {
     "name": "stdout",
     "output_type": "stream",
     "text": [
      "errorHandling.ipynb  files.ipynb          write.txt\n",
      "file.txt             read.txt\n"
     ]
    }
   ],
   "source": [
    "ls # files in current working folder"
   ]
  },
  {
   "cell_type": "code",
   "execution_count": 28,
   "metadata": {},
   "outputs": [
    {
     "data": {
      "text/plain": [
       "112"
      ]
     },
     "execution_count": 28,
     "metadata": {},
     "output_type": "execute_result"
    }
   ],
   "source": [
    "os.path.getsize(\"file.txt\")"
   ]
  },
  {
   "cell_type": "code",
   "execution_count": 30,
   "metadata": {},
   "outputs": [
    {
     "ename": "FileExistsError",
     "evalue": "[Errno 17] File exists: 'create-dir'",
     "output_type": "error",
     "traceback": [
      "\u001b[0;31m---------------------------------------------------------------------------\u001b[0m",
      "\u001b[0;31mFileExistsError\u001b[0m                           Traceback (most recent call last)",
      "Cell \u001b[0;32mIn[30], line 4\u001b[0m\n\u001b[1;32m      1\u001b[0m \u001b[38;5;66;03m# to create a folder\u001b[39;00m\n\u001b[1;32m      2\u001b[0m \u001b[38;5;66;03m# also make a subdirectry\u001b[39;00m\n\u001b[0;32m----> 4\u001b[0m \u001b[43mos\u001b[49m\u001b[38;5;241;43m.\u001b[39;49m\u001b[43mmkdir\u001b[49m\u001b[43m(\u001b[49m\u001b[38;5;124;43m\"\u001b[39;49m\u001b[38;5;124;43mcreate-dir\u001b[39;49m\u001b[38;5;124;43m\"\u001b[39;49m\u001b[43m)\u001b[49m\n\u001b[1;32m      5\u001b[0m os\u001b[38;5;241m.\u001b[39mmkdir(\u001b[38;5;124m\"\u001b[39m\u001b[38;5;124mcreate-dir/subdirectry\u001b[39m\u001b[38;5;124m\"\u001b[39m)\n",
      "\u001b[0;31mFileExistsError\u001b[0m: [Errno 17] File exists: 'create-dir'"
     ]
    }
   ],
   "source": [
    "# to create a folder\n",
    "# also make a subdirectry\n",
    "\n",
    "os.mkdir(\"create-dir\")\n",
    "os.mkdir(\"create-dir/subdirectry\")\n",
    "# already made so we get error"
   ]
  },
  {
   "cell_type": "code",
   "execution_count": 33,
   "metadata": {},
   "outputs": [],
   "source": [
    "# to create sub directry directly\n",
    "\n",
    "os.makedirs(\"1/2/3/4\") # all can be made in a single code"
   ]
  },
  {
   "cell_type": "code",
   "execution_count": 34,
   "metadata": {},
   "outputs": [
    {
     "data": {
      "text/plain": [
       "['file.txt',\n",
       " 'create-dir',\n",
       " 'errorHandling.ipynb',\n",
       " '1',\n",
       " 'write.txt',\n",
       " 'files.ipynb',\n",
       " 'read.txt']"
      ]
     },
     "execution_count": 34,
     "metadata": {},
     "output_type": "execute_result"
    }
   ],
   "source": [
    "os.listdir()"
   ]
  },
  {
   "cell_type": "code",
   "execution_count": 40,
   "metadata": {},
   "outputs": [],
   "source": [
    "# now remove this directry\n",
    "\n",
    "os.makedirs(\"feat\")\n",
    "os.rmdir(\"feat\")"
   ]
  },
  {
   "cell_type": "code",
   "execution_count": 41,
   "metadata": {},
   "outputs": [],
   "source": [
    "# to remove a directry along with its internal \n",
    "# folder\n",
    "\n",
    "import shutil\n",
    "shutil.rmtree(\"1\") # all of its subfolders also deleted\n"
   ]
  },
  {
   "cell_type": "code",
   "execution_count": 47,
   "metadata": {},
   "outputs": [
    {
     "data": {
      "text/plain": [
       "'/Users/shaikyasin/Documents/AIDS/1 PYTHON/python for data science /python-for-data-science/7 files and error handling'"
      ]
     },
     "execution_count": 47,
     "metadata": {},
     "output_type": "execute_result"
    }
   ],
   "source": [
    "#copy files using shutil\n",
    "\n",
    "# copying file from one location to other\n",
    "# copy file.txt to test folder\n",
    "\n",
    "os.getcwd()\n",
    "\n",
    "\n"
   ]
  },
  {
   "cell_type": "code",
   "execution_count": 48,
   "metadata": {},
   "outputs": [],
   "source": [
    "# shutil.move() to move file from one location to other\n",
    "# shutil.copy() to copy file from  one location to other\n",
    "os.remove(\"file.txt\") # to delete file in 1 line\n"
   ]
  },
  {
   "cell_type": "code",
   "execution_count": 50,
   "metadata": {},
   "outputs": [],
   "source": [
    "# conventional way of file reading\n",
    "\n",
    "with open(\"file.txt\", \"w\") as f:\n",
    "    f.write(\"jjimmy aaja\")"
   ]
  },
  {
   "cell_type": "code",
   "execution_count": 51,
   "metadata": {},
   "outputs": [
    {
     "name": "stdout",
     "output_type": "stream",
     "text": [
      "\n",
      "example 1\n",
      "example 2\n",
      "example 3\n",
      "\n"
     ]
    }
   ],
   "source": [
    "# next lecture on reading and writing files\n",
    "text_content = \"\"\"\n",
    "example 1\n",
    "example 2\n",
    "example 3\n",
    "\"\"\"\n",
    "\n",
    "with open(\"example.txt\", \"w\") as file:\n",
    "    file.write(text_content)\n",
    "\n",
    "with open(\"example.txt\", \"r\") as file:\n",
    "    data = file.read()\n",
    "    \n",
    "print(data)"
   ]
  },
  {
   "cell_type": "code",
   "execution_count": 52,
   "metadata": {},
   "outputs": [
    {
     "name": "stdout",
     "output_type": "stream",
     "text": [
      "[['Name', 'course', 'Fee'], ['Ajay', 'DS', '1000'], ['Bijay', 'ML', '2000']]\n",
      "['Name', 'course', 'Fee']\n",
      "['Ajay', 'DS', '1000']\n",
      "['Bijay', 'ML', '2000']\n",
      "['Name', 'course', 'Fee']\n",
      "['Ajay', 'DS', '1000']\n",
      "['Bijay', 'ML', '2000']\n"
     ]
    }
   ],
   "source": [
    "#CSV -> comma separated values\n",
    "\n",
    "data = [[\"Name\", \"course\", \"Fee\"],\n",
    "       [\"Ajay\", \"DS\", \"1000\"],\n",
    "       [\"Bijay\", \"ML\", \"2000\"]]\n",
    "\n",
    "print(data)\n",
    "\n",
    "for i in data:\n",
    "    print(i)\n",
    "\n",
    "\n",
    "# this writes the file in the csv mode\n",
    "import csv\n",
    "\n",
    "with open(\"example_csv.csv\", \"w\") as f:\n",
    "    w = csv.writer(f)\n",
    "    for i in data:\n",
    "        w.writerow(i)\n",
    "\n",
    "\n",
    "# this reads the csv file made in prev step\n",
    "\n",
    "with open(\"example_csv.csv\", \"r\") as f:\n",
    "    r = csv.reader(f)\n",
    "    for i in r:\n",
    "        print(i)"
   ]
  },
  {
   "cell_type": "code",
   "execution_count": 54,
   "metadata": {},
   "outputs": [
    {
     "name": "stdout",
     "output_type": "stream",
     "text": [
      "<class 'dict'>\n",
      "{'name': 'Ajay', 'Course': 'DA', 'fee': 2900}\n"
     ]
    }
   ],
   "source": [
    "#Json >> javscript object notation \n",
    "data = {\"name\": \"Ajay\",\n",
    "       \"Course\": \"DA\",\n",
    "       \"fee\":  2900}\n",
    "\n",
    "print(type(data))\n",
    "\n",
    "# creates json file\n",
    "import json\n",
    "with open(\"json2.json\", \"w\") as f:\n",
    "    json.dump(data, f)\n",
    "\n",
    "# reads the json file \n",
    "with open(\"json2.json\", \"r\") as f:\n",
    "    data = json.load(f)\n",
    "    \n",
    "print(data)"
   ]
  },
  {
   "cell_type": "code",
   "execution_count": 59,
   "metadata": {},
   "outputs": [
    {
     "name": "stdout",
     "output_type": "stream",
     "text": [
      "b'Hello, World!'\n"
     ]
    }
   ],
   "source": [
    "# Handling the binary file\n",
    "\n",
    "# writing in the file\n",
    "with open(\"test_bin.bin\", \"wb\") as f:\n",
    "    f.write(b\"\\x48\\x65\\x6c\\x6c\\x6f\\x2c\\x20\\x57\\x6f\\x72\\x6c\\x64\\x21\")\n",
    "    \n",
    "# reading from the file\n",
    "with open(\"test_bin.bin\", \"rb\") as f:\n",
    "    print(f.read())\n",
    "    "
   ]
  },
  {
   "cell_type": "code",
   "execution_count": 60,
   "metadata": {},
   "outputs": [
    {
     "name": "stdout",
     "output_type": "stream",
     "text": [
      "b'A computer is a machine that can be programmed to automatically carry out sequences of arithmetic or'\n"
     ]
    }
   ],
   "source": [
    "#Buffered reading --> it allows the program to read the data in chunks\n",
    "\n",
    "#BUFFERED writing\n",
    "\n",
    "import io\n",
    "with open(\"test_buf.txt\", \"wb\") as f:\n",
    "    file = io.BufferedWriter(f)\n",
    "    file.write(b\"A computer is a machine that can be programmed to automatically carry out sequences of arithmetic or logical operations (computation). Modern digital electronic computers can perform generic sets of operations known as programs. These programs enable computers to perform a wide range of tasks. The term computer system may refer to a nominally complete computer that includes the hardware, operating system, software, and peripheral equipment needed and used for full operation; or to a group of computers that are linked and function together, such as a computer network or computer cluster.\")\n",
    "    file.write(b\"hello\")\n",
    "    file.write(b\"I am good\")\n",
    "    file.flush()\n",
    "    \n",
    "#BUFFERED reading\n",
    "with open(\"test_buf.txt\", \"rb\") as f:\n",
    "    file = io.BufferedReader(f)\n",
    "    data = file.read(100) #100 bytes\n",
    "    print(data)"
   ]
  }
 ],
 "metadata": {
  "kernelspec": {
   "display_name": "Python 3",
   "language": "python",
   "name": "python3"
  },
  "language_info": {
   "codemirror_mode": {
    "name": "ipython",
    "version": 3
   },
   "file_extension": ".py",
   "mimetype": "text/x-python",
   "name": "python",
   "nbconvert_exporter": "python",
   "pygments_lexer": "ipython3",
   "version": "3.9.6"
  }
 },
 "nbformat": 4,
 "nbformat_minor": 2
}
