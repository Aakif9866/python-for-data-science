{
 "cells": [
  {
   "cell_type": "code",
   "execution_count": 1,
   "metadata": {},
   "outputs": [
    {
     "name": "stdout",
     "output_type": "stream",
     "text": [
      "The current no is 0\n",
      "The current no is 1\n",
      "The current no is 2\n",
      "The current no is 3\n",
      "The current no is 4\n",
      "The current no is 5\n",
      "The current no is 6\n",
      "The current no is 7\n",
      "The current no is 8\n",
      "The current no is 9\n"
     ]
    }
   ],
   "source": [
    "for i in range(10):\n",
    "    print(\"The current no is\", i)\n",
    "# printing is not the best way to check for errors\n",
    "# because console can not always be present\n"
   ]
  },
  {
   "cell_type": "code",
   "execution_count": 15,
   "metadata": {},
   "outputs": [],
   "source": [
    "#logging>> keep track of \n",
    "#logging module keep track of events in a software run\n",
    "\n",
    "import logging\n",
    "\n",
    "#logging supports different levels of logging which helps to catrgorize messages based on their severity\n",
    "\n",
    "logging.basicConfig(filename = \"test.log\", level = logging.INFO)\n",
    "# logging happens in a seperate file\n",
    "# here it happens in test.log\n",
    "logging.info(\"This is my normal information about the software run\")\n",
    "logging.error(\"This is the error msg\")\n",
    "logging.warning(\"This is my warning\")\n",
    "logging.debug(\"This is my msg for debugging\")\n",
    "logging.critical(\"This is critical msg\")\n",
    "logging.shutdown() # to stop logging\n",
    "logging.shutdown()"
   ]
  },
  {
   "cell_type": "markdown",
   "metadata": {},
   "source": [
    "1. DEBUG >>  lowest level, debugging msg and variables\n",
    "2. INFO >> the things are working as expected \n",
    "3. WARNING >> potential issues\n",
    "4. ERROR >> serious problem\n",
    "5. CRITICAL >> termination of progaram"
   ]
  },
  {
   "cell_type": "markdown",
   "metadata": {},
   "source": [
    "#### we can check the time and message of logging using similar syntax"
   ]
  },
  {
   "cell_type": "code",
   "execution_count": 9,
   "metadata": {},
   "outputs": [],
   "source": [
    "import logging\n",
    "\n",
    "logging.basicConfig(filename = \"test_new2.log\" , level = logging.DEBUG ,format = '%(asctime)s %(message)s'  )\n",
    "logging.debug(\"This msg is for debugging\")\n",
    "logging.info(\"This is my info msg\")\n",
    "logging.warning(\"This is my warning msg\")\n",
    "logging.shutdown()"
   ]
  },
  {
   "cell_type": "code",
   "execution_count": 10,
   "metadata": {},
   "outputs": [],
   "source": [
    "import logging\n",
    "logging.basicConfig(filename = \"test_new1.log\" , level = logging.DEBUG ,format = '%(asctime)s %(levelname)s %(message)s'  )"
   ]
  },
  {
   "cell_type": "code",
   "execution_count": 12,
   "metadata": {},
   "outputs": [],
   "source": [
    "logging.debug(\"debugging message\")\n",
    "logging.info(\"info message\")\n",
    "logging.shutdown()"
   ]
  },
  {
   "cell_type": "code",
   "execution_count": 16,
   "metadata": {},
   "outputs": [],
   "source": [
    "import logging\n",
    "logging.basicConfig(filename = \"program.log\" , level = logging.DEBUG ,format = '%(asctime)s %(levelname)s %(message)s'  )\n",
    "l = [1, \"hello\", [2, \"world\"], 3, [\"python\", 4]]\n",
    "\n",
    "#write a prog to separate the integer and string in two list separfately"
   ]
  },
  {
   "cell_type": "code",
   "execution_count": 17,
   "metadata": {},
   "outputs": [],
   "source": [
    "l1_int = []\n",
    "l2_str = []\n",
    "\n",
    "for i in l:\n",
    "    logging.info(f\"processing each element {i}\")\n",
    "    \n",
    "    if type(i) == list:\n",
    "        for j in i:\n",
    "            logging.info(f\"processing sublist element: {j}\")\n",
    "            if type(j) == int:\n",
    "                l1_int.append(j)\n",
    "    elif type(i) == int:\n",
    "        l1_int.append(i)\n",
    "    else:\n",
    "        l2_str.append(i)\n",
    "logging.info(f\"The final result is: {l1_int}, {l2_str}\")\n",
    "logging.shutdown()"
   ]
  },
  {
   "cell_type": "code",
   "execution_count": null,
   "metadata": {},
   "outputs": [],
   "source": []
  }
 ],
 "metadata": {
  "kernelspec": {
   "display_name": "Python 3",
   "language": "python",
   "name": "python3"
  },
  "language_info": {
   "codemirror_mode": {
    "name": "ipython",
    "version": 3
   },
   "file_extension": ".py",
   "mimetype": "text/x-python",
   "name": "python",
   "nbconvert_exporter": "python",
   "pygments_lexer": "ipython3",
   "version": "3.9.6"
  }
 },
 "nbformat": 4,
 "nbformat_minor": 2
}
